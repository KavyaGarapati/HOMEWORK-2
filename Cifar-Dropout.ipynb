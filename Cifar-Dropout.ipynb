{
  "nbformat": 4,
  "nbformat_minor": 0,
  "metadata": {
    "colab": {
      "name": "cifar sample.ipynb",
      "version": "0.3.2",
      "provenance": [],
      "collapsed_sections": [],
      "include_colab_link": true
    },
    "kernelspec": {
      "name": "python3",
      "display_name": "Python 3"
    }
  },
  "cells": [
    {
      "cell_type": "markdown",
      "metadata": {
        "id": "view-in-github",
        "colab_type": "text"
      },
      "source": [
        "<a href=\"https://colab.research.google.com/github/KavyaGarapati/HOMEWORK-2/blob/master/Cifar-Dropout.ipynb\" target=\"_parent\"><img src=\"https://colab.research.google.com/assets/colab-badge.svg\" alt=\"Open In Colab\"/></a>"
      ]
    },
    {
      "metadata": {
        "id": "euBY8BV2Ucb2",
        "colab_type": "code",
        "colab": {}
      },
      "cell_type": "code",
      "source": [
        "import keras\n",
        "import keras\n",
        "from keras.datasets import cifar10\n",
        "from keras.preprocessing.image import ImageDataGenerator\n",
        "from keras.models import Sequential\n",
        "from keras.layers import Dense, Dropout, Activation, Flatten\n",
        "from keras.layers import Conv2D, MaxPooling2D\n",
        "import os\n"
      ],
      "execution_count": 0,
      "outputs": []
    },
    {
      "metadata": {
        "id": "cjG5wkavUiUW",
        "colab_type": "code",
        "colab": {}
      },
      "cell_type": "code",
      "source": [
        "batch_size = 32\n",
        "num_classes = 10\n",
        "epochs = 100\n",
        "data_augmentation = True\n",
        "num_predictions = 20\n",
        "save_dir = os.path.join(os.getcwd(), 'saved_models')\n",
        "model_name = 'keras_cifar10_trained_model.h5'"
      ],
      "execution_count": 0,
      "outputs": []
    },
    {
      "metadata": {
        "id": "7-rApyn9Ulp7",
        "colab_type": "code",
        "outputId": "c4dc531e-ebe3-4421-b94e-dea33cd02d22",
        "colab": {
          "base_uri": "https://localhost:8080/",
          "height": 68
        }
      },
      "cell_type": "code",
      "source": [
        "(x_train, y_train), (x_test, y_test) = cifar10.load_data()\n",
        "print('x_train shape:', x_train.shape)\n",
        "print(x_train.shape[0], 'train samples')\n",
        "print(x_test.shape[0], 'test samples')"
      ],
      "execution_count": 33,
      "outputs": [
        {
          "output_type": "stream",
          "text": [
            "x_train shape: (50000, 32, 32, 3)\n",
            "50000 train samples\n",
            "10000 test samples\n"
          ],
          "name": "stdout"
        }
      ]
    },
    {
      "metadata": {
        "id": "Xv1-L0cVUpL3",
        "colab_type": "code",
        "colab": {}
      },
      "cell_type": "code",
      "source": [
        "is_converted_categorical = False"
      ],
      "execution_count": 0,
      "outputs": []
    },
    {
      "metadata": {
        "id": "zZfENjlUVBLm",
        "colab_type": "code",
        "colab": {}
      },
      "cell_type": "code",
      "source": [
        "if(not is_converted_categorical):\n",
        "  y_train = keras.utils.to_categorical(y_train, num_classes)\n",
        "  y_test = keras.utils.to_categorical(y_test, num_classes)\n",
        "  is_converted_categorical = True\n"
      ],
      "execution_count": 0,
      "outputs": []
    },
    {
      "metadata": {
        "id": "K60TEm-uVEcY",
        "colab_type": "code",
        "outputId": "3d2df8d2-6290-46ff-8e5c-b2cafc1cb563",
        "colab": {
          "base_uri": "https://localhost:8080/",
          "height": 34
        }
      },
      "cell_type": "code",
      "source": [
        "y_train.shape"
      ],
      "execution_count": 36,
      "outputs": [
        {
          "output_type": "execute_result",
          "data": {
            "text/plain": [
              "(50000, 10)"
            ]
          },
          "metadata": {
            "tags": []
          },
          "execution_count": 36
        }
      ]
    },
    {
      "metadata": {
        "id": "cFsKlINmVHTf",
        "colab_type": "code",
        "colab": {}
      },
      "cell_type": "code",
      "source": [
        "model = Sequential()\n",
        "model.add(Conv2D(32, (5, 5), padding='same',\n",
        "                 input_shape=x_train.shape[1:]))\n",
        "model.add(Activation('relu'))\n",
        "model.add(Conv2D(32, (5, 5)))\n",
        "model.add(Activation('relu'))\n",
        "model.add(MaxPooling2D(pool_size=(2, 2)))\n",
        "model.add(Dropout(0.25))\n",
        "\n",
        "model.add(Conv2D(64, (5, 5), padding='same'))\n",
        "model.add(Activation('relu'))\n",
        "model.add(Conv2D(64, (5, 5)))\n",
        "model.add(Activation('relu'))\n",
        "model.add(MaxPooling2D(pool_size=(2, 2)))\n",
        "model.add(Dropout(0.25))\n",
        "\n",
        "model.add(Flatten())\n",
        "model.add(Dense(512))\n",
        "model.add(Activation('relu'))\n",
        "model.add(Dropout(0.5))\n",
        "model.add(Dense(num_classes))\n",
        "model.add(Activation('softmax'))"
      ],
      "execution_count": 0,
      "outputs": []
    },
    {
      "metadata": {
        "id": "oLCv7LCnVVxp",
        "colab_type": "code",
        "outputId": "31d7e69e-5d6d-4418-9a59-04ca528f47f1",
        "colab": {
          "base_uri": "https://localhost:8080/",
          "height": 34
        }
      },
      "cell_type": "code",
      "source": [
        "x_train.shape[1:]"
      ],
      "execution_count": 38,
      "outputs": [
        {
          "output_type": "execute_result",
          "data": {
            "text/plain": [
              "(32, 32, 3)"
            ]
          },
          "metadata": {
            "tags": []
          },
          "execution_count": 38
        }
      ]
    },
    {
      "metadata": {
        "id": "JCBpxWKUVby5",
        "colab_type": "code",
        "outputId": "5d0d080b-8a66-4c78-f1db-fd30938d06d4",
        "colab": {
          "base_uri": "https://localhost:8080/",
          "height": 748
        }
      },
      "cell_type": "code",
      "source": [
        "model.summary()"
      ],
      "execution_count": 39,
      "outputs": [
        {
          "output_type": "stream",
          "text": [
            "_________________________________________________________________\n",
            "Layer (type)                 Output Shape              Param #   \n",
            "=================================================================\n",
            "conv2d_9 (Conv2D)            (None, 32, 32, 32)        2432      \n",
            "_________________________________________________________________\n",
            "activation_13 (Activation)   (None, 32, 32, 32)        0         \n",
            "_________________________________________________________________\n",
            "conv2d_10 (Conv2D)           (None, 28, 28, 32)        25632     \n",
            "_________________________________________________________________\n",
            "activation_14 (Activation)   (None, 28, 28, 32)        0         \n",
            "_________________________________________________________________\n",
            "max_pooling2d_5 (MaxPooling2 (None, 14, 14, 32)        0         \n",
            "_________________________________________________________________\n",
            "dropout_7 (Dropout)          (None, 14, 14, 32)        0         \n",
            "_________________________________________________________________\n",
            "conv2d_11 (Conv2D)           (None, 14, 14, 64)        51264     \n",
            "_________________________________________________________________\n",
            "activation_15 (Activation)   (None, 14, 14, 64)        0         \n",
            "_________________________________________________________________\n",
            "conv2d_12 (Conv2D)           (None, 10, 10, 64)        102464    \n",
            "_________________________________________________________________\n",
            "activation_16 (Activation)   (None, 10, 10, 64)        0         \n",
            "_________________________________________________________________\n",
            "max_pooling2d_6 (MaxPooling2 (None, 5, 5, 64)          0         \n",
            "_________________________________________________________________\n",
            "dropout_8 (Dropout)          (None, 5, 5, 64)          0         \n",
            "_________________________________________________________________\n",
            "flatten_3 (Flatten)          (None, 1600)              0         \n",
            "_________________________________________________________________\n",
            "dense_5 (Dense)              (None, 512)               819712    \n",
            "_________________________________________________________________\n",
            "activation_17 (Activation)   (None, 512)               0         \n",
            "_________________________________________________________________\n",
            "dropout_9 (Dropout)          (None, 512)               0         \n",
            "_________________________________________________________________\n",
            "dense_6 (Dense)              (None, 10)                5130      \n",
            "_________________________________________________________________\n",
            "activation_18 (Activation)   (None, 10)                0         \n",
            "=================================================================\n",
            "Total params: 1,006,634\n",
            "Trainable params: 1,006,634\n",
            "Non-trainable params: 0\n",
            "_________________________________________________________________\n"
          ],
          "name": "stdout"
        }
      ]
    },
    {
      "metadata": {
        "id": "DAPBeiovVnqO",
        "colab_type": "code",
        "colab": {}
      },
      "cell_type": "code",
      "source": [
        "# initiate RMSprop optimizer\n",
        "opt = keras.optimizers.rmsprop(lr=0.0001, decay=1e-6)\n"
      ],
      "execution_count": 0,
      "outputs": []
    },
    {
      "metadata": {
        "id": "s-PXRT08Vo2F",
        "colab_type": "code",
        "colab": {}
      },
      "cell_type": "code",
      "source": [
        "model.compile(loss='categorical_crossentropy',\n",
        "              optimizer=opt,\n",
        "              metrics=['accuracy'])"
      ],
      "execution_count": 0,
      "outputs": []
    },
    {
      "metadata": {
        "id": "DEJOsa0eVr4t",
        "colab_type": "code",
        "colab": {}
      },
      "cell_type": "code",
      "source": [
        "x_train = x_train.astype('float32')\n",
        "x_test = x_test.astype('float32')\n",
        "x_train /= 255\n",
        "x_test /= 255"
      ],
      "execution_count": 0,
      "outputs": []
    },
    {
      "metadata": {
        "id": "SQgJdmwtVu6e",
        "colab_type": "code",
        "outputId": "8809428a-9b8b-4a28-a047-180d3e6f6804",
        "colab": {
          "base_uri": "https://localhost:8080/",
          "height": 1768
        }
      },
      "cell_type": "code",
      "source": [
        "model.fit(x_train, y_train,\n",
        "              batch_size=batch_size,\n",
        "              epochs=epochs,\n",
        "              validation_data=(x_test, y_test),\n",
        "              shuffle=True)"
      ],
      "execution_count": 0,
      "outputs": [
        {
          "output_type": "stream",
          "text": [
            "Train on 50000 samples, validate on 10000 samples\n",
            "Epoch 1/100\n",
            "50000/50000 [==============================] - 543s 11ms/step - loss: 1.7948 - acc: 0.3375 - val_loss: 1.4840 - val_acc: 0.4742\n",
            "Epoch 2/100\n",
            "50000/50000 [==============================] - 537s 11ms/step - loss: 1.4357 - acc: 0.4780 - val_loss: 1.3323 - val_acc: 0.5251\n",
            "Epoch 3/100\n",
            "50000/50000 [==============================] - 533s 11ms/step - loss: 1.2827 - acc: 0.5443 - val_loss: 1.1657 - val_acc: 0.5869\n",
            "Epoch 4/100\n",
            "50000/50000 [==============================] - 517s 10ms/step - loss: 1.1731 - acc: 0.5832 - val_loss: 1.0923 - val_acc: 0.6136\n",
            "Epoch 5/100\n",
            "50000/50000 [==============================] - 519s 10ms/step - loss: 1.0849 - acc: 0.6169 - val_loss: 1.0874 - val_acc: 0.6180\n",
            "Epoch 6/100\n",
            "50000/50000 [==============================] - 530s 11ms/step - loss: 1.0169 - acc: 0.6423 - val_loss: 0.9900 - val_acc: 0.6510\n",
            "Epoch 7/100\n",
            "50000/50000 [==============================] - 535s 11ms/step - loss: 0.9549 - acc: 0.6643 - val_loss: 0.9275 - val_acc: 0.6728\n",
            "Epoch 8/100\n",
            "50000/50000 [==============================] - 532s 11ms/step - loss: 0.9096 - acc: 0.6812 - val_loss: 0.8723 - val_acc: 0.6970\n",
            "Epoch 9/100\n",
            "50000/50000 [==============================] - 528s 11ms/step - loss: 0.8681 - acc: 0.6967 - val_loss: 0.8329 - val_acc: 0.7124\n",
            "Epoch 10/100\n",
            "50000/50000 [==============================] - 521s 10ms/step - loss: 0.8304 - acc: 0.7106 - val_loss: 0.8518 - val_acc: 0.7098\n",
            "Epoch 11/100\n",
            "50000/50000 [==============================] - 514s 10ms/step - loss: 0.7978 - acc: 0.7211 - val_loss: 0.7694 - val_acc: 0.7356\n",
            "Epoch 12/100\n",
            "50000/50000 [==============================] - 519s 10ms/step - loss: 0.7702 - acc: 0.7322 - val_loss: 0.7676 - val_acc: 0.7359\n",
            "Epoch 13/100\n",
            "50000/50000 [==============================] - 528s 11ms/step - loss: 0.7484 - acc: 0.7406 - val_loss: 0.7280 - val_acc: 0.7524\n",
            "Epoch 14/100\n",
            "50000/50000 [==============================] - 522s 10ms/step - loss: 0.7255 - acc: 0.7474 - val_loss: 0.7086 - val_acc: 0.7531\n",
            "Epoch 15/100\n",
            "50000/50000 [==============================] - 522s 10ms/step - loss: 0.7039 - acc: 0.7566 - val_loss: 0.7429 - val_acc: 0.7493\n",
            "Epoch 16/100\n",
            "50000/50000 [==============================] - 522s 10ms/step - loss: 0.6858 - acc: 0.7627 - val_loss: 0.6869 - val_acc: 0.7638\n",
            "Epoch 17/100\n",
            "50000/50000 [==============================] - 522s 10ms/step - loss: 0.6716 - acc: 0.7671 - val_loss: 0.7186 - val_acc: 0.7553\n",
            "Epoch 18/100\n",
            "50000/50000 [==============================] - 525s 11ms/step - loss: 0.6551 - acc: 0.7730 - val_loss: 0.6825 - val_acc: 0.7666\n",
            "Epoch 19/100\n",
            "50000/50000 [==============================] - 517s 10ms/step - loss: 0.6378 - acc: 0.7812 - val_loss: 0.6953 - val_acc: 0.7642\n",
            "Epoch 20/100\n",
            "50000/50000 [==============================] - 519s 10ms/step - loss: 0.6237 - acc: 0.7834 - val_loss: 0.7784 - val_acc: 0.7476\n",
            "Epoch 21/100\n",
            "50000/50000 [==============================] - 523s 10ms/step - loss: 0.6131 - acc: 0.7892 - val_loss: 0.6605 - val_acc: 0.7751\n",
            "Epoch 22/100\n",
            "50000/50000 [==============================] - 520s 10ms/step - loss: 0.5993 - acc: 0.7920 - val_loss: 0.6536 - val_acc: 0.7771\n",
            "Epoch 23/100\n",
            "50000/50000 [==============================] - 519s 10ms/step - loss: 0.5854 - acc: 0.7982 - val_loss: 0.6826 - val_acc: 0.7744\n",
            "Epoch 24/100\n",
            "50000/50000 [==============================] - 518s 10ms/step - loss: 0.5772 - acc: 0.7994 - val_loss: 0.6853 - val_acc: 0.7739\n",
            "Epoch 25/100\n",
            "50000/50000 [==============================] - 517s 10ms/step - loss: 0.5725 - acc: 0.8032 - val_loss: 0.6346 - val_acc: 0.7913\n",
            "Epoch 26/100\n",
            "50000/50000 [==============================] - 523s 10ms/step - loss: 0.5628 - acc: 0.8061 - val_loss: 0.6592 - val_acc: 0.7795\n",
            "Epoch 27/100\n",
            "50000/50000 [==============================] - 528s 11ms/step - loss: 0.5525 - acc: 0.8091 - val_loss: 0.6511 - val_acc: 0.7789\n",
            "Epoch 28/100\n",
            "50000/50000 [==============================] - 517s 10ms/step - loss: 0.5481 - acc: 0.8125 - val_loss: 0.6805 - val_acc: 0.7780\n",
            "Epoch 29/100\n",
            "50000/50000 [==============================] - 515s 10ms/step - loss: 0.5407 - acc: 0.8145 - val_loss: 0.6780 - val_acc: 0.7720\n",
            "Epoch 30/100\n",
            "50000/50000 [==============================] - 513s 10ms/step - loss: 0.5314 - acc: 0.8181 - val_loss: 0.6470 - val_acc: 0.7890\n",
            "Epoch 31/100\n",
            "50000/50000 [==============================] - 511s 10ms/step - loss: 0.5286 - acc: 0.8202 - val_loss: 0.6202 - val_acc: 0.7967\n",
            "Epoch 32/100\n",
            "50000/50000 [==============================] - 510s 10ms/step - loss: 0.5216 - acc: 0.8209 - val_loss: 0.6467 - val_acc: 0.7862\n",
            "Epoch 33/100\n",
            "50000/50000 [==============================] - 517s 10ms/step - loss: 0.5193 - acc: 0.8231 - val_loss: 0.6726 - val_acc: 0.7836\n",
            "Epoch 34/100\n",
            "50000/50000 [==============================] - 523s 10ms/step - loss: 0.5137 - acc: 0.8255 - val_loss: 0.6483 - val_acc: 0.7852\n",
            "Epoch 35/100\n",
            "50000/50000 [==============================] - 518s 10ms/step - loss: 0.5088 - acc: 0.8258 - val_loss: 0.6422 - val_acc: 0.7937\n",
            "Epoch 36/100\n",
            "50000/50000 [==============================] - 518s 10ms/step - loss: 0.5048 - acc: 0.8305 - val_loss: 0.6543 - val_acc: 0.7945\n",
            "Epoch 37/100\n",
            "50000/50000 [==============================] - 515s 10ms/step - loss: 0.5026 - acc: 0.8283 - val_loss: 0.6519 - val_acc: 0.7930\n",
            "Epoch 38/100\n",
            "50000/50000 [==============================] - 515s 10ms/step - loss: 0.5020 - acc: 0.8294 - val_loss: 0.6502 - val_acc: 0.7911\n",
            "Epoch 39/100\n",
            "50000/50000 [==============================] - 515s 10ms/step - loss: 0.4970 - acc: 0.8325 - val_loss: 0.6931 - val_acc: 0.7863\n",
            "Epoch 40/100\n",
            "50000/50000 [==============================] - 516s 10ms/step - loss: 0.4947 - acc: 0.8338 - val_loss: 0.6964 - val_acc: 0.7848\n",
            "Epoch 41/100\n",
            "50000/50000 [==============================] - 518s 10ms/step - loss: 0.4961 - acc: 0.8333 - val_loss: 0.6895 - val_acc: 0.7895\n",
            "Epoch 42/100\n",
            "50000/50000 [==============================] - 518s 10ms/step - loss: 0.4939 - acc: 0.8349 - val_loss: 0.6571 - val_acc: 0.7864\n",
            "Epoch 43/100\n",
            "50000/50000 [==============================] - 517s 10ms/step - loss: 0.4883 - acc: 0.8349 - val_loss: 0.6792 - val_acc: 0.7946\n",
            "Epoch 44/100\n",
            "50000/50000 [==============================] - 521s 10ms/step - loss: 0.4928 - acc: 0.8335 - val_loss: 0.6568 - val_acc: 0.7948\n",
            "Epoch 45/100\n",
            "50000/50000 [==============================] - 520s 10ms/step - loss: 0.4898 - acc: 0.8366 - val_loss: 0.7382 - val_acc: 0.7823\n",
            "Epoch 46/100\n",
            "50000/50000 [==============================] - 523s 10ms/step - loss: 0.4901 - acc: 0.8384 - val_loss: 0.7298 - val_acc: 0.7787\n",
            "Epoch 47/100\n",
            "50000/50000 [==============================] - 516s 10ms/step - loss: 0.4931 - acc: 0.8364 - val_loss: 0.6831 - val_acc: 0.7881\n",
            "Epoch 48/100\n",
            "50000/50000 [==============================] - 515s 10ms/step - loss: 0.4899 - acc: 0.8380 - val_loss: 0.6409 - val_acc: 0.8001\n",
            "Epoch 49/100\n",
            "50000/50000 [==============================] - 517s 10ms/step - loss: 0.4887 - acc: 0.8376 - val_loss: 0.7034 - val_acc: 0.7815\n",
            "Epoch 50/100\n",
            "50000/50000 [==============================] - 515s 10ms/step - loss: 0.4906 - acc: 0.8379 - val_loss: 0.6523 - val_acc: 0.7990\n",
            "Epoch 51/100\n",
            "30112/50000 [=================>............] - ETA: 3:14 - loss: 0.4791 - acc: 0.8376"
          ],
          "name": "stdout"
        }
      ]
    }
  ]
}