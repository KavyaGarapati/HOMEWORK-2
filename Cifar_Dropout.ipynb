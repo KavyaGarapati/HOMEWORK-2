{
  "nbformat": 4,
  "nbformat_minor": 0,
  "metadata": {
    "colab": {
      "name": "Cifar - Dropout.ipynb",
      "version": "0.3.2",
      "provenance": [],
      "collapsed_sections": [],
      "include_colab_link": true
    },
    "kernelspec": {
      "name": "python3",
      "display_name": "Python 3"
    },
    "accelerator": "GPU"
  },
  "cells": [
    {
      "cell_type": "markdown",
      "metadata": {
        "id": "view-in-github",
        "colab_type": "text"
      },
      "source": [
        "<a href=\"https://colab.research.google.com/github/KavyaGarapati/HOMEWORK-2/blob/master/Cifar_Dropout.ipynb\" target=\"_parent\"><img src=\"https://colab.research.google.com/assets/colab-badge.svg\" alt=\"Open In Colab\"/></a>"
      ]
    },
    {
      "metadata": {
        "id": "dtS8P1h72vLo",
        "colab_type": "code",
        "outputId": "c34cdbaf-c9a8-44eb-a1f4-37378dfb2c25",
        "colab": {
          "base_uri": "https://localhost:8080/",
          "height": 34
        }
      },
      "cell_type": "code",
      "source": [
        "import keras\n",
        "from keras.datasets import cifar10\n",
        "from keras.preprocessing.image import ImageDataGenerator\n",
        "from keras.models import Sequential\n",
        "from keras.layers import Dense, Dropout, Activation, Flatten\n",
        "from keras.layers import Conv2D, MaxPooling2D\n",
        "import os\n"
      ],
      "execution_count": 0,
      "outputs": [
        {
          "output_type": "stream",
          "text": [
            "Using TensorFlow backend.\n"
          ],
          "name": "stderr"
        }
      ]
    },
    {
      "metadata": {
        "id": "DjZBaDCL2-xm",
        "colab_type": "code",
        "colab": {}
      },
      "cell_type": "code",
      "source": [
        "batch_size = 32\n",
        "num_classes = 10\n",
        "epochs = 200\n",
        "data_augmentation = True\n",
        "num_predictions = 20\n",
        "save_dir = os.path.join(os.getcwd(), 'saved_models')\n",
        "model_name = 'keras_cifar10_trained_model.h5'"
      ],
      "execution_count": 0,
      "outputs": []
    },
    {
      "metadata": {
        "id": "Der8jWaN3D6n",
        "colab_type": "code",
        "outputId": "64c07b97-c4f7-449b-f7b6-d77b267d8f20",
        "colab": {
          "base_uri": "https://localhost:8080/",
          "height": 68
        }
      },
      "cell_type": "code",
      "source": [
        "(x_train, y_train), (x_test, y_test) = cifar10.load_data()\n",
        "print('x_train shape:', x_train.shape)\n",
        "print(x_train.shape[0], 'train samples')\n",
        "print(x_test.shape[0], 'test samples')"
      ],
      "execution_count": 0,
      "outputs": [
        {
          "output_type": "stream",
          "text": [
            "x_train shape: (50000, 32, 32, 3)\n",
            "50000 train samples\n",
            "10000 test samples\n"
          ],
          "name": "stdout"
        }
      ]
    },
    {
      "metadata": {
        "id": "H1d4d6KA3HhA",
        "colab_type": "code",
        "colab": {}
      },
      "cell_type": "code",
      "source": [
        "is_converted_categorical = False"
      ],
      "execution_count": 0,
      "outputs": []
    },
    {
      "metadata": {
        "id": "3qEXi1es3Ma1",
        "colab_type": "code",
        "colab": {}
      },
      "cell_type": "code",
      "source": [
        "if(not is_converted_categorical):\n",
        "  y_train = keras.utils.to_categorical(y_train, num_classes)\n",
        "  y_test = keras.utils.to_categorical(y_test, num_classes)\n",
        "  is_converted_categorical = True\n"
      ],
      "execution_count": 0,
      "outputs": []
    },
    {
      "metadata": {
        "id": "opJ6G1tu3QLy",
        "colab_type": "code",
        "outputId": "2a62c5f6-a9b2-4b68-d5cf-a4eea8c3676b",
        "colab": {
          "base_uri": "https://localhost:8080/",
          "height": 34
        }
      },
      "cell_type": "code",
      "source": [
        "y_train.shape"
      ],
      "execution_count": 0,
      "outputs": [
        {
          "output_type": "execute_result",
          "data": {
            "text/plain": [
              "(50000, 10)"
            ]
          },
          "metadata": {
            "tags": []
          },
          "execution_count": 7
        }
      ]
    },
    {
      "metadata": {
        "id": "SPS3DuUU3ThR",
        "colab_type": "code",
        "outputId": "d301d33a-afc5-4e24-eaa8-57612564f82d",
        "colab": {
          "base_uri": "https://localhost:8080/",
          "height": 139
        }
      },
      "cell_type": "code",
      "source": [
        "model = Sequential()\n",
        "model.add(Conv2D(32, (5, 5), padding='same',\n",
        "                 input_shape=x_train.shape[1:]))\n",
        "model.add(Activation('relu'))\n",
        "model.add(Conv2D(32, (5, 5)))\n",
        "model.add(Activation('relu'))\n",
        "model.add(MaxPooling2D(pool_size=(2, 2)))\n",
        "model.add(Dropout(0.25))\n",
        "\n",
        "model.add(Conv2D(64, (5, 5), padding='same'))\n",
        "model.add(Activation('relu'))\n",
        "model.add(Conv2D(64, (5, 5)))\n",
        "model.add(Activation('relu'))\n",
        "model.add(MaxPooling2D(pool_size=(2, 2)))\n",
        "model.add(Dropout(0.25))\n",
        "\n",
        "model.add(Flatten())\n",
        "model.add(Dense(512))\n",
        "model.add(Activation('relu'))\n",
        "model.add(Dropout(0.5))\n",
        "model.add(Dense(num_classes))\n",
        "model.add(Activation('softmax'))"
      ],
      "execution_count": 0,
      "outputs": [
        {
          "output_type": "stream",
          "text": [
            "WARNING:tensorflow:From /usr/local/lib/python3.6/dist-packages/tensorflow/python/framework/op_def_library.py:263: colocate_with (from tensorflow.python.framework.ops) is deprecated and will be removed in a future version.\n",
            "Instructions for updating:\n",
            "Colocations handled automatically by placer.\n",
            "WARNING:tensorflow:From /usr/local/lib/python3.6/dist-packages/keras/backend/tensorflow_backend.py:3445: calling dropout (from tensorflow.python.ops.nn_ops) with keep_prob is deprecated and will be removed in a future version.\n",
            "Instructions for updating:\n",
            "Please use `rate` instead of `keep_prob`. Rate should be set to `rate = 1 - keep_prob`.\n"
          ],
          "name": "stdout"
        }
      ]
    },
    {
      "metadata": {
        "id": "sDF0ykQc3Zag",
        "colab_type": "code",
        "outputId": "bbcfe668-4e84-43c0-9711-f6b1f30c4c9e",
        "colab": {
          "base_uri": "https://localhost:8080/",
          "height": 34
        }
      },
      "cell_type": "code",
      "source": [
        "x_train.shape[1:]"
      ],
      "execution_count": 0,
      "outputs": [
        {
          "output_type": "execute_result",
          "data": {
            "text/plain": [
              "(32, 32, 3)"
            ]
          },
          "metadata": {
            "tags": []
          },
          "execution_count": 9
        }
      ]
    },
    {
      "metadata": {
        "id": "BPrhAyL-3c4U",
        "colab_type": "code",
        "outputId": "50182a6f-d34d-4191-9737-a095e70b5b17",
        "colab": {
          "base_uri": "https://localhost:8080/",
          "height": 748
        }
      },
      "cell_type": "code",
      "source": [
        "model.summary()"
      ],
      "execution_count": 0,
      "outputs": [
        {
          "output_type": "stream",
          "text": [
            "_________________________________________________________________\n",
            "Layer (type)                 Output Shape              Param #   \n",
            "=================================================================\n",
            "conv2d_1 (Conv2D)            (None, 32, 32, 32)        2432      \n",
            "_________________________________________________________________\n",
            "activation_1 (Activation)    (None, 32, 32, 32)        0         \n",
            "_________________________________________________________________\n",
            "conv2d_2 (Conv2D)            (None, 28, 28, 32)        25632     \n",
            "_________________________________________________________________\n",
            "activation_2 (Activation)    (None, 28, 28, 32)        0         \n",
            "_________________________________________________________________\n",
            "max_pooling2d_1 (MaxPooling2 (None, 14, 14, 32)        0         \n",
            "_________________________________________________________________\n",
            "dropout_1 (Dropout)          (None, 14, 14, 32)        0         \n",
            "_________________________________________________________________\n",
            "conv2d_3 (Conv2D)            (None, 14, 14, 64)        51264     \n",
            "_________________________________________________________________\n",
            "activation_3 (Activation)    (None, 14, 14, 64)        0         \n",
            "_________________________________________________________________\n",
            "conv2d_4 (Conv2D)            (None, 10, 10, 64)        102464    \n",
            "_________________________________________________________________\n",
            "activation_4 (Activation)    (None, 10, 10, 64)        0         \n",
            "_________________________________________________________________\n",
            "max_pooling2d_2 (MaxPooling2 (None, 5, 5, 64)          0         \n",
            "_________________________________________________________________\n",
            "dropout_2 (Dropout)          (None, 5, 5, 64)          0         \n",
            "_________________________________________________________________\n",
            "flatten_1 (Flatten)          (None, 1600)              0         \n",
            "_________________________________________________________________\n",
            "dense_1 (Dense)              (None, 512)               819712    \n",
            "_________________________________________________________________\n",
            "activation_5 (Activation)    (None, 512)               0         \n",
            "_________________________________________________________________\n",
            "dropout_3 (Dropout)          (None, 512)               0         \n",
            "_________________________________________________________________\n",
            "dense_2 (Dense)              (None, 10)                5130      \n",
            "_________________________________________________________________\n",
            "activation_6 (Activation)    (None, 10)                0         \n",
            "=================================================================\n",
            "Total params: 1,006,634\n",
            "Trainable params: 1,006,634\n",
            "Non-trainable params: 0\n",
            "_________________________________________________________________\n"
          ],
          "name": "stdout"
        }
      ]
    },
    {
      "metadata": {
        "id": "gH6jTJLu3jFs",
        "colab_type": "code",
        "colab": {}
      },
      "cell_type": "code",
      "source": [
        "# initiate RMSprop optimizer\n",
        "opt = keras.optimizers.rmsprop(lr=0.0001, decay=1e-6)\n"
      ],
      "execution_count": 0,
      "outputs": []
    },
    {
      "metadata": {
        "id": "xF6IlAPa3qFg",
        "colab_type": "code",
        "colab": {}
      },
      "cell_type": "code",
      "source": [
        "model.compile(loss='categorical_crossentropy',\n",
        "              optimizer=opt,\n",
        "              metrics=['accuracy'])"
      ],
      "execution_count": 0,
      "outputs": []
    },
    {
      "metadata": {
        "id": "_1XRmz6O3v2S",
        "colab_type": "code",
        "colab": {}
      },
      "cell_type": "code",
      "source": [
        "x_train = x_train.astype('float32')\n",
        "x_test = x_test.astype('float32')\n",
        "x_train /= 255\n",
        "x_test /= 255"
      ],
      "execution_count": 0,
      "outputs": []
    },
    {
      "metadata": {
        "id": "uXSCc73F3zAp",
        "colab_type": "code",
        "outputId": "d0dbc263-fcf4-466b-c025-da580448d36e",
        "colab": {
          "base_uri": "https://localhost:8080/",
          "height": 6922
        }
      },
      "cell_type": "code",
      "source": [
        "model.fit(x_train, y_train,\n",
        "              batch_size=batch_size,\n",
        "              epochs=epochs,\n",
        "              validation_data=(x_test, y_test),\n",
        "              shuffle=True)"
      ],
      "execution_count": 0,
      "outputs": [
        {
          "output_type": "stream",
          "text": [
            "WARNING:tensorflow:From /usr/local/lib/python3.6/dist-packages/tensorflow/python/ops/math_ops.py:3066: to_int32 (from tensorflow.python.ops.math_ops) is deprecated and will be removed in a future version.\n",
            "Instructions for updating:\n",
            "Use tf.cast instead.\n",
            "Train on 50000 samples, validate on 10000 samples\n",
            "Epoch 1/200\n",
            "50000/50000 [==============================] - 25s 495us/step - loss: 1.7916 - acc: 0.3386 - val_loss: 1.5232 - val_acc: 0.4542\n",
            "Epoch 2/200\n",
            "50000/50000 [==============================] - 23s 460us/step - loss: 1.4746 - acc: 0.4622 - val_loss: 1.3828 - val_acc: 0.5107\n",
            "Epoch 3/200\n",
            "50000/50000 [==============================] - 23s 459us/step - loss: 1.3187 - acc: 0.5273 - val_loss: 1.3340 - val_acc: 0.5353\n",
            "Epoch 4/200\n",
            "50000/50000 [==============================] - 23s 458us/step - loss: 1.1934 - acc: 0.5735 - val_loss: 1.0871 - val_acc: 0.6118\n",
            "Epoch 5/200\n",
            "50000/50000 [==============================] - 23s 460us/step - loss: 1.1009 - acc: 0.6126 - val_loss: 1.0211 - val_acc: 0.6421\n",
            "Epoch 6/200\n",
            "50000/50000 [==============================] - 23s 458us/step - loss: 1.0292 - acc: 0.6366 - val_loss: 0.9615 - val_acc: 0.6591\n",
            "Epoch 7/200\n",
            "50000/50000 [==============================] - 23s 459us/step - loss: 0.9688 - acc: 0.6595 - val_loss: 0.9299 - val_acc: 0.6721\n",
            "Epoch 8/200\n",
            "50000/50000 [==============================] - 23s 458us/step - loss: 0.9179 - acc: 0.6801 - val_loss: 0.8572 - val_acc: 0.6996\n",
            "Epoch 9/200\n",
            "50000/50000 [==============================] - 23s 459us/step - loss: 0.8700 - acc: 0.6964 - val_loss: 0.8324 - val_acc: 0.7092\n",
            "Epoch 10/200\n",
            "50000/50000 [==============================] - 23s 459us/step - loss: 0.8314 - acc: 0.7116 - val_loss: 0.8282 - val_acc: 0.7090\n",
            "Epoch 11/200\n",
            "50000/50000 [==============================] - 23s 460us/step - loss: 0.8017 - acc: 0.7196 - val_loss: 0.8382 - val_acc: 0.7098\n",
            "Epoch 12/200\n",
            "50000/50000 [==============================] - 23s 459us/step - loss: 0.7715 - acc: 0.7316 - val_loss: 0.7643 - val_acc: 0.7328\n",
            "Epoch 13/200\n",
            "50000/50000 [==============================] - 23s 458us/step - loss: 0.7450 - acc: 0.7415 - val_loss: 0.7350 - val_acc: 0.7435\n",
            "Epoch 14/200\n",
            "50000/50000 [==============================] - 23s 459us/step - loss: 0.7195 - acc: 0.7498 - val_loss: 0.7393 - val_acc: 0.7447\n",
            "Epoch 15/200\n",
            "50000/50000 [==============================] - 23s 458us/step - loss: 0.6939 - acc: 0.7571 - val_loss: 0.7056 - val_acc: 0.7580\n",
            "Epoch 16/200\n",
            "50000/50000 [==============================] - 23s 459us/step - loss: 0.6794 - acc: 0.7651 - val_loss: 0.6889 - val_acc: 0.7599\n",
            "Epoch 17/200\n",
            "50000/50000 [==============================] - 23s 459us/step - loss: 0.6595 - acc: 0.7713 - val_loss: 0.7157 - val_acc: 0.7549\n",
            "Epoch 18/200\n",
            "50000/50000 [==============================] - 23s 457us/step - loss: 0.6467 - acc: 0.7765 - val_loss: 0.7078 - val_acc: 0.7573\n",
            "Epoch 19/200\n",
            "50000/50000 [==============================] - 23s 459us/step - loss: 0.6317 - acc: 0.7828 - val_loss: 0.7019 - val_acc: 0.7656\n",
            "Epoch 20/200\n",
            "50000/50000 [==============================] - 23s 459us/step - loss: 0.6163 - acc: 0.7861 - val_loss: 0.7310 - val_acc: 0.7538\n",
            "Epoch 21/200\n",
            "50000/50000 [==============================] - 23s 458us/step - loss: 0.6004 - acc: 0.7929 - val_loss: 0.6612 - val_acc: 0.7758\n",
            "Epoch 22/200\n",
            "50000/50000 [==============================] - 23s 459us/step - loss: 0.5887 - acc: 0.7966 - val_loss: 0.6615 - val_acc: 0.7761\n",
            "Epoch 23/200\n",
            "50000/50000 [==============================] - 23s 458us/step - loss: 0.5768 - acc: 0.8007 - val_loss: 0.6897 - val_acc: 0.7692\n",
            "Epoch 24/200\n",
            "50000/50000 [==============================] - 23s 458us/step - loss: 0.5627 - acc: 0.8047 - val_loss: 0.6503 - val_acc: 0.7778\n",
            "Epoch 25/200\n",
            "50000/50000 [==============================] - 23s 458us/step - loss: 0.5571 - acc: 0.8077 - val_loss: 0.6493 - val_acc: 0.7801\n",
            "Epoch 26/200\n",
            "50000/50000 [==============================] - 23s 458us/step - loss: 0.5431 - acc: 0.8117 - val_loss: 0.6935 - val_acc: 0.7708\n",
            "Epoch 27/200\n",
            "50000/50000 [==============================] - 23s 459us/step - loss: 0.5330 - acc: 0.8168 - val_loss: 0.6394 - val_acc: 0.7857\n",
            "Epoch 28/200\n",
            "50000/50000 [==============================] - 23s 461us/step - loss: 0.5256 - acc: 0.8187 - val_loss: 0.6716 - val_acc: 0.7777\n",
            "Epoch 29/200\n",
            "50000/50000 [==============================] - 23s 459us/step - loss: 0.5135 - acc: 0.8216 - val_loss: 0.6398 - val_acc: 0.7933\n",
            "Epoch 30/200\n",
            "50000/50000 [==============================] - 23s 460us/step - loss: 0.5091 - acc: 0.8244 - val_loss: 0.6294 - val_acc: 0.7883\n",
            "Epoch 31/200\n",
            "50000/50000 [==============================] - 23s 458us/step - loss: 0.5043 - acc: 0.8261 - val_loss: 0.6607 - val_acc: 0.7889\n",
            "Epoch 32/200\n",
            "50000/50000 [==============================] - 23s 459us/step - loss: 0.4947 - acc: 0.8309 - val_loss: 0.6305 - val_acc: 0.7916\n",
            "Epoch 33/200\n",
            "50000/50000 [==============================] - 23s 457us/step - loss: 0.4899 - acc: 0.8327 - val_loss: 0.6106 - val_acc: 0.7978\n",
            "Epoch 34/200\n",
            "50000/50000 [==============================] - 23s 457us/step - loss: 0.4829 - acc: 0.8317 - val_loss: 0.7032 - val_acc: 0.7759\n",
            "Epoch 35/200\n",
            "50000/50000 [==============================] - 23s 457us/step - loss: 0.4763 - acc: 0.8343 - val_loss: 0.6235 - val_acc: 0.7965\n",
            "Epoch 36/200\n",
            "50000/50000 [==============================] - 23s 458us/step - loss: 0.4700 - acc: 0.8385 - val_loss: 0.6276 - val_acc: 0.7970\n",
            "Epoch 37/200\n",
            "50000/50000 [==============================] - 23s 457us/step - loss: 0.4645 - acc: 0.8393 - val_loss: 0.6942 - val_acc: 0.7719\n",
            "Epoch 38/200\n",
            "50000/50000 [==============================] - 23s 458us/step - loss: 0.4586 - acc: 0.8431 - val_loss: 0.6237 - val_acc: 0.7961\n",
            "Epoch 39/200\n",
            "50000/50000 [==============================] - 23s 458us/step - loss: 0.4560 - acc: 0.8428 - val_loss: 0.6640 - val_acc: 0.7924\n",
            "Epoch 40/200\n",
            "50000/50000 [==============================] - 23s 459us/step - loss: 0.4530 - acc: 0.8438 - val_loss: 0.6343 - val_acc: 0.7921\n",
            "Epoch 41/200\n",
            "50000/50000 [==============================] - 23s 458us/step - loss: 0.4464 - acc: 0.8474 - val_loss: 0.6503 - val_acc: 0.7951\n",
            "Epoch 42/200\n",
            "50000/50000 [==============================] - 23s 458us/step - loss: 0.4428 - acc: 0.8479 - val_loss: 0.6176 - val_acc: 0.7984\n",
            "Epoch 43/200\n",
            "50000/50000 [==============================] - 23s 457us/step - loss: 0.4376 - acc: 0.8515 - val_loss: 0.6518 - val_acc: 0.7920\n",
            "Epoch 44/200\n",
            "50000/50000 [==============================] - 23s 457us/step - loss: 0.4352 - acc: 0.8499 - val_loss: 0.6590 - val_acc: 0.7869\n",
            "Epoch 45/200\n",
            "50000/50000 [==============================] - 23s 459us/step - loss: 0.4290 - acc: 0.8529 - val_loss: 0.6852 - val_acc: 0.7925\n",
            "Epoch 46/200\n",
            "50000/50000 [==============================] - 23s 458us/step - loss: 0.4298 - acc: 0.8531 - val_loss: 0.6226 - val_acc: 0.7953\n",
            "Epoch 47/200\n",
            "50000/50000 [==============================] - 23s 459us/step - loss: 0.4237 - acc: 0.8549 - val_loss: 0.6847 - val_acc: 0.7939\n",
            "Epoch 48/200\n",
            "50000/50000 [==============================] - 23s 458us/step - loss: 0.4234 - acc: 0.8545 - val_loss: 0.6544 - val_acc: 0.7923\n",
            "Epoch 49/200\n",
            "50000/50000 [==============================] - 23s 458us/step - loss: 0.4213 - acc: 0.8577 - val_loss: 0.6314 - val_acc: 0.8017\n",
            "Epoch 50/200\n",
            "50000/50000 [==============================] - 23s 458us/step - loss: 0.4148 - acc: 0.8582 - val_loss: 0.7021 - val_acc: 0.7896\n",
            "Epoch 51/200\n",
            "50000/50000 [==============================] - 23s 458us/step - loss: 0.4167 - acc: 0.8594 - val_loss: 0.6939 - val_acc: 0.7869\n",
            "Epoch 52/200\n",
            "50000/50000 [==============================] - 23s 457us/step - loss: 0.4168 - acc: 0.8590 - val_loss: 0.7023 - val_acc: 0.7851\n",
            "Epoch 53/200\n",
            "50000/50000 [==============================] - 23s 457us/step - loss: 0.4080 - acc: 0.8601 - val_loss: 0.6666 - val_acc: 0.7988\n",
            "Epoch 54/200\n",
            "50000/50000 [==============================] - 23s 457us/step - loss: 0.4070 - acc: 0.8624 - val_loss: 0.7265 - val_acc: 0.7991\n",
            "Epoch 55/200\n",
            "50000/50000 [==============================] - 23s 458us/step - loss: 0.4024 - acc: 0.8629 - val_loss: 0.6539 - val_acc: 0.7964\n",
            "Epoch 56/200\n",
            "50000/50000 [==============================] - 23s 458us/step - loss: 0.3978 - acc: 0.8661 - val_loss: 0.6577 - val_acc: 0.7987\n",
            "Epoch 57/200\n",
            "50000/50000 [==============================] - 23s 458us/step - loss: 0.3998 - acc: 0.8658 - val_loss: 0.6329 - val_acc: 0.8017\n",
            "Epoch 58/200\n",
            "50000/50000 [==============================] - 23s 459us/step - loss: 0.4038 - acc: 0.8638 - val_loss: 0.6751 - val_acc: 0.7981\n",
            "Epoch 59/200\n",
            "50000/50000 [==============================] - 23s 459us/step - loss: 0.3957 - acc: 0.8648 - val_loss: 0.6745 - val_acc: 0.8005\n",
            "Epoch 60/200\n",
            "50000/50000 [==============================] - 23s 460us/step - loss: 0.3965 - acc: 0.8673 - val_loss: 0.6477 - val_acc: 0.7952\n",
            "Epoch 61/200\n",
            "50000/50000 [==============================] - 23s 458us/step - loss: 0.3957 - acc: 0.8669 - val_loss: 0.6936 - val_acc: 0.7877\n",
            "Epoch 62/200\n",
            "50000/50000 [==============================] - 23s 459us/step - loss: 0.3962 - acc: 0.8663 - val_loss: 0.7567 - val_acc: 0.7875\n",
            "Epoch 63/200\n",
            "50000/50000 [==============================] - 23s 459us/step - loss: 0.3925 - acc: 0.8673 - val_loss: 0.7893 - val_acc: 0.7641\n",
            "Epoch 64/200\n",
            "50000/50000 [==============================] - 23s 459us/step - loss: 0.3947 - acc: 0.8669 - val_loss: 0.7114 - val_acc: 0.7863\n",
            "Epoch 65/200\n",
            "50000/50000 [==============================] - 23s 458us/step - loss: 0.3964 - acc: 0.8672 - val_loss: 0.6974 - val_acc: 0.7960\n",
            "Epoch 66/200\n",
            "50000/50000 [==============================] - 23s 457us/step - loss: 0.3906 - acc: 0.8688 - val_loss: 0.6852 - val_acc: 0.7937\n",
            "Epoch 67/200\n",
            "50000/50000 [==============================] - 23s 457us/step - loss: 0.3919 - acc: 0.8689 - val_loss: 0.7001 - val_acc: 0.7910\n",
            "Epoch 68/200\n",
            "50000/50000 [==============================] - 23s 457us/step - loss: 0.3874 - acc: 0.8692 - val_loss: 0.7007 - val_acc: 0.7945\n",
            "Epoch 69/200\n",
            "50000/50000 [==============================] - 23s 458us/step - loss: 0.3928 - acc: 0.8692 - val_loss: 0.6868 - val_acc: 0.7903\n",
            "Epoch 70/200\n",
            "50000/50000 [==============================] - 23s 458us/step - loss: 0.3896 - acc: 0.8699 - val_loss: 0.7122 - val_acc: 0.7917\n",
            "Epoch 71/200\n",
            "50000/50000 [==============================] - 23s 457us/step - loss: 0.3886 - acc: 0.8707 - val_loss: 0.6709 - val_acc: 0.7979\n",
            "Epoch 72/200\n",
            "50000/50000 [==============================] - 23s 458us/step - loss: 0.3854 - acc: 0.8711 - val_loss: 0.7299 - val_acc: 0.7875\n",
            "Epoch 73/200\n",
            "50000/50000 [==============================] - 23s 459us/step - loss: 0.3819 - acc: 0.8725 - val_loss: 0.7184 - val_acc: 0.7968\n",
            "Epoch 74/200\n",
            "50000/50000 [==============================] - 23s 458us/step - loss: 0.3866 - acc: 0.8718 - val_loss: 0.6945 - val_acc: 0.7945\n",
            "Epoch 75/200\n",
            "50000/50000 [==============================] - 23s 458us/step - loss: 0.3852 - acc: 0.8727 - val_loss: 0.7566 - val_acc: 0.7946\n",
            "Epoch 76/200\n",
            "50000/50000 [==============================] - 23s 456us/step - loss: 0.3860 - acc: 0.8722 - val_loss: 0.6935 - val_acc: 0.7913\n",
            "Epoch 77/200\n",
            "50000/50000 [==============================] - 23s 459us/step - loss: 0.3823 - acc: 0.8736 - val_loss: 0.7345 - val_acc: 0.7904\n",
            "Epoch 78/200\n",
            "50000/50000 [==============================] - 23s 458us/step - loss: 0.3907 - acc: 0.8704 - val_loss: 0.7676 - val_acc: 0.7633\n",
            "Epoch 79/200\n",
            "50000/50000 [==============================] - 23s 459us/step - loss: 0.3883 - acc: 0.8717 - val_loss: 0.7032 - val_acc: 0.7902\n",
            "Epoch 80/200\n",
            "50000/50000 [==============================] - 23s 458us/step - loss: 0.3890 - acc: 0.8717 - val_loss: 0.7859 - val_acc: 0.7867\n",
            "Epoch 81/200\n",
            "50000/50000 [==============================] - 23s 458us/step - loss: 0.3897 - acc: 0.8707 - val_loss: 0.7321 - val_acc: 0.7835\n",
            "Epoch 82/200\n",
            "50000/50000 [==============================] - 23s 457us/step - loss: 0.3864 - acc: 0.8723 - val_loss: 0.6827 - val_acc: 0.7989\n",
            "Epoch 83/200\n",
            "50000/50000 [==============================] - 23s 459us/step - loss: 0.3859 - acc: 0.8732 - val_loss: 0.7311 - val_acc: 0.7879\n",
            "Epoch 84/200\n",
            "50000/50000 [==============================] - 23s 458us/step - loss: 0.3936 - acc: 0.8710 - val_loss: 0.6921 - val_acc: 0.7944\n",
            "Epoch 85/200\n",
            "50000/50000 [==============================] - 23s 457us/step - loss: 0.3944 - acc: 0.8711 - val_loss: 0.8395 - val_acc: 0.7755\n",
            "Epoch 86/200\n",
            "50000/50000 [==============================] - 23s 458us/step - loss: 0.3918 - acc: 0.8707 - val_loss: 0.6578 - val_acc: 0.7973\n",
            "Epoch 87/200\n",
            "50000/50000 [==============================] - 23s 457us/step - loss: 0.3943 - acc: 0.8711 - val_loss: 0.7290 - val_acc: 0.7920\n",
            "Epoch 88/200\n",
            "50000/50000 [==============================] - 23s 457us/step - loss: 0.3887 - acc: 0.8742 - val_loss: 0.7264 - val_acc: 0.7925\n",
            "Epoch 89/200\n",
            "50000/50000 [==============================] - 23s 460us/step - loss: 0.4011 - acc: 0.8708 - val_loss: 0.6567 - val_acc: 0.7943\n",
            "Epoch 90/200\n",
            "50000/50000 [==============================] - 23s 458us/step - loss: 0.3922 - acc: 0.8733 - val_loss: 0.8545 - val_acc: 0.7715\n",
            "Epoch 91/200\n",
            "50000/50000 [==============================] - 23s 457us/step - loss: 0.3967 - acc: 0.8711 - val_loss: 0.7163 - val_acc: 0.7814\n",
            "Epoch 92/200\n",
            "50000/50000 [==============================] - 23s 459us/step - loss: 0.3968 - acc: 0.8714 - val_loss: 0.7925 - val_acc: 0.7922\n",
            "Epoch 93/200\n",
            "50000/50000 [==============================] - 23s 457us/step - loss: 0.3951 - acc: 0.8724 - val_loss: 0.7189 - val_acc: 0.7795\n",
            "Epoch 94/200\n",
            "50000/50000 [==============================] - 23s 460us/step - loss: 0.3947 - acc: 0.8706 - val_loss: 0.7455 - val_acc: 0.7838\n",
            "Epoch 95/200\n",
            "50000/50000 [==============================] - 23s 459us/step - loss: 0.4015 - acc: 0.8713 - val_loss: 0.7830 - val_acc: 0.7969\n",
            "Epoch 96/200\n",
            "50000/50000 [==============================] - 23s 459us/step - loss: 0.4012 - acc: 0.8699 - val_loss: 0.7413 - val_acc: 0.7858\n",
            "Epoch 97/200\n",
            "50000/50000 [==============================] - 23s 458us/step - loss: 0.3982 - acc: 0.8717 - val_loss: 0.7019 - val_acc: 0.7941\n",
            "Epoch 98/200\n",
            "50000/50000 [==============================] - 23s 457us/step - loss: 0.3993 - acc: 0.8713 - val_loss: 0.7057 - val_acc: 0.7953\n",
            "Epoch 99/200\n",
            "50000/50000 [==============================] - 23s 459us/step - loss: 0.4043 - acc: 0.8702 - val_loss: 0.7086 - val_acc: 0.7873\n",
            "Epoch 100/200\n",
            "50000/50000 [==============================] - 23s 459us/step - loss: 0.4015 - acc: 0.8716 - val_loss: 0.7496 - val_acc: 0.7913\n",
            "Epoch 101/200\n",
            "50000/50000 [==============================] - 23s 457us/step - loss: 0.4041 - acc: 0.8698 - val_loss: 0.7216 - val_acc: 0.7889\n",
            "Epoch 102/200\n",
            "50000/50000 [==============================] - 23s 459us/step - loss: 0.3978 - acc: 0.8713 - val_loss: 0.8030 - val_acc: 0.7619\n",
            "Epoch 103/200\n",
            "50000/50000 [==============================] - 23s 458us/step - loss: 0.4113 - acc: 0.8692 - val_loss: 0.7174 - val_acc: 0.7984\n",
            "Epoch 104/200\n",
            "50000/50000 [==============================] - 23s 458us/step - loss: 0.4048 - acc: 0.8707 - val_loss: 0.6880 - val_acc: 0.7839\n",
            "Epoch 105/200\n",
            "50000/50000 [==============================] - 23s 459us/step - loss: 0.4086 - acc: 0.8705 - val_loss: 0.8186 - val_acc: 0.7762\n",
            "Epoch 106/200\n",
            "50000/50000 [==============================] - 23s 458us/step - loss: 0.4154 - acc: 0.8690 - val_loss: 0.7057 - val_acc: 0.7897\n",
            "Epoch 107/200\n",
            "50000/50000 [==============================] - 23s 458us/step - loss: 0.4056 - acc: 0.8700 - val_loss: 0.7255 - val_acc: 0.7872\n",
            "Epoch 108/200\n",
            "50000/50000 [==============================] - 23s 459us/step - loss: 0.4139 - acc: 0.8675 - val_loss: 0.7172 - val_acc: 0.7893\n",
            "Epoch 109/200\n",
            "50000/50000 [==============================] - 23s 458us/step - loss: 0.4062 - acc: 0.8714 - val_loss: 0.7209 - val_acc: 0.7874\n",
            "Epoch 110/200\n",
            "50000/50000 [==============================] - 23s 459us/step - loss: 0.4154 - acc: 0.8679 - val_loss: 0.7330 - val_acc: 0.7911\n",
            "Epoch 111/200\n",
            "50000/50000 [==============================] - 23s 457us/step - loss: 0.4185 - acc: 0.8656 - val_loss: 0.8477 - val_acc: 0.7675\n",
            "Epoch 112/200\n",
            "50000/50000 [==============================] - 23s 459us/step - loss: 0.4143 - acc: 0.8675 - val_loss: 0.7157 - val_acc: 0.7896\n",
            "Epoch 113/200\n",
            "50000/50000 [==============================] - 23s 458us/step - loss: 0.4170 - acc: 0.8679 - val_loss: 0.7601 - val_acc: 0.7865\n",
            "Epoch 114/200\n",
            "50000/50000 [==============================] - 23s 458us/step - loss: 0.4276 - acc: 0.8644 - val_loss: 0.6958 - val_acc: 0.7914\n",
            "Epoch 115/200\n",
            "50000/50000 [==============================] - 23s 458us/step - loss: 0.4221 - acc: 0.8655 - val_loss: 0.7361 - val_acc: 0.7706\n",
            "Epoch 116/200\n",
            "50000/50000 [==============================] - 23s 457us/step - loss: 0.4234 - acc: 0.8653 - val_loss: 0.7536 - val_acc: 0.7906\n",
            "Epoch 117/200\n",
            "50000/50000 [==============================] - 23s 457us/step - loss: 0.4291 - acc: 0.8633 - val_loss: 0.7321 - val_acc: 0.7883\n",
            "Epoch 118/200\n",
            "50000/50000 [==============================] - 23s 458us/step - loss: 0.4333 - acc: 0.8630 - val_loss: 0.8249 - val_acc: 0.7655\n",
            "Epoch 119/200\n",
            "50000/50000 [==============================] - 23s 456us/step - loss: 0.4266 - acc: 0.8657 - val_loss: 0.7298 - val_acc: 0.7717\n",
            "Epoch 120/200\n",
            "50000/50000 [==============================] - 23s 458us/step - loss: 0.4261 - acc: 0.8642 - val_loss: 0.6931 - val_acc: 0.7841\n",
            "Epoch 121/200\n",
            "50000/50000 [==============================] - 23s 458us/step - loss: 0.4291 - acc: 0.8644 - val_loss: 0.6839 - val_acc: 0.7926\n",
            "Epoch 122/200\n",
            "50000/50000 [==============================] - 23s 457us/step - loss: 0.4270 - acc: 0.8634 - val_loss: 0.7730 - val_acc: 0.7740\n",
            "Epoch 123/200\n",
            "50000/50000 [==============================] - 23s 457us/step - loss: 0.4404 - acc: 0.8598 - val_loss: 0.7541 - val_acc: 0.7832\n",
            "Epoch 124/200\n",
            "50000/50000 [==============================] - 23s 457us/step - loss: 0.4418 - acc: 0.8598 - val_loss: 0.7130 - val_acc: 0.7905\n",
            "Epoch 125/200\n",
            "50000/50000 [==============================] - 23s 458us/step - loss: 0.4359 - acc: 0.8641 - val_loss: 0.7892 - val_acc: 0.7745\n",
            "Epoch 126/200\n",
            "50000/50000 [==============================] - 23s 459us/step - loss: 0.4427 - acc: 0.8616 - val_loss: 0.6732 - val_acc: 0.7883\n",
            "Epoch 127/200\n",
            "50000/50000 [==============================] - 23s 458us/step - loss: 0.4416 - acc: 0.8596 - val_loss: 0.7555 - val_acc: 0.7630\n",
            "Epoch 128/200\n",
            "50000/50000 [==============================] - 23s 460us/step - loss: 0.4408 - acc: 0.8629 - val_loss: 0.7387 - val_acc: 0.7924\n",
            "Epoch 129/200\n",
            "50000/50000 [==============================] - 23s 457us/step - loss: 0.4508 - acc: 0.8594 - val_loss: 0.9396 - val_acc: 0.7595\n",
            "Epoch 130/200\n",
            "50000/50000 [==============================] - 23s 458us/step - loss: 0.4569 - acc: 0.8562 - val_loss: 0.7056 - val_acc: 0.7846\n",
            "Epoch 131/200\n",
            "50000/50000 [==============================] - 23s 461us/step - loss: 0.4468 - acc: 0.8599 - val_loss: 0.6872 - val_acc: 0.7922\n",
            "Epoch 132/200\n",
            "50000/50000 [==============================] - 23s 458us/step - loss: 0.4540 - acc: 0.8566 - val_loss: 0.7525 - val_acc: 0.7759\n",
            "Epoch 133/200\n",
            "50000/50000 [==============================] - 23s 459us/step - loss: 0.4541 - acc: 0.8568 - val_loss: 0.6734 - val_acc: 0.7970\n",
            "Epoch 134/200\n",
            "50000/50000 [==============================] - 23s 459us/step - loss: 0.4576 - acc: 0.8576 - val_loss: 0.6793 - val_acc: 0.7958\n",
            "Epoch 135/200\n",
            "50000/50000 [==============================] - 23s 460us/step - loss: 0.4569 - acc: 0.8570 - val_loss: 0.7144 - val_acc: 0.7870\n",
            "Epoch 136/200\n",
            "50000/50000 [==============================] - 23s 459us/step - loss: 0.4641 - acc: 0.8558 - val_loss: 0.7565 - val_acc: 0.7806\n",
            "Epoch 137/200\n",
            "50000/50000 [==============================] - 23s 459us/step - loss: 0.4620 - acc: 0.8550 - val_loss: 0.7296 - val_acc: 0.7752\n",
            "Epoch 138/200\n",
            "50000/50000 [==============================] - 23s 458us/step - loss: 0.4674 - acc: 0.8538 - val_loss: 0.7557 - val_acc: 0.7959\n",
            "Epoch 139/200\n",
            "50000/50000 [==============================] - 23s 459us/step - loss: 0.4709 - acc: 0.8536 - val_loss: 0.7097 - val_acc: 0.7830\n",
            "Epoch 140/200\n",
            "50000/50000 [==============================] - 23s 458us/step - loss: 0.4649 - acc: 0.8541 - val_loss: 0.7256 - val_acc: 0.7849\n",
            "Epoch 141/200\n",
            "50000/50000 [==============================] - 23s 459us/step - loss: 0.4765 - acc: 0.8506 - val_loss: 0.6779 - val_acc: 0.7935\n",
            "Epoch 142/200\n",
            "50000/50000 [==============================] - 23s 461us/step - loss: 0.4800 - acc: 0.8516 - val_loss: 0.7423 - val_acc: 0.7728\n",
            "Epoch 143/200\n",
            "50000/50000 [==============================] - 23s 459us/step - loss: 0.4814 - acc: 0.8497 - val_loss: 0.8015 - val_acc: 0.7630\n",
            "Epoch 144/200\n",
            "50000/50000 [==============================] - 23s 459us/step - loss: 0.4882 - acc: 0.8498 - val_loss: 0.7334 - val_acc: 0.7828\n",
            "Epoch 145/200\n",
            "50000/50000 [==============================] - 23s 460us/step - loss: 0.4899 - acc: 0.8476 - val_loss: 0.7307 - val_acc: 0.7938\n",
            "Epoch 146/200\n",
            "50000/50000 [==============================] - 23s 459us/step - loss: 0.4966 - acc: 0.8487 - val_loss: 0.8055 - val_acc: 0.7583\n",
            "Epoch 147/200\n",
            "50000/50000 [==============================] - 23s 458us/step - loss: 0.5000 - acc: 0.8420 - val_loss: 0.7636 - val_acc: 0.7864\n",
            "Epoch 148/200\n",
            "50000/50000 [==============================] - 23s 457us/step - loss: 0.5047 - acc: 0.8438 - val_loss: 0.7083 - val_acc: 0.7746\n",
            "Epoch 149/200\n",
            "50000/50000 [==============================] - 23s 458us/step - loss: 0.5044 - acc: 0.8436 - val_loss: 0.7925 - val_acc: 0.7652\n",
            "Epoch 150/200\n",
            "50000/50000 [==============================] - 23s 458us/step - loss: 0.5086 - acc: 0.8412 - val_loss: 0.7476 - val_acc: 0.7674\n",
            "Epoch 151/200\n",
            "50000/50000 [==============================] - 23s 458us/step - loss: 0.5193 - acc: 0.8392 - val_loss: 0.7330 - val_acc: 0.7641\n",
            "Epoch 152/200\n",
            "50000/50000 [==============================] - 23s 459us/step - loss: 0.5280 - acc: 0.8375 - val_loss: 0.9264 - val_acc: 0.7256\n",
            "Epoch 153/200\n",
            "50000/50000 [==============================] - 23s 457us/step - loss: 0.5325 - acc: 0.8356 - val_loss: 0.7250 - val_acc: 0.7778\n",
            "Epoch 154/200\n",
            "50000/50000 [==============================] - 23s 458us/step - loss: 0.5424 - acc: 0.8336 - val_loss: 0.7341 - val_acc: 0.7744\n",
            "Epoch 155/200\n",
            "50000/50000 [==============================] - 23s 457us/step - loss: 0.5429 - acc: 0.8337 - val_loss: 0.7200 - val_acc: 0.7886\n",
            "Epoch 156/200\n",
            "50000/50000 [==============================] - 23s 459us/step - loss: 0.5510 - acc: 0.8302 - val_loss: 0.7878 - val_acc: 0.7602\n",
            "Epoch 157/200\n",
            "50000/50000 [==============================] - 23s 460us/step - loss: 0.5593 - acc: 0.8272 - val_loss: 0.7536 - val_acc: 0.7741\n",
            "Epoch 158/200\n",
            "50000/50000 [==============================] - 23s 458us/step - loss: 0.5672 - acc: 0.8253 - val_loss: 0.8924 - val_acc: 0.7507\n",
            "Epoch 159/200\n",
            "50000/50000 [==============================] - 23s 458us/step - loss: 0.5843 - acc: 0.8208 - val_loss: 0.7439 - val_acc: 0.7727\n",
            "Epoch 160/200\n",
            "50000/50000 [==============================] - 23s 458us/step - loss: 0.5897 - acc: 0.8187 - val_loss: 0.7575 - val_acc: 0.7779\n",
            "Epoch 161/200\n",
            "50000/50000 [==============================] - 23s 458us/step - loss: 0.6049 - acc: 0.8168 - val_loss: 0.9006 - val_acc: 0.7298\n",
            "Epoch 162/200\n",
            "50000/50000 [==============================] - 23s 458us/step - loss: 0.6057 - acc: 0.8136 - val_loss: 0.7032 - val_acc: 0.7870\n",
            "Epoch 163/200\n",
            "50000/50000 [==============================] - 23s 459us/step - loss: 0.6102 - acc: 0.8152 - val_loss: 0.7568 - val_acc: 0.7699\n",
            "Epoch 164/200\n",
            "50000/50000 [==============================] - 23s 457us/step - loss: 0.6240 - acc: 0.8095 - val_loss: 0.8062 - val_acc: 0.7566\n",
            "Epoch 165/200\n",
            "50000/50000 [==============================] - 23s 457us/step - loss: 0.6346 - acc: 0.8060 - val_loss: 0.8798 - val_acc: 0.7277\n",
            "Epoch 166/200\n",
            "50000/50000 [==============================] - 23s 458us/step - loss: 0.6455 - acc: 0.8018 - val_loss: 0.7285 - val_acc: 0.7766\n",
            "Epoch 167/200\n",
            "50000/50000 [==============================] - 23s 458us/step - loss: 0.6472 - acc: 0.8038 - val_loss: 0.8928 - val_acc: 0.7546\n",
            "Epoch 168/200\n",
            "50000/50000 [==============================] - 23s 460us/step - loss: 0.6559 - acc: 0.7991 - val_loss: 0.8202 - val_acc: 0.7503\n",
            "Epoch 169/200\n",
            "50000/50000 [==============================] - 23s 458us/step - loss: 0.6663 - acc: 0.7983 - val_loss: 0.7387 - val_acc: 0.7792\n",
            "Epoch 170/200\n",
            "50000/50000 [==============================] - 24s 471us/step - loss: 0.6587 - acc: 0.7970 - val_loss: 0.7925 - val_acc: 0.7678\n",
            "Epoch 171/200\n",
            "50000/50000 [==============================] - 23s 457us/step - loss: 0.6688 - acc: 0.7963 - val_loss: 0.7924 - val_acc: 0.7657\n",
            "Epoch 172/200\n",
            "50000/50000 [==============================] - 23s 458us/step - loss: 0.6708 - acc: 0.7969 - val_loss: 0.8897 - val_acc: 0.7312\n",
            "Epoch 173/200\n",
            "50000/50000 [==============================] - 23s 460us/step - loss: 0.6815 - acc: 0.7950 - val_loss: 0.7571 - val_acc: 0.7715\n",
            "Epoch 174/200\n",
            "50000/50000 [==============================] - 23s 457us/step - loss: 0.6909 - acc: 0.7875 - val_loss: 0.8606 - val_acc: 0.7452\n",
            "Epoch 175/200\n",
            "50000/50000 [==============================] - 23s 458us/step - loss: 0.6965 - acc: 0.7877 - val_loss: 0.7684 - val_acc: 0.7656\n",
            "Epoch 176/200\n",
            "50000/50000 [==============================] - 23s 459us/step - loss: 0.7082 - acc: 0.7830 - val_loss: 0.8302 - val_acc: 0.7378\n",
            "Epoch 177/200\n",
            "50000/50000 [==============================] - 23s 459us/step - loss: 0.7053 - acc: 0.7856 - val_loss: 0.7463 - val_acc: 0.7688\n",
            "Epoch 178/200\n",
            "50000/50000 [==============================] - 23s 460us/step - loss: 0.7092 - acc: 0.7832 - val_loss: 0.9428 - val_acc: 0.7291\n",
            "Epoch 179/200\n",
            "50000/50000 [==============================] - 23s 460us/step - loss: 0.7147 - acc: 0.7827 - val_loss: 0.7601 - val_acc: 0.7748\n",
            "Epoch 180/200\n",
            "50000/50000 [==============================] - 23s 460us/step - loss: 0.7230 - acc: 0.7797 - val_loss: 0.8839 - val_acc: 0.7623\n",
            "Epoch 181/200\n",
            "50000/50000 [==============================] - 23s 460us/step - loss: 0.7384 - acc: 0.7784 - val_loss: 0.7740 - val_acc: 0.7618\n",
            "Epoch 182/200\n",
            "50000/50000 [==============================] - 23s 459us/step - loss: 0.7512 - acc: 0.7753 - val_loss: 0.7836 - val_acc: 0.7647\n",
            "Epoch 183/200\n",
            "50000/50000 [==============================] - 23s 458us/step - loss: 0.7456 - acc: 0.7718 - val_loss: 0.9428 - val_acc: 0.7059\n",
            "Epoch 184/200\n",
            "50000/50000 [==============================] - 23s 458us/step - loss: 0.7528 - acc: 0.7710 - val_loss: 1.0399 - val_acc: 0.6825\n",
            "Epoch 185/200\n",
            "50000/50000 [==============================] - 23s 457us/step - loss: 0.7683 - acc: 0.7682 - val_loss: 0.9522 - val_acc: 0.6997\n",
            "Epoch 186/200\n",
            "50000/50000 [==============================] - 23s 458us/step - loss: 0.7624 - acc: 0.7676 - val_loss: 0.7897 - val_acc: 0.7665\n",
            "Epoch 187/200\n",
            "50000/50000 [==============================] - 23s 459us/step - loss: 0.7710 - acc: 0.7669 - val_loss: 0.7618 - val_acc: 0.7630\n",
            "Epoch 188/200\n",
            "50000/50000 [==============================] - 23s 458us/step - loss: 0.7707 - acc: 0.7643 - val_loss: 0.8598 - val_acc: 0.7196\n",
            "Epoch 189/200\n",
            "50000/50000 [==============================] - 23s 459us/step - loss: 0.7874 - acc: 0.7626 - val_loss: 0.9280 - val_acc: 0.7132\n",
            "Epoch 190/200\n",
            "50000/50000 [==============================] - 23s 458us/step - loss: 0.7945 - acc: 0.7588 - val_loss: 0.9635 - val_acc: 0.7203\n",
            "Epoch 191/200\n",
            "50000/50000 [==============================] - 23s 458us/step - loss: 0.7980 - acc: 0.7569 - val_loss: 0.8451 - val_acc: 0.7483\n",
            "Epoch 192/200\n",
            "50000/50000 [==============================] - 23s 459us/step - loss: 0.8070 - acc: 0.7542 - val_loss: 0.9018 - val_acc: 0.7112\n",
            "Epoch 193/200\n",
            "50000/50000 [==============================] - 23s 458us/step - loss: 0.8252 - acc: 0.7512 - val_loss: 0.9130 - val_acc: 0.7140\n",
            "Epoch 194/200\n",
            "50000/50000 [==============================] - 23s 458us/step - loss: 0.8279 - acc: 0.7511 - val_loss: 0.9600 - val_acc: 0.7055\n",
            "Epoch 195/200\n",
            "50000/50000 [==============================] - 23s 453us/step - loss: 0.8339 - acc: 0.7459 - val_loss: 0.9169 - val_acc: 0.7033\n",
            "Epoch 196/200\n",
            "50000/50000 [==============================] - 23s 456us/step - loss: 0.8334 - acc: 0.7465 - val_loss: 1.0399 - val_acc: 0.6976\n",
            "Epoch 197/200\n",
            "50000/50000 [==============================] - 23s 454us/step - loss: 0.8516 - acc: 0.7417 - val_loss: 0.8519 - val_acc: 0.7286\n",
            "Epoch 198/200\n",
            "50000/50000 [==============================] - 23s 456us/step - loss: 0.8586 - acc: 0.7403 - val_loss: 1.0655 - val_acc: 0.6762\n",
            "Epoch 199/200\n",
            "50000/50000 [==============================] - 23s 460us/step - loss: 0.8572 - acc: 0.7397 - val_loss: 1.0546 - val_acc: 0.6916\n",
            "Epoch 200/200\n",
            "50000/50000 [==============================] - 23s 459us/step - loss: 0.8480 - acc: 0.7408 - val_loss: 0.8416 - val_acc: 0.7394\n"
          ],
          "name": "stdout"
        },
        {
          "output_type": "execute_result",
          "data": {
            "text/plain": [
              "<keras.callbacks.History at 0x7f702da78cf8>"
            ]
          },
          "metadata": {
            "tags": []
          },
          "execution_count": 14
        }
      ]
    }
  ]
}