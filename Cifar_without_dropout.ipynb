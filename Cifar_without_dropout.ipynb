{
  "nbformat": 4,
  "nbformat_minor": 0,
  "metadata": {
    "colab": {
      "name": "cifar-without_dropout.ipynb",
      "version": "0.3.2",
      "provenance": [],
      "collapsed_sections": [],
      "include_colab_link": true
    },
    "kernelspec": {
      "name": "python3",
      "display_name": "Python 3"
    },
    "accelerator": "GPU"
  },
  "cells": [
    {
      "cell_type": "markdown",
      "metadata": {
        "id": "view-in-github",
        "colab_type": "text"
      },
      "source": [
        "<a href=\"https://colab.research.google.com/github/KavyaGarapati/HOMEWORK-2/blob/master/Cifar_without_dropout.ipynb\" target=\"_parent\"><img src=\"https://colab.research.google.com/assets/colab-badge.svg\" alt=\"Open In Colab\"/></a>"
      ]
    },
    {
      "metadata": {
        "id": "gQoM9Fh1LqUN",
        "colab_type": "code",
        "colab": {}
      },
      "cell_type": "code",
      "source": [
        "import keras\n",
        "import keras\n",
        "from keras.datasets import cifar10\n",
        "from keras.preprocessing.image import ImageDataGenerator\n",
        "from keras.models import Sequential\n",
        "from keras.layers import Dense, Activation, Flatten\n",
        "from keras.layers import Conv2D, MaxPooling2D\n",
        "import os"
      ],
      "execution_count": 0,
      "outputs": []
    },
    {
      "metadata": {
        "id": "fHPsGumDK2hK",
        "colab_type": "code",
        "colab": {}
      },
      "cell_type": "code",
      "source": [
        "batch_size = 32\n",
        "num_classes = 10\n",
        "epochs = 100\n",
        "num_predictions = 20\n",
        "save_dir = os.path.join(os.getcwd(), 'saved_models')\n",
        "model_name = 'keras_cifar10_trained_model.h5'"
      ],
      "execution_count": 0,
      "outputs": []
    },
    {
      "metadata": {
        "id": "wdYI01crNd_V",
        "colab_type": "code",
        "outputId": "92e20e95-e65c-4604-9955-27e584af90cd",
        "colab": {
          "base_uri": "https://localhost:8080/",
          "height": 68
        }
      },
      "cell_type": "code",
      "source": [
        "(x_train, y_train), (x_test, y_test) = cifar10.load_data()\n",
        "print('x_train shape:', x_train.shape)\n",
        "print(x_train.shape[0], 'train samples')\n",
        "print(x_test.shape[0], 'test samples')"
      ],
      "execution_count": 0,
      "outputs": [
        {
          "output_type": "stream",
          "text": [
            "x_train shape: (50000, 32, 32, 3)\n",
            "50000 train samples\n",
            "10000 test samples\n"
          ],
          "name": "stdout"
        }
      ]
    },
    {
      "metadata": {
        "id": "1rSlKhlzOism",
        "colab_type": "code",
        "colab": {}
      },
      "cell_type": "code",
      "source": [
        "is_converted_categorical = False"
      ],
      "execution_count": 0,
      "outputs": []
    },
    {
      "metadata": {
        "id": "dhXQcN32NfqN",
        "colab_type": "code",
        "colab": {}
      },
      "cell_type": "code",
      "source": [
        "if(not is_converted_categorical):\n",
        "  y_train = keras.utils.to_categorical(y_train, num_classes)\n",
        "  y_test = keras.utils.to_categorical(y_test, num_classes)\n",
        "  is_converted_categorical = True\n"
      ],
      "execution_count": 0,
      "outputs": []
    },
    {
      "metadata": {
        "id": "Dt8MAgzwNthd",
        "colab_type": "code",
        "outputId": "aaafe433-eaad-4f42-a08f-571c84321c99",
        "colab": {
          "base_uri": "https://localhost:8080/",
          "height": 34
        }
      },
      "cell_type": "code",
      "source": [
        "y_train.shape"
      ],
      "execution_count": 0,
      "outputs": [
        {
          "output_type": "execute_result",
          "data": {
            "text/plain": [
              "(50000, 10)"
            ]
          },
          "metadata": {
            "tags": []
          },
          "execution_count": 20
        }
      ]
    },
    {
      "metadata": {
        "id": "HOGicWm_Of2p",
        "colab_type": "code",
        "colab": {}
      },
      "cell_type": "code",
      "source": [
        "model = Sequential()\n",
        "model.add(Conv2D(32, (3, 3), padding='same',\n",
        "                 input_shape=x_train.shape[1:]))\n",
        "model.add(Activation('relu'))\n",
        "model.add(Conv2D(32, (3, 3)))\n",
        "model.add(Activation('relu'))\n",
        "model.add(MaxPooling2D(pool_size=(2, 2)))\n",
        "\n",
        "model.add(Conv2D(64, (3, 3), padding='same'))\n",
        "model.add(Activation('relu'))\n",
        "model.add(Conv2D(64, (3, 3)))\n",
        "model.add(Activation('relu'))\n",
        "model.add(MaxPooling2D(pool_size=(2, 2)))\n",
        "\n",
        "model.add(Flatten())\n",
        "model.add(Dense(512))\n",
        "model.add(Activation('relu'))\n",
        "model.add(Dense(num_classes))\n",
        "model.add(Activation('softmax'))"
      ],
      "execution_count": 0,
      "outputs": []
    },
    {
      "metadata": {
        "id": "8K-zrSv0PEqb",
        "colab_type": "code",
        "outputId": "09dee1bf-3514-4a20-e3ae-e4d6c4df1f10",
        "colab": {
          "base_uri": "https://localhost:8080/",
          "height": 34
        }
      },
      "cell_type": "code",
      "source": [
        "x_train.shape[1:]"
      ],
      "execution_count": 0,
      "outputs": [
        {
          "output_type": "execute_result",
          "data": {
            "text/plain": [
              "(32, 32, 3)"
            ]
          },
          "metadata": {
            "tags": []
          },
          "execution_count": 22
        }
      ]
    },
    {
      "metadata": {
        "id": "WEs2UKsg--wl",
        "colab_type": "code",
        "outputId": "1ab0ebcf-4e35-4619-91fe-84e3314c48ca",
        "colab": {
          "base_uri": "https://localhost:8080/",
          "height": 646
        }
      },
      "cell_type": "code",
      "source": [
        "model.summary()"
      ],
      "execution_count": 0,
      "outputs": [
        {
          "output_type": "stream",
          "text": [
            "_________________________________________________________________\n",
            "Layer (type)                 Output Shape              Param #   \n",
            "=================================================================\n",
            "conv2d_5 (Conv2D)            (None, 32, 32, 32)        896       \n",
            "_________________________________________________________________\n",
            "activation_7 (Activation)    (None, 32, 32, 32)        0         \n",
            "_________________________________________________________________\n",
            "conv2d_6 (Conv2D)            (None, 30, 30, 32)        9248      \n",
            "_________________________________________________________________\n",
            "activation_8 (Activation)    (None, 30, 30, 32)        0         \n",
            "_________________________________________________________________\n",
            "max_pooling2d_3 (MaxPooling2 (None, 15, 15, 32)        0         \n",
            "_________________________________________________________________\n",
            "conv2d_7 (Conv2D)            (None, 15, 15, 64)        18496     \n",
            "_________________________________________________________________\n",
            "activation_9 (Activation)    (None, 15, 15, 64)        0         \n",
            "_________________________________________________________________\n",
            "conv2d_8 (Conv2D)            (None, 13, 13, 64)        36928     \n",
            "_________________________________________________________________\n",
            "activation_10 (Activation)   (None, 13, 13, 64)        0         \n",
            "_________________________________________________________________\n",
            "max_pooling2d_4 (MaxPooling2 (None, 6, 6, 64)          0         \n",
            "_________________________________________________________________\n",
            "flatten_2 (Flatten)          (None, 2304)              0         \n",
            "_________________________________________________________________\n",
            "dense_3 (Dense)              (None, 512)               1180160   \n",
            "_________________________________________________________________\n",
            "activation_11 (Activation)   (None, 512)               0         \n",
            "_________________________________________________________________\n",
            "dense_4 (Dense)              (None, 10)                5130      \n",
            "_________________________________________________________________\n",
            "activation_12 (Activation)   (None, 10)                0         \n",
            "=================================================================\n",
            "Total params: 1,250,858\n",
            "Trainable params: 1,250,858\n",
            "Non-trainable params: 0\n",
            "_________________________________________________________________\n"
          ],
          "name": "stdout"
        }
      ]
    },
    {
      "metadata": {
        "id": "JvB0GGUJPLQC",
        "colab_type": "code",
        "colab": {}
      },
      "cell_type": "code",
      "source": [
        "# initiate RMSprop optimizer\n",
        "opt = keras.optimizers.rmsprop(lr=0.0001, decay=1e-6)\n"
      ],
      "execution_count": 0,
      "outputs": []
    },
    {
      "metadata": {
        "id": "mp59F_mGPZt3",
        "colab_type": "code",
        "colab": {}
      },
      "cell_type": "code",
      "source": [
        "model.compile(loss='categorical_crossentropy',\n",
        "              optimizer=opt,\n",
        "              metrics=['accuracy'])"
      ],
      "execution_count": 0,
      "outputs": []
    },
    {
      "metadata": {
        "id": "9W3g01fPPbk2",
        "colab_type": "code",
        "colab": {}
      },
      "cell_type": "code",
      "source": [
        "x_train = x_train.astype('float32')\n",
        "x_test = x_test.astype('float32')\n",
        "x_train /= 255\n",
        "x_test /= 255"
      ],
      "execution_count": 0,
      "outputs": []
    },
    {
      "metadata": {
        "id": "JU3XXFDVPqdW",
        "colab_type": "code",
        "outputId": "51b56c66-4b53-44b2-c67f-b4aaa10a79f6",
        "colab": {
          "base_uri": "https://localhost:8080/",
          "height": 3451
        }
      },
      "cell_type": "code",
      "source": [
        "model.fit(x_train, y_train,\n",
        "              batch_size=batch_size,\n",
        "              epochs=epochs,\n",
        "              validation_data=(x_test, y_test),\n",
        "              shuffle=True)"
      ],
      "execution_count": 0,
      "outputs": [
        {
          "output_type": "stream",
          "text": [
            "Train on 50000 samples, validate on 10000 samples\n",
            "Epoch 1/100\n",
            "50000/50000 [==============================] - 24s 486us/step - loss: 1.6598 - acc: 0.4039 - val_loss: 1.4171 - val_acc: 0.4826\n",
            "Epoch 2/100\n",
            "50000/50000 [==============================] - 23s 464us/step - loss: 1.3455 - acc: 0.5211 - val_loss: 1.2681 - val_acc: 0.5495\n",
            "Epoch 3/100\n",
            "50000/50000 [==============================] - 23s 463us/step - loss: 1.1817 - acc: 0.5844 - val_loss: 1.2243 - val_acc: 0.5845\n",
            "Epoch 4/100\n",
            "50000/50000 [==============================] - 23s 460us/step - loss: 1.0611 - acc: 0.6287 - val_loss: 1.1251 - val_acc: 0.6044\n",
            "Epoch 5/100\n",
            "50000/50000 [==============================] - 23s 453us/step - loss: 0.9690 - acc: 0.6636 - val_loss: 1.0318 - val_acc: 0.6419\n",
            "Epoch 6/100\n",
            "50000/50000 [==============================] - 23s 453us/step - loss: 0.8921 - acc: 0.6921 - val_loss: 0.9295 - val_acc: 0.6768\n",
            "Epoch 7/100\n",
            "50000/50000 [==============================] - 23s 452us/step - loss: 0.8275 - acc: 0.7147 - val_loss: 0.9248 - val_acc: 0.6769\n",
            "Epoch 8/100\n",
            "50000/50000 [==============================] - 23s 455us/step - loss: 0.7674 - acc: 0.7364 - val_loss: 0.9425 - val_acc: 0.6749\n",
            "Epoch 9/100\n",
            "50000/50000 [==============================] - 23s 458us/step - loss: 0.7125 - acc: 0.7565 - val_loss: 0.8759 - val_acc: 0.7000\n",
            "Epoch 10/100\n",
            "50000/50000 [==============================] - 23s 455us/step - loss: 0.6591 - acc: 0.7732 - val_loss: 0.9018 - val_acc: 0.6927\n",
            "Epoch 11/100\n",
            "50000/50000 [==============================] - 23s 453us/step - loss: 0.6076 - acc: 0.7920 - val_loss: 0.8471 - val_acc: 0.7193\n",
            "Epoch 12/100\n",
            "50000/50000 [==============================] - 22s 450us/step - loss: 0.5615 - acc: 0.8084 - val_loss: 0.8660 - val_acc: 0.7128\n",
            "Epoch 13/100\n",
            "50000/50000 [==============================] - 23s 453us/step - loss: 0.5107 - acc: 0.8261 - val_loss: 0.8319 - val_acc: 0.7237\n",
            "Epoch 14/100\n",
            "50000/50000 [==============================] - 22s 448us/step - loss: 0.4662 - acc: 0.8416 - val_loss: 0.9226 - val_acc: 0.7130\n",
            "Epoch 15/100\n",
            "50000/50000 [==============================] - 23s 468us/step - loss: 0.4195 - acc: 0.8577 - val_loss: 0.9085 - val_acc: 0.7158\n",
            "Epoch 16/100\n",
            "50000/50000 [==============================] - 24s 478us/step - loss: 0.3782 - acc: 0.8724 - val_loss: 0.8670 - val_acc: 0.7340\n",
            "Epoch 17/100\n",
            "50000/50000 [==============================] - 24s 473us/step - loss: 0.3378 - acc: 0.8874 - val_loss: 0.9455 - val_acc: 0.7188\n",
            "Epoch 18/100\n",
            "50000/50000 [==============================] - 24s 473us/step - loss: 0.2952 - acc: 0.9006 - val_loss: 0.9651 - val_acc: 0.7253\n",
            "Epoch 19/100\n",
            "50000/50000 [==============================] - 23s 468us/step - loss: 0.2585 - acc: 0.9137 - val_loss: 0.9711 - val_acc: 0.7310\n",
            "Epoch 20/100\n",
            "50000/50000 [==============================] - 24s 472us/step - loss: 0.2234 - acc: 0.9256 - val_loss: 1.0161 - val_acc: 0.7336\n",
            "Epoch 21/100\n",
            "50000/50000 [==============================] - 23s 464us/step - loss: 0.1916 - acc: 0.9372 - val_loss: 1.0852 - val_acc: 0.7183\n",
            "Epoch 22/100\n",
            "50000/50000 [==============================] - 23s 461us/step - loss: 0.1627 - acc: 0.9465 - val_loss: 1.1540 - val_acc: 0.7282\n",
            "Epoch 23/100\n",
            "50000/50000 [==============================] - 23s 463us/step - loss: 0.1384 - acc: 0.9553 - val_loss: 1.2576 - val_acc: 0.7175\n",
            "Epoch 24/100\n",
            "50000/50000 [==============================] - 23s 456us/step - loss: 0.1154 - acc: 0.9634 - val_loss: 1.2675 - val_acc: 0.7260\n",
            "Epoch 25/100\n",
            "50000/50000 [==============================] - 23s 456us/step - loss: 0.0974 - acc: 0.9688 - val_loss: 1.3450 - val_acc: 0.7189\n",
            "Epoch 26/100\n",
            "50000/50000 [==============================] - 23s 459us/step - loss: 0.0806 - acc: 0.9754 - val_loss: 1.4872 - val_acc: 0.7222\n",
            "Epoch 27/100\n",
            "50000/50000 [==============================] - 23s 460us/step - loss: 0.0704 - acc: 0.9777 - val_loss: 1.5554 - val_acc: 0.7238\n",
            "Epoch 28/100\n",
            "50000/50000 [==============================] - 23s 463us/step - loss: 0.0597 - acc: 0.9817 - val_loss: 1.6128 - val_acc: 0.7166\n",
            "Epoch 29/100\n",
            "50000/50000 [==============================] - 23s 464us/step - loss: 0.0529 - acc: 0.9837 - val_loss: 1.7334 - val_acc: 0.7172\n",
            "Epoch 30/100\n",
            "50000/50000 [==============================] - 23s 465us/step - loss: 0.0444 - acc: 0.9857 - val_loss: 1.7747 - val_acc: 0.7220\n",
            "Epoch 31/100\n",
            "50000/50000 [==============================] - 23s 463us/step - loss: 0.0412 - acc: 0.9872 - val_loss: 1.8992 - val_acc: 0.7171\n",
            "Epoch 32/100\n",
            "50000/50000 [==============================] - 23s 459us/step - loss: 0.0385 - acc: 0.9879 - val_loss: 1.8069 - val_acc: 0.7296\n",
            "Epoch 33/100\n",
            "50000/50000 [==============================] - 23s 461us/step - loss: 0.0348 - acc: 0.9889 - val_loss: 1.8605 - val_acc: 0.7301\n",
            "Epoch 34/100\n",
            "50000/50000 [==============================] - 23s 459us/step - loss: 0.0310 - acc: 0.9903 - val_loss: 1.9586 - val_acc: 0.7175\n",
            "Epoch 35/100\n",
            "50000/50000 [==============================] - 23s 462us/step - loss: 0.0292 - acc: 0.9909 - val_loss: 1.9358 - val_acc: 0.7289\n",
            "Epoch 36/100\n",
            "50000/50000 [==============================] - 23s 456us/step - loss: 0.0272 - acc: 0.9914 - val_loss: 2.0499 - val_acc: 0.7170\n",
            "Epoch 37/100\n",
            "50000/50000 [==============================] - 23s 460us/step - loss: 0.0258 - acc: 0.9914 - val_loss: 2.0128 - val_acc: 0.7244\n",
            "Epoch 38/100\n",
            "50000/50000 [==============================] - 23s 459us/step - loss: 0.0244 - acc: 0.9921 - val_loss: 2.0598 - val_acc: 0.7223\n",
            "Epoch 39/100\n",
            "50000/50000 [==============================] - 23s 461us/step - loss: 0.0245 - acc: 0.9919 - val_loss: 2.0573 - val_acc: 0.7265\n",
            "Epoch 40/100\n",
            "50000/50000 [==============================] - 23s 460us/step - loss: 0.0224 - acc: 0.9929 - val_loss: 2.2673 - val_acc: 0.7029\n",
            "Epoch 41/100\n",
            "50000/50000 [==============================] - 23s 458us/step - loss: 0.0210 - acc: 0.9930 - val_loss: 2.0987 - val_acc: 0.7257\n",
            "Epoch 42/100\n",
            "50000/50000 [==============================] - 23s 460us/step - loss: 0.0206 - acc: 0.9930 - val_loss: 2.1143 - val_acc: 0.7243\n",
            "Epoch 43/100\n",
            "50000/50000 [==============================] - 24s 477us/step - loss: 0.0200 - acc: 0.9936 - val_loss: 2.1906 - val_acc: 0.7263\n",
            "Epoch 44/100\n",
            "50000/50000 [==============================] - 23s 470us/step - loss: 0.0189 - acc: 0.9937 - val_loss: 2.1943 - val_acc: 0.7221\n",
            "Epoch 45/100\n",
            "50000/50000 [==============================] - 24s 474us/step - loss: 0.0182 - acc: 0.9941 - val_loss: 2.1750 - val_acc: 0.7314\n",
            "Epoch 46/100\n",
            "50000/50000 [==============================] - 24s 477us/step - loss: 0.0168 - acc: 0.9947 - val_loss: 2.2055 - val_acc: 0.7336\n",
            "Epoch 47/100\n",
            "50000/50000 [==============================] - 24s 477us/step - loss: 0.0166 - acc: 0.9946 - val_loss: 2.2988 - val_acc: 0.7323\n",
            "Epoch 48/100\n",
            "50000/50000 [==============================] - 24s 476us/step - loss: 0.0184 - acc: 0.9939 - val_loss: 2.4869 - val_acc: 0.7119\n",
            "Epoch 49/100\n",
            "50000/50000 [==============================] - 24s 472us/step - loss: 0.0182 - acc: 0.9943 - val_loss: 2.3446 - val_acc: 0.7146\n",
            "Epoch 50/100\n",
            "50000/50000 [==============================] - 23s 466us/step - loss: 0.0162 - acc: 0.9947 - val_loss: 2.3536 - val_acc: 0.7270\n",
            "Epoch 51/100\n",
            "50000/50000 [==============================] - 23s 470us/step - loss: 0.0141 - acc: 0.9956 - val_loss: 2.3043 - val_acc: 0.7271\n",
            "Epoch 52/100\n",
            "50000/50000 [==============================] - 23s 467us/step - loss: 0.0162 - acc: 0.9947 - val_loss: 2.4377 - val_acc: 0.7221\n",
            "Epoch 53/100\n",
            "50000/50000 [==============================] - 23s 463us/step - loss: 0.0155 - acc: 0.9948 - val_loss: 2.3927 - val_acc: 0.7300\n",
            "Epoch 54/100\n",
            "50000/50000 [==============================] - 23s 458us/step - loss: 0.0145 - acc: 0.9953 - val_loss: 2.3786 - val_acc: 0.7254\n",
            "Epoch 55/100\n",
            "50000/50000 [==============================] - 23s 460us/step - loss: 0.0161 - acc: 0.9951 - val_loss: 2.5327 - val_acc: 0.7188\n",
            "Epoch 56/100\n",
            "50000/50000 [==============================] - 23s 458us/step - loss: 0.0159 - acc: 0.9948 - val_loss: 2.5018 - val_acc: 0.7239\n",
            "Epoch 57/100\n",
            "50000/50000 [==============================] - 23s 459us/step - loss: 0.0160 - acc: 0.9954 - val_loss: 2.5293 - val_acc: 0.7184\n",
            "Epoch 58/100\n",
            "50000/50000 [==============================] - 23s 457us/step - loss: 0.0147 - acc: 0.9954 - val_loss: 2.4972 - val_acc: 0.7311\n",
            "Epoch 59/100\n",
            "50000/50000 [==============================] - 23s 463us/step - loss: 0.0139 - acc: 0.9956 - val_loss: 2.6454 - val_acc: 0.7159\n",
            "Epoch 60/100\n",
            "50000/50000 [==============================] - 23s 462us/step - loss: 0.0153 - acc: 0.9953 - val_loss: 2.5570 - val_acc: 0.7242\n",
            "Epoch 61/100\n",
            "50000/50000 [==============================] - 23s 461us/step - loss: 0.0156 - acc: 0.9946 - val_loss: 2.5690 - val_acc: 0.7309\n",
            "Epoch 62/100\n",
            "50000/50000 [==============================] - 23s 465us/step - loss: 0.0168 - acc: 0.9951 - val_loss: 2.4520 - val_acc: 0.7219\n",
            "Epoch 63/100\n",
            "50000/50000 [==============================] - 23s 460us/step - loss: 0.0149 - acc: 0.9953 - val_loss: 2.6276 - val_acc: 0.7195\n",
            "Epoch 64/100\n",
            "50000/50000 [==============================] - 23s 461us/step - loss: 0.0141 - acc: 0.9952 - val_loss: 2.5727 - val_acc: 0.7248\n",
            "Epoch 65/100\n",
            "50000/50000 [==============================] - 23s 463us/step - loss: 0.0139 - acc: 0.9958 - val_loss: 2.6128 - val_acc: 0.7203\n",
            "Epoch 66/100\n",
            "50000/50000 [==============================] - 23s 468us/step - loss: 0.0143 - acc: 0.9955 - val_loss: 2.6060 - val_acc: 0.7243\n",
            "Epoch 67/100\n",
            "50000/50000 [==============================] - 23s 465us/step - loss: 0.0144 - acc: 0.9958 - val_loss: 2.5761 - val_acc: 0.7216\n",
            "Epoch 68/100\n",
            "50000/50000 [==============================] - 23s 467us/step - loss: 0.0143 - acc: 0.9953 - val_loss: 2.6716 - val_acc: 0.7217\n",
            "Epoch 69/100\n",
            "50000/50000 [==============================] - 23s 464us/step - loss: 0.0153 - acc: 0.9953 - val_loss: 2.6495 - val_acc: 0.7236\n",
            "Epoch 70/100\n",
            "50000/50000 [==============================] - 23s 461us/step - loss: 0.0149 - acc: 0.9952 - val_loss: 2.6731 - val_acc: 0.7215\n",
            "Epoch 71/100\n",
            "50000/50000 [==============================] - 23s 460us/step - loss: 0.0139 - acc: 0.9957 - val_loss: 2.7785 - val_acc: 0.7136\n",
            "Epoch 72/100\n",
            "50000/50000 [==============================] - 23s 467us/step - loss: 0.0154 - acc: 0.9952 - val_loss: 2.5702 - val_acc: 0.7270\n",
            "Epoch 73/100\n",
            "50000/50000 [==============================] - 23s 469us/step - loss: 0.0137 - acc: 0.9957 - val_loss: 2.7559 - val_acc: 0.7180\n",
            "Epoch 74/100\n",
            "50000/50000 [==============================] - 23s 466us/step - loss: 0.0146 - acc: 0.9949 - val_loss: 2.8610 - val_acc: 0.7147\n",
            "Epoch 75/100\n",
            "50000/50000 [==============================] - 23s 467us/step - loss: 0.0136 - acc: 0.9956 - val_loss: 2.6915 - val_acc: 0.7216\n",
            "Epoch 76/100\n",
            "50000/50000 [==============================] - 24s 472us/step - loss: 0.0141 - acc: 0.9955 - val_loss: 2.7179 - val_acc: 0.7211\n",
            "Epoch 77/100\n",
            "50000/50000 [==============================] - 23s 467us/step - loss: 0.0165 - acc: 0.9951 - val_loss: 2.7065 - val_acc: 0.7272\n",
            "Epoch 78/100\n",
            "50000/50000 [==============================] - 24s 470us/step - loss: 0.0145 - acc: 0.9952 - val_loss: 2.6011 - val_acc: 0.7242\n",
            "Epoch 79/100\n",
            "50000/50000 [==============================] - 24s 474us/step - loss: 0.0150 - acc: 0.9950 - val_loss: 2.7676 - val_acc: 0.7167\n",
            "Epoch 80/100\n",
            "50000/50000 [==============================] - 24s 470us/step - loss: 0.0141 - acc: 0.9957 - val_loss: 2.6481 - val_acc: 0.7266\n",
            "Epoch 81/100\n",
            "50000/50000 [==============================] - 23s 465us/step - loss: 0.0143 - acc: 0.9954 - val_loss: 2.6897 - val_acc: 0.7324\n",
            "Epoch 82/100\n",
            "50000/50000 [==============================] - 23s 457us/step - loss: 0.0153 - acc: 0.9956 - val_loss: 2.6528 - val_acc: 0.7302\n",
            "Epoch 83/100\n",
            "50000/50000 [==============================] - 23s 458us/step - loss: 0.0140 - acc: 0.9957 - val_loss: 2.7199 - val_acc: 0.7242\n",
            "Epoch 84/100\n",
            "50000/50000 [==============================] - 23s 461us/step - loss: 0.0157 - acc: 0.9955 - val_loss: 2.9552 - val_acc: 0.7124\n",
            "Epoch 85/100\n",
            "50000/50000 [==============================] - 23s 461us/step - loss: 0.0144 - acc: 0.9958 - val_loss: 2.7312 - val_acc: 0.7342\n",
            "Epoch 86/100\n",
            "50000/50000 [==============================] - 23s 457us/step - loss: 0.0147 - acc: 0.9956 - val_loss: 2.8374 - val_acc: 0.7203\n",
            "Epoch 87/100\n",
            "50000/50000 [==============================] - 23s 462us/step - loss: 0.0150 - acc: 0.9955 - val_loss: 2.7251 - val_acc: 0.7298\n",
            "Epoch 88/100\n",
            "50000/50000 [==============================] - 23s 464us/step - loss: 0.0148 - acc: 0.9954 - val_loss: 2.6970 - val_acc: 0.7267\n",
            "Epoch 89/100\n",
            "50000/50000 [==============================] - 23s 463us/step - loss: 0.0145 - acc: 0.9955 - val_loss: 2.7285 - val_acc: 0.7236\n",
            "Epoch 90/100\n",
            "50000/50000 [==============================] - 23s 464us/step - loss: 0.0140 - acc: 0.9958 - val_loss: 2.8416 - val_acc: 0.7217\n",
            "Epoch 91/100\n",
            "50000/50000 [==============================] - 23s 466us/step - loss: 0.0152 - acc: 0.9956 - val_loss: 2.7003 - val_acc: 0.7233\n",
            "Epoch 92/100\n",
            "50000/50000 [==============================] - 23s 467us/step - loss: 0.0130 - acc: 0.9961 - val_loss: 2.7723 - val_acc: 0.7285\n",
            "Epoch 93/100\n",
            "50000/50000 [==============================] - 23s 463us/step - loss: 0.0137 - acc: 0.9959 - val_loss: 2.7291 - val_acc: 0.7284\n",
            "Epoch 94/100\n",
            "50000/50000 [==============================] - 23s 462us/step - loss: 0.0138 - acc: 0.9955 - val_loss: 2.8475 - val_acc: 0.7241\n",
            "Epoch 95/100\n",
            "50000/50000 [==============================] - 23s 457us/step - loss: 0.0156 - acc: 0.9955 - val_loss: 2.7756 - val_acc: 0.7182\n",
            "Epoch 96/100\n",
            "50000/50000 [==============================] - 23s 455us/step - loss: 0.0118 - acc: 0.9968 - val_loss: 2.7850 - val_acc: 0.7278\n",
            "Epoch 97/100\n",
            "50000/50000 [==============================] - 23s 466us/step - loss: 0.0139 - acc: 0.9955 - val_loss: 2.8395 - val_acc: 0.7301\n",
            "Epoch 98/100\n",
            "50000/50000 [==============================] - 24s 471us/step - loss: 0.0140 - acc: 0.9957 - val_loss: 2.8371 - val_acc: 0.7249\n",
            "Epoch 99/100\n",
            "50000/50000 [==============================] - 23s 468us/step - loss: 0.0149 - acc: 0.9958 - val_loss: 2.8526 - val_acc: 0.7221\n",
            "Epoch 100/100\n",
            "50000/50000 [==============================] - 24s 471us/step - loss: 0.0119 - acc: 0.9962 - val_loss: 2.8352 - val_acc: 0.7252\n"
          ],
          "name": "stdout"
        },
        {
          "output_type": "execute_result",
          "data": {
            "text/plain": [
              "<keras.callbacks.History at 0x7fc3e42be198>"
            ]
          },
          "metadata": {
            "tags": []
          },
          "execution_count": 27
        }
      ]
    },
    {
      "metadata": {
        "id": "HnAxEw2QXUfN",
        "colab_type": "code",
        "colab": {}
      },
      "cell_type": "code",
      "source": [
        ""
      ],
      "execution_count": 0,
      "outputs": []
    }
  ]
}