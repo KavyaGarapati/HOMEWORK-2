{
  "nbformat": 4,
  "nbformat_minor": 0,
  "metadata": {
    "colab": {
      "name": "cifar-without_dropout.ipynb",
      "version": "0.3.2",
      "provenance": [],
      "collapsed_sections": [],
      "include_colab_link": true
    },
    "kernelspec": {
      "name": "python3",
      "display_name": "Python 3"
    },
    "accelerator": "GPU"
  },
  "cells": [
    {
      "cell_type": "markdown",
      "metadata": {
        "id": "view-in-github",
        "colab_type": "text"
      },
      "source": [
        "<a href=\"https://colab.research.google.com/github/KavyaGarapati/HOMEWORK-2/blob/master/cifar_without_dropout.ipynb\" target=\"_parent\"><img src=\"https://colab.research.google.com/assets/colab-badge.svg\" alt=\"Open In Colab\"/></a>"
      ]
    },
    {
      "metadata": {
        "id": "gQoM9Fh1LqUN",
        "colab_type": "code",
        "colab": {
          "base_uri": "https://localhost:8080/",
          "height": 34
        },
        "outputId": "66baf3dd-21e0-4fe4-b960-ad7233bbcc80"
      },
      "cell_type": "code",
      "source": [
        "import keras\n",
        "import keras\n",
        "from keras.datasets import cifar10\n",
        "from keras.preprocessing.image import ImageDataGenerator\n",
        "from keras.models import Sequential\n",
        "from keras.layers import Dense, Activation, Flatten\n",
        "from keras.layers import Conv2D, MaxPooling2D\n",
        "import os"
      ],
      "execution_count": 1,
      "outputs": [
        {
          "output_type": "stream",
          "text": [
            "Using TensorFlow backend.\n"
          ],
          "name": "stderr"
        }
      ]
    },
    {
      "metadata": {
        "id": "fHPsGumDK2hK",
        "colab_type": "code",
        "colab": {}
      },
      "cell_type": "code",
      "source": [
        "batch_size = 32\n",
        "num_classes = 10\n",
        "epochs = 200\n",
        "num_predictions = 20\n",
        "save_dir = os.path.join(os.getcwd(), 'saved_models')\n",
        "model_name = 'keras_cifar10_trained_model.h5'"
      ],
      "execution_count": 0,
      "outputs": []
    },
    {
      "metadata": {
        "id": "wdYI01crNd_V",
        "colab_type": "code",
        "outputId": "545cc13d-4911-4c45-fd13-0d63e08d490d",
        "colab": {
          "base_uri": "https://localhost:8080/",
          "height": 102
        }
      },
      "cell_type": "code",
      "source": [
        "(x_train, y_train), (x_test, y_test) = cifar10.load_data()\n",
        "print('x_train shape:', x_train.shape)\n",
        "print(x_train.shape[0], 'train samples')\n",
        "print(x_test.shape[0], 'test samples')"
      ],
      "execution_count": 3,
      "outputs": [
        {
          "output_type": "stream",
          "text": [
            "Downloading data from https://www.cs.toronto.edu/~kriz/cifar-10-python.tar.gz\n",
            "170500096/170498071 [==============================] - 85s 0us/step\n",
            "x_train shape: (50000, 32, 32, 3)\n",
            "50000 train samples\n",
            "10000 test samples\n"
          ],
          "name": "stdout"
        }
      ]
    },
    {
      "metadata": {
        "id": "1rSlKhlzOism",
        "colab_type": "code",
        "colab": {}
      },
      "cell_type": "code",
      "source": [
        "is_converted_categorical = False"
      ],
      "execution_count": 0,
      "outputs": []
    },
    {
      "metadata": {
        "id": "dhXQcN32NfqN",
        "colab_type": "code",
        "colab": {}
      },
      "cell_type": "code",
      "source": [
        "if(not is_converted_categorical):\n",
        "  y_train = keras.utils.to_categorical(y_train, num_classes)\n",
        "  y_test = keras.utils.to_categorical(y_test, num_classes)\n",
        "  is_converted_categorical = True\n"
      ],
      "execution_count": 0,
      "outputs": []
    },
    {
      "metadata": {
        "id": "Dt8MAgzwNthd",
        "colab_type": "code",
        "outputId": "ba1661ec-6b68-443a-fa14-98e9322a852d",
        "colab": {
          "base_uri": "https://localhost:8080/",
          "height": 34
        }
      },
      "cell_type": "code",
      "source": [
        "y_train.shape"
      ],
      "execution_count": 6,
      "outputs": [
        {
          "output_type": "execute_result",
          "data": {
            "text/plain": [
              "(50000, 10)"
            ]
          },
          "metadata": {
            "tags": []
          },
          "execution_count": 6
        }
      ]
    },
    {
      "metadata": {
        "id": "HOGicWm_Of2p",
        "colab_type": "code",
        "colab": {
          "base_uri": "https://localhost:8080/",
          "height": 93
        },
        "outputId": "fe1320cc-b756-4cd2-e167-d74ae7eb72f9"
      },
      "cell_type": "code",
      "source": [
        "model = Sequential()\n",
        "model.add(Conv2D(32, (3, 3), padding='same',\n",
        "                 input_shape=x_train.shape[1:]))\n",
        "model.add(Activation('relu'))\n",
        "model.add(Conv2D(32, (3, 3)))\n",
        "model.add(Activation('relu'))\n",
        "model.add(MaxPooling2D(pool_size=(2, 2)))\n",
        "\n",
        "model.add(Conv2D(64, (3, 3), padding='same'))\n",
        "model.add(Activation('relu'))\n",
        "model.add(Conv2D(64, (3, 3)))\n",
        "model.add(Activation('relu'))\n",
        "model.add(MaxPooling2D(pool_size=(2, 2)))\n",
        "\n",
        "model.add(Flatten())\n",
        "model.add(Dense(512))\n",
        "model.add(Activation('relu'))\n",
        "model.add(Dense(num_classes))\n",
        "model.add(Activation('softmax'))"
      ],
      "execution_count": 7,
      "outputs": [
        {
          "output_type": "stream",
          "text": [
            "WARNING:tensorflow:From /usr/local/lib/python3.6/dist-packages/tensorflow/python/framework/op_def_library.py:263: colocate_with (from tensorflow.python.framework.ops) is deprecated and will be removed in a future version.\n",
            "Instructions for updating:\n",
            "Colocations handled automatically by placer.\n"
          ],
          "name": "stdout"
        }
      ]
    },
    {
      "metadata": {
        "id": "8K-zrSv0PEqb",
        "colab_type": "code",
        "outputId": "36b6649b-ec94-4a5a-889a-21d5d43de4e5",
        "colab": {
          "base_uri": "https://localhost:8080/",
          "height": 34
        }
      },
      "cell_type": "code",
      "source": [
        "x_train.shape[1:]"
      ],
      "execution_count": 8,
      "outputs": [
        {
          "output_type": "execute_result",
          "data": {
            "text/plain": [
              "(32, 32, 3)"
            ]
          },
          "metadata": {
            "tags": []
          },
          "execution_count": 8
        }
      ]
    },
    {
      "metadata": {
        "id": "WEs2UKsg--wl",
        "colab_type": "code",
        "outputId": "28d23292-ba61-4957-d4ef-b879c793d46d",
        "colab": {
          "base_uri": "https://localhost:8080/",
          "height": 646
        }
      },
      "cell_type": "code",
      "source": [
        "model.summary()"
      ],
      "execution_count": 9,
      "outputs": [
        {
          "output_type": "stream",
          "text": [
            "_________________________________________________________________\n",
            "Layer (type)                 Output Shape              Param #   \n",
            "=================================================================\n",
            "conv2d_1 (Conv2D)            (None, 32, 32, 32)        896       \n",
            "_________________________________________________________________\n",
            "activation_1 (Activation)    (None, 32, 32, 32)        0         \n",
            "_________________________________________________________________\n",
            "conv2d_2 (Conv2D)            (None, 30, 30, 32)        9248      \n",
            "_________________________________________________________________\n",
            "activation_2 (Activation)    (None, 30, 30, 32)        0         \n",
            "_________________________________________________________________\n",
            "max_pooling2d_1 (MaxPooling2 (None, 15, 15, 32)        0         \n",
            "_________________________________________________________________\n",
            "conv2d_3 (Conv2D)            (None, 15, 15, 64)        18496     \n",
            "_________________________________________________________________\n",
            "activation_3 (Activation)    (None, 15, 15, 64)        0         \n",
            "_________________________________________________________________\n",
            "conv2d_4 (Conv2D)            (None, 13, 13, 64)        36928     \n",
            "_________________________________________________________________\n",
            "activation_4 (Activation)    (None, 13, 13, 64)        0         \n",
            "_________________________________________________________________\n",
            "max_pooling2d_2 (MaxPooling2 (None, 6, 6, 64)          0         \n",
            "_________________________________________________________________\n",
            "flatten_1 (Flatten)          (None, 2304)              0         \n",
            "_________________________________________________________________\n",
            "dense_1 (Dense)              (None, 512)               1180160   \n",
            "_________________________________________________________________\n",
            "activation_5 (Activation)    (None, 512)               0         \n",
            "_________________________________________________________________\n",
            "dense_2 (Dense)              (None, 10)                5130      \n",
            "_________________________________________________________________\n",
            "activation_6 (Activation)    (None, 10)                0         \n",
            "=================================================================\n",
            "Total params: 1,250,858\n",
            "Trainable params: 1,250,858\n",
            "Non-trainable params: 0\n",
            "_________________________________________________________________\n"
          ],
          "name": "stdout"
        }
      ]
    },
    {
      "metadata": {
        "id": "JvB0GGUJPLQC",
        "colab_type": "code",
        "colab": {}
      },
      "cell_type": "code",
      "source": [
        "# initiate RMSprop optimizer\n",
        "opt = keras.optimizers.rmsprop(lr=0.0001, decay=1e-6)\n"
      ],
      "execution_count": 0,
      "outputs": []
    },
    {
      "metadata": {
        "id": "mp59F_mGPZt3",
        "colab_type": "code",
        "colab": {}
      },
      "cell_type": "code",
      "source": [
        "model.compile(loss='categorical_crossentropy',\n",
        "              optimizer=opt,\n",
        "              metrics=['accuracy'])"
      ],
      "execution_count": 0,
      "outputs": []
    },
    {
      "metadata": {
        "id": "9W3g01fPPbk2",
        "colab_type": "code",
        "colab": {}
      },
      "cell_type": "code",
      "source": [
        "x_train = x_train.astype('float32')\n",
        "x_test = x_test.astype('float32')\n",
        "x_train /= 255\n",
        "x_test /= 255"
      ],
      "execution_count": 0,
      "outputs": []
    },
    {
      "metadata": {
        "id": "JU3XXFDVPqdW",
        "colab_type": "code",
        "outputId": "9ff34a79-97e7-4583-c35c-813fbce503ae",
        "colab": {
          "base_uri": "https://localhost:8080/",
          "height": 6922
        }
      },
      "cell_type": "code",
      "source": [
        "model.fit(x_train, y_train,\n",
        "              batch_size=batch_size,\n",
        "              epochs=epochs,\n",
        "              validation_data=(x_test, y_test),\n",
        "              shuffle=True)"
      ],
      "execution_count": 13,
      "outputs": [
        {
          "output_type": "stream",
          "text": [
            "WARNING:tensorflow:From /usr/local/lib/python3.6/dist-packages/tensorflow/python/ops/math_ops.py:3066: to_int32 (from tensorflow.python.ops.math_ops) is deprecated and will be removed in a future version.\n",
            "Instructions for updating:\n",
            "Use tf.cast instead.\n",
            "Train on 50000 samples, validate on 10000 samples\n",
            "Epoch 1/200\n",
            "50000/50000 [==============================] - 23s 462us/step - loss: 1.6453 - acc: 0.4093 - val_loss: 1.4947 - val_acc: 0.4692\n",
            "Epoch 2/200\n",
            "50000/50000 [==============================] - 18s 364us/step - loss: 1.3202 - acc: 0.5313 - val_loss: 1.3393 - val_acc: 0.5278\n",
            "Epoch 3/200\n",
            "50000/50000 [==============================] - 18s 365us/step - loss: 1.1692 - acc: 0.5913 - val_loss: 1.1335 - val_acc: 0.6011\n",
            "Epoch 4/200\n",
            "50000/50000 [==============================] - 18s 365us/step - loss: 1.0539 - acc: 0.6334 - val_loss: 1.0515 - val_acc: 0.6281\n",
            "Epoch 5/200\n",
            "50000/50000 [==============================] - 18s 365us/step - loss: 0.9674 - acc: 0.6633 - val_loss: 0.9822 - val_acc: 0.6541\n",
            "Epoch 6/200\n",
            "50000/50000 [==============================] - 18s 365us/step - loss: 0.8955 - acc: 0.6892 - val_loss: 1.0989 - val_acc: 0.6290\n",
            "Epoch 7/200\n",
            "50000/50000 [==============================] - 18s 363us/step - loss: 0.8287 - acc: 0.7150 - val_loss: 0.8948 - val_acc: 0.6940\n",
            "Epoch 8/200\n",
            "50000/50000 [==============================] - 18s 363us/step - loss: 0.7696 - acc: 0.7345 - val_loss: 0.8912 - val_acc: 0.7017\n",
            "Epoch 9/200\n",
            "50000/50000 [==============================] - 18s 364us/step - loss: 0.7121 - acc: 0.7549 - val_loss: 0.8558 - val_acc: 0.7101\n",
            "Epoch 10/200\n",
            "50000/50000 [==============================] - 18s 364us/step - loss: 0.6576 - acc: 0.7740 - val_loss: 0.8431 - val_acc: 0.7124\n",
            "Epoch 11/200\n",
            "50000/50000 [==============================] - 18s 365us/step - loss: 0.6086 - acc: 0.7900 - val_loss: 0.8162 - val_acc: 0.7213\n",
            "Epoch 12/200\n",
            "50000/50000 [==============================] - 18s 364us/step - loss: 0.5608 - acc: 0.8081 - val_loss: 0.8348 - val_acc: 0.7185\n",
            "Epoch 13/200\n",
            "50000/50000 [==============================] - 18s 364us/step - loss: 0.5139 - acc: 0.8233 - val_loss: 0.8554 - val_acc: 0.7248\n",
            "Epoch 14/200\n",
            "50000/50000 [==============================] - 18s 364us/step - loss: 0.4689 - acc: 0.8407 - val_loss: 0.8624 - val_acc: 0.7260\n",
            "Epoch 15/200\n",
            "50000/50000 [==============================] - 18s 365us/step - loss: 0.4240 - acc: 0.8561 - val_loss: 0.8425 - val_acc: 0.7335\n",
            "Epoch 16/200\n",
            "50000/50000 [==============================] - 18s 365us/step - loss: 0.3799 - acc: 0.8713 - val_loss: 0.8676 - val_acc: 0.7309\n",
            "Epoch 17/200\n",
            "50000/50000 [==============================] - 18s 365us/step - loss: 0.3381 - acc: 0.8855 - val_loss: 0.9871 - val_acc: 0.7010\n",
            "Epoch 18/200\n",
            "50000/50000 [==============================] - 18s 365us/step - loss: 0.2987 - acc: 0.8998 - val_loss: 1.0210 - val_acc: 0.7231\n",
            "Epoch 19/200\n",
            "50000/50000 [==============================] - 18s 364us/step - loss: 0.2609 - acc: 0.9132 - val_loss: 0.9894 - val_acc: 0.7289\n",
            "Epoch 20/200\n",
            "50000/50000 [==============================] - 18s 365us/step - loss: 0.2267 - acc: 0.9261 - val_loss: 1.0619 - val_acc: 0.7282\n",
            "Epoch 21/200\n",
            "50000/50000 [==============================] - 18s 364us/step - loss: 0.1926 - acc: 0.9377 - val_loss: 1.0705 - val_acc: 0.7393\n",
            "Epoch 22/200\n",
            "50000/50000 [==============================] - 18s 366us/step - loss: 0.1651 - acc: 0.9460 - val_loss: 1.1330 - val_acc: 0.7281\n",
            "Epoch 23/200\n",
            "50000/50000 [==============================] - 18s 364us/step - loss: 0.1357 - acc: 0.9563 - val_loss: 1.3031 - val_acc: 0.7165\n",
            "Epoch 24/200\n",
            "50000/50000 [==============================] - 18s 364us/step - loss: 0.1141 - acc: 0.9634 - val_loss: 1.4094 - val_acc: 0.7142\n",
            "Epoch 25/200\n",
            "50000/50000 [==============================] - 18s 364us/step - loss: 0.0959 - acc: 0.9696 - val_loss: 1.3572 - val_acc: 0.7239\n",
            "Epoch 26/200\n",
            "50000/50000 [==============================] - 18s 365us/step - loss: 0.0795 - acc: 0.9746 - val_loss: 1.4493 - val_acc: 0.7290\n",
            "Epoch 27/200\n",
            "50000/50000 [==============================] - 18s 364us/step - loss: 0.0655 - acc: 0.9796 - val_loss: 1.4814 - val_acc: 0.7363\n",
            "Epoch 28/200\n",
            "50000/50000 [==============================] - 18s 364us/step - loss: 0.0562 - acc: 0.9823 - val_loss: 1.6310 - val_acc: 0.7277\n",
            "Epoch 29/200\n",
            "50000/50000 [==============================] - 18s 363us/step - loss: 0.0481 - acc: 0.9851 - val_loss: 1.6716 - val_acc: 0.7237\n",
            "Epoch 30/200\n",
            "50000/50000 [==============================] - 18s 363us/step - loss: 0.0401 - acc: 0.9871 - val_loss: 1.6880 - val_acc: 0.7362\n",
            "Epoch 31/200\n",
            "50000/50000 [==============================] - 18s 364us/step - loss: 0.0376 - acc: 0.9879 - val_loss: 1.8986 - val_acc: 0.7192\n",
            "Epoch 32/200\n",
            "50000/50000 [==============================] - 18s 364us/step - loss: 0.0326 - acc: 0.9899 - val_loss: 1.9050 - val_acc: 0.7206\n",
            "Epoch 33/200\n",
            "50000/50000 [==============================] - 18s 363us/step - loss: 0.0293 - acc: 0.9910 - val_loss: 1.8752 - val_acc: 0.7310\n",
            "Epoch 34/200\n",
            "50000/50000 [==============================] - 18s 365us/step - loss: 0.0258 - acc: 0.9919 - val_loss: 1.9364 - val_acc: 0.7236\n",
            "Epoch 35/200\n",
            "50000/50000 [==============================] - 18s 363us/step - loss: 0.0245 - acc: 0.9918 - val_loss: 1.9420 - val_acc: 0.7327\n",
            "Epoch 36/200\n",
            "50000/50000 [==============================] - 18s 364us/step - loss: 0.0231 - acc: 0.9929 - val_loss: 1.9594 - val_acc: 0.7315\n",
            "Epoch 37/200\n",
            "50000/50000 [==============================] - 18s 363us/step - loss: 0.0226 - acc: 0.9928 - val_loss: 2.1828 - val_acc: 0.7210\n",
            "Epoch 38/200\n",
            "50000/50000 [==============================] - 18s 365us/step - loss: 0.0196 - acc: 0.9941 - val_loss: 2.0258 - val_acc: 0.7371\n",
            "Epoch 39/200\n",
            "50000/50000 [==============================] - 18s 364us/step - loss: 0.0189 - acc: 0.9940 - val_loss: 2.2329 - val_acc: 0.7152\n",
            "Epoch 40/200\n",
            "50000/50000 [==============================] - 18s 364us/step - loss: 0.0186 - acc: 0.9937 - val_loss: 2.1418 - val_acc: 0.7307\n",
            "Epoch 41/200\n",
            "50000/50000 [==============================] - 18s 365us/step - loss: 0.0165 - acc: 0.9945 - val_loss: 2.3282 - val_acc: 0.7203\n",
            "Epoch 42/200\n",
            "50000/50000 [==============================] - 18s 363us/step - loss: 0.0154 - acc: 0.9952 - val_loss: 2.1357 - val_acc: 0.7300\n",
            "Epoch 43/200\n",
            "50000/50000 [==============================] - 18s 364us/step - loss: 0.0147 - acc: 0.9952 - val_loss: 2.2712 - val_acc: 0.7294\n",
            "Epoch 44/200\n",
            "50000/50000 [==============================] - 18s 364us/step - loss: 0.0164 - acc: 0.9945 - val_loss: 2.2007 - val_acc: 0.7297\n",
            "Epoch 45/200\n",
            "50000/50000 [==============================] - 18s 365us/step - loss: 0.0152 - acc: 0.9951 - val_loss: 2.2805 - val_acc: 0.7364\n",
            "Epoch 46/200\n",
            "50000/50000 [==============================] - 18s 364us/step - loss: 0.0149 - acc: 0.9953 - val_loss: 2.3346 - val_acc: 0.7274\n",
            "Epoch 47/200\n",
            "50000/50000 [==============================] - 18s 364us/step - loss: 0.0148 - acc: 0.9953 - val_loss: 2.3011 - val_acc: 0.7307\n",
            "Epoch 48/200\n",
            "50000/50000 [==============================] - 18s 364us/step - loss: 0.0142 - acc: 0.9955 - val_loss: 2.4457 - val_acc: 0.7241\n",
            "Epoch 49/200\n",
            "50000/50000 [==============================] - 18s 364us/step - loss: 0.0125 - acc: 0.9959 - val_loss: 2.4430 - val_acc: 0.7228\n",
            "Epoch 50/200\n",
            "50000/50000 [==============================] - 18s 364us/step - loss: 0.0128 - acc: 0.9959 - val_loss: 2.5105 - val_acc: 0.7222\n",
            "Epoch 51/200\n",
            "50000/50000 [==============================] - 18s 366us/step - loss: 0.0117 - acc: 0.9962 - val_loss: 2.3877 - val_acc: 0.7319\n",
            "Epoch 52/200\n",
            "50000/50000 [==============================] - 18s 364us/step - loss: 0.0117 - acc: 0.9961 - val_loss: 2.4243 - val_acc: 0.7247\n",
            "Epoch 53/200\n",
            "50000/50000 [==============================] - 18s 363us/step - loss: 0.0114 - acc: 0.9965 - val_loss: 2.4577 - val_acc: 0.7260\n",
            "Epoch 54/200\n",
            "50000/50000 [==============================] - 18s 365us/step - loss: 0.0115 - acc: 0.9962 - val_loss: 2.5156 - val_acc: 0.7261\n",
            "Epoch 55/200\n",
            "50000/50000 [==============================] - 18s 365us/step - loss: 0.0102 - acc: 0.9968 - val_loss: 2.5497 - val_acc: 0.7286\n",
            "Epoch 56/200\n",
            "50000/50000 [==============================] - 18s 365us/step - loss: 0.0108 - acc: 0.9964 - val_loss: 2.5120 - val_acc: 0.7329\n",
            "Epoch 57/200\n",
            "50000/50000 [==============================] - 18s 364us/step - loss: 0.0111 - acc: 0.9967 - val_loss: 2.5128 - val_acc: 0.7276\n",
            "Epoch 58/200\n",
            "50000/50000 [==============================] - 18s 364us/step - loss: 0.0104 - acc: 0.9964 - val_loss: 2.5429 - val_acc: 0.7271\n",
            "Epoch 59/200\n",
            "50000/50000 [==============================] - 18s 363us/step - loss: 0.0106 - acc: 0.9967 - val_loss: 2.5269 - val_acc: 0.7281\n",
            "Epoch 60/200\n",
            "50000/50000 [==============================] - 18s 364us/step - loss: 0.0114 - acc: 0.9966 - val_loss: 2.4928 - val_acc: 0.7292\n",
            "Epoch 61/200\n",
            "50000/50000 [==============================] - 18s 364us/step - loss: 0.0099 - acc: 0.9968 - val_loss: 2.5705 - val_acc: 0.7335\n",
            "Epoch 62/200\n",
            "50000/50000 [==============================] - 18s 364us/step - loss: 0.0105 - acc: 0.9967 - val_loss: 2.5579 - val_acc: 0.7299\n",
            "Epoch 63/200\n",
            "50000/50000 [==============================] - 18s 365us/step - loss: 0.0093 - acc: 0.9969 - val_loss: 2.5671 - val_acc: 0.7255\n",
            "Epoch 64/200\n",
            "50000/50000 [==============================] - 18s 365us/step - loss: 0.0096 - acc: 0.9969 - val_loss: 2.5578 - val_acc: 0.7378\n",
            "Epoch 65/200\n",
            "50000/50000 [==============================] - 18s 364us/step - loss: 0.0091 - acc: 0.9969 - val_loss: 2.5884 - val_acc: 0.7312\n",
            "Epoch 66/200\n",
            "50000/50000 [==============================] - 18s 364us/step - loss: 0.0095 - acc: 0.9972 - val_loss: 2.6649 - val_acc: 0.7325\n",
            "Epoch 67/200\n",
            "50000/50000 [==============================] - 18s 364us/step - loss: 0.0083 - acc: 0.9975 - val_loss: 2.6151 - val_acc: 0.7355\n",
            "Epoch 68/200\n",
            "50000/50000 [==============================] - 18s 366us/step - loss: 0.0103 - acc: 0.9967 - val_loss: 2.6792 - val_acc: 0.7295\n",
            "Epoch 69/200\n",
            "50000/50000 [==============================] - 18s 363us/step - loss: 0.0091 - acc: 0.9970 - val_loss: 2.6429 - val_acc: 0.7296\n",
            "Epoch 70/200\n",
            "50000/50000 [==============================] - 18s 364us/step - loss: 0.0088 - acc: 0.9972 - val_loss: 2.6755 - val_acc: 0.7308\n",
            "Epoch 71/200\n",
            "50000/50000 [==============================] - 18s 364us/step - loss: 0.0080 - acc: 0.9975 - val_loss: 2.6799 - val_acc: 0.7289\n",
            "Epoch 72/200\n",
            "50000/50000 [==============================] - 18s 366us/step - loss: 0.0091 - acc: 0.9970 - val_loss: 2.7190 - val_acc: 0.7262\n",
            "Epoch 73/200\n",
            "50000/50000 [==============================] - 18s 365us/step - loss: 0.0089 - acc: 0.9976 - val_loss: 2.7813 - val_acc: 0.7314\n",
            "Epoch 74/200\n",
            "50000/50000 [==============================] - 18s 363us/step - loss: 0.0077 - acc: 0.9976 - val_loss: 2.7694 - val_acc: 0.7290\n",
            "Epoch 75/200\n",
            "50000/50000 [==============================] - 18s 364us/step - loss: 0.0095 - acc: 0.9970 - val_loss: 2.7460 - val_acc: 0.7346\n",
            "Epoch 76/200\n",
            "50000/50000 [==============================] - 18s 365us/step - loss: 0.0083 - acc: 0.9971 - val_loss: 2.7407 - val_acc: 0.7349\n",
            "Epoch 77/200\n",
            "50000/50000 [==============================] - 18s 363us/step - loss: 0.0086 - acc: 0.9972 - val_loss: 2.7792 - val_acc: 0.7244\n",
            "Epoch 78/200\n",
            "50000/50000 [==============================] - 18s 364us/step - loss: 0.0086 - acc: 0.9973 - val_loss: 2.7643 - val_acc: 0.7312\n",
            "Epoch 79/200\n",
            "50000/50000 [==============================] - 18s 363us/step - loss: 0.0090 - acc: 0.9972 - val_loss: 2.7791 - val_acc: 0.7264\n",
            "Epoch 80/200\n",
            "50000/50000 [==============================] - 18s 364us/step - loss: 0.0089 - acc: 0.9973 - val_loss: 2.7231 - val_acc: 0.7376\n",
            "Epoch 81/200\n",
            "50000/50000 [==============================] - 18s 364us/step - loss: 0.0087 - acc: 0.9971 - val_loss: 2.8276 - val_acc: 0.7317\n",
            "Epoch 82/200\n",
            "50000/50000 [==============================] - 18s 362us/step - loss: 0.0089 - acc: 0.9973 - val_loss: 2.7883 - val_acc: 0.7327\n",
            "Epoch 83/200\n",
            "50000/50000 [==============================] - 18s 364us/step - loss: 0.0078 - acc: 0.9977 - val_loss: 2.9421 - val_acc: 0.7222\n",
            "Epoch 84/200\n",
            "50000/50000 [==============================] - 18s 363us/step - loss: 0.0091 - acc: 0.9973 - val_loss: 2.8109 - val_acc: 0.7339\n",
            "Epoch 85/200\n",
            "50000/50000 [==============================] - 18s 366us/step - loss: 0.0082 - acc: 0.9975 - val_loss: 2.8123 - val_acc: 0.7335\n",
            "Epoch 86/200\n",
            "50000/50000 [==============================] - 18s 363us/step - loss: 0.0072 - acc: 0.9978 - val_loss: 2.9725 - val_acc: 0.7230\n",
            "Epoch 87/200\n",
            "50000/50000 [==============================] - 18s 364us/step - loss: 0.0073 - acc: 0.9978 - val_loss: 2.8865 - val_acc: 0.7286\n",
            "Epoch 88/200\n",
            "50000/50000 [==============================] - 18s 363us/step - loss: 0.0071 - acc: 0.9977 - val_loss: 3.0354 - val_acc: 0.7230\n",
            "Epoch 89/200\n",
            "50000/50000 [==============================] - 18s 366us/step - loss: 0.0070 - acc: 0.9979 - val_loss: 2.8855 - val_acc: 0.7293\n",
            "Epoch 90/200\n",
            "50000/50000 [==============================] - 18s 365us/step - loss: 0.0081 - acc: 0.9977 - val_loss: 3.0983 - val_acc: 0.7113\n",
            "Epoch 91/200\n",
            "50000/50000 [==============================] - 18s 364us/step - loss: 0.0084 - acc: 0.9977 - val_loss: 2.8865 - val_acc: 0.7289\n",
            "Epoch 92/200\n",
            "50000/50000 [==============================] - 18s 364us/step - loss: 0.0076 - acc: 0.9976 - val_loss: 2.8560 - val_acc: 0.7326\n",
            "Epoch 93/200\n",
            "50000/50000 [==============================] - 18s 364us/step - loss: 0.0080 - acc: 0.9975 - val_loss: 2.9118 - val_acc: 0.7304\n",
            "Epoch 94/200\n",
            "50000/50000 [==============================] - 18s 363us/step - loss: 0.0076 - acc: 0.9975 - val_loss: 2.8805 - val_acc: 0.7301\n",
            "Epoch 95/200\n",
            "50000/50000 [==============================] - 18s 363us/step - loss: 0.0084 - acc: 0.9977 - val_loss: 2.9434 - val_acc: 0.7271\n",
            "Epoch 96/200\n",
            "50000/50000 [==============================] - 18s 364us/step - loss: 0.0082 - acc: 0.9974 - val_loss: 2.8939 - val_acc: 0.7313\n",
            "Epoch 97/200\n",
            "50000/50000 [==============================] - 18s 363us/step - loss: 0.0086 - acc: 0.9978 - val_loss: 2.8900 - val_acc: 0.7310\n",
            "Epoch 98/200\n",
            "50000/50000 [==============================] - 18s 364us/step - loss: 0.0091 - acc: 0.9975 - val_loss: 2.9227 - val_acc: 0.7295\n",
            "Epoch 99/200\n",
            "50000/50000 [==============================] - 18s 364us/step - loss: 0.0088 - acc: 0.9976 - val_loss: 2.9165 - val_acc: 0.7362\n",
            "Epoch 100/200\n",
            "50000/50000 [==============================] - 18s 364us/step - loss: 0.0065 - acc: 0.9979 - val_loss: 2.9258 - val_acc: 0.7337\n",
            "Epoch 101/200\n",
            "50000/50000 [==============================] - 18s 364us/step - loss: 0.0091 - acc: 0.9974 - val_loss: 3.0174 - val_acc: 0.7258\n",
            "Epoch 102/200\n",
            "50000/50000 [==============================] - 18s 364us/step - loss: 0.0067 - acc: 0.9979 - val_loss: 2.9128 - val_acc: 0.7319\n",
            "Epoch 103/200\n",
            "50000/50000 [==============================] - 18s 364us/step - loss: 0.0072 - acc: 0.9976 - val_loss: 3.0104 - val_acc: 0.7270\n",
            "Epoch 104/200\n",
            "50000/50000 [==============================] - 18s 364us/step - loss: 0.0090 - acc: 0.9973 - val_loss: 3.1079 - val_acc: 0.7228\n",
            "Epoch 105/200\n",
            "50000/50000 [==============================] - 18s 364us/step - loss: 0.0086 - acc: 0.9977 - val_loss: 2.9587 - val_acc: 0.7331\n",
            "Epoch 106/200\n",
            "50000/50000 [==============================] - 18s 365us/step - loss: 0.0090 - acc: 0.9973 - val_loss: 2.9726 - val_acc: 0.7260\n",
            "Epoch 107/200\n",
            "50000/50000 [==============================] - 18s 362us/step - loss: 0.0087 - acc: 0.9977 - val_loss: 2.9994 - val_acc: 0.7318\n",
            "Epoch 108/200\n",
            "50000/50000 [==============================] - 18s 364us/step - loss: 0.0079 - acc: 0.9977 - val_loss: 3.1111 - val_acc: 0.7207\n",
            "Epoch 109/200\n",
            "50000/50000 [==============================] - 18s 363us/step - loss: 0.0091 - acc: 0.9975 - val_loss: 2.9617 - val_acc: 0.7271\n",
            "Epoch 110/200\n",
            "50000/50000 [==============================] - 18s 364us/step - loss: 0.0082 - acc: 0.9976 - val_loss: 2.9826 - val_acc: 0.7297\n",
            "Epoch 111/200\n",
            "50000/50000 [==============================] - 18s 364us/step - loss: 0.0079 - acc: 0.9979 - val_loss: 2.9193 - val_acc: 0.7374\n",
            "Epoch 112/200\n",
            "50000/50000 [==============================] - 18s 363us/step - loss: 0.0087 - acc: 0.9977 - val_loss: 2.9787 - val_acc: 0.7318\n",
            "Epoch 113/200\n",
            "50000/50000 [==============================] - 18s 364us/step - loss: 0.0104 - acc: 0.9970 - val_loss: 3.0164 - val_acc: 0.7326\n",
            "Epoch 114/200\n",
            "50000/50000 [==============================] - 18s 363us/step - loss: 0.0099 - acc: 0.9969 - val_loss: 3.1739 - val_acc: 0.7222\n",
            "Epoch 115/200\n",
            "50000/50000 [==============================] - 18s 363us/step - loss: 0.0099 - acc: 0.9976 - val_loss: 2.9961 - val_acc: 0.7351\n",
            "Epoch 116/200\n",
            "50000/50000 [==============================] - 18s 364us/step - loss: 0.0092 - acc: 0.9976 - val_loss: 3.0707 - val_acc: 0.7243\n",
            "Epoch 117/200\n",
            "50000/50000 [==============================] - 18s 363us/step - loss: 0.0066 - acc: 0.9978 - val_loss: 3.1349 - val_acc: 0.7202\n",
            "Epoch 118/200\n",
            "50000/50000 [==============================] - 18s 365us/step - loss: 0.0097 - acc: 0.9976 - val_loss: 3.0664 - val_acc: 0.7331\n",
            "Epoch 119/200\n",
            "50000/50000 [==============================] - 18s 365us/step - loss: 0.0078 - acc: 0.9976 - val_loss: 3.0584 - val_acc: 0.7301\n",
            "Epoch 120/200\n",
            "50000/50000 [==============================] - 18s 365us/step - loss: 0.0075 - acc: 0.9981 - val_loss: 3.1133 - val_acc: 0.7282\n",
            "Epoch 121/200\n",
            "50000/50000 [==============================] - 18s 365us/step - loss: 0.0096 - acc: 0.9973 - val_loss: 3.1313 - val_acc: 0.7204\n",
            "Epoch 122/200\n",
            "50000/50000 [==============================] - 18s 365us/step - loss: 0.0091 - acc: 0.9970 - val_loss: 3.1198 - val_acc: 0.7281\n",
            "Epoch 123/200\n",
            "50000/50000 [==============================] - 18s 365us/step - loss: 0.0091 - acc: 0.9970 - val_loss: 3.0726 - val_acc: 0.7305\n",
            "Epoch 124/200\n",
            "50000/50000 [==============================] - 18s 363us/step - loss: 0.0099 - acc: 0.9975 - val_loss: 3.2200 - val_acc: 0.7220\n",
            "Epoch 125/200\n",
            "50000/50000 [==============================] - 18s 363us/step - loss: 0.0103 - acc: 0.9972 - val_loss: 3.1502 - val_acc: 0.7240\n",
            "Epoch 126/200\n",
            "50000/50000 [==============================] - 18s 363us/step - loss: 0.0077 - acc: 0.9977 - val_loss: 3.1951 - val_acc: 0.7165\n",
            "Epoch 127/200\n",
            "50000/50000 [==============================] - 18s 363us/step - loss: 0.0103 - acc: 0.9973 - val_loss: 3.0769 - val_acc: 0.7290\n",
            "Epoch 128/200\n",
            "50000/50000 [==============================] - 18s 363us/step - loss: 0.0103 - acc: 0.9972 - val_loss: 3.2996 - val_acc: 0.7153\n",
            "Epoch 129/200\n",
            "50000/50000 [==============================] - 18s 363us/step - loss: 0.0101 - acc: 0.9975 - val_loss: 3.1009 - val_acc: 0.7323\n",
            "Epoch 130/200\n",
            "50000/50000 [==============================] - 18s 363us/step - loss: 0.0105 - acc: 0.9972 - val_loss: 3.1504 - val_acc: 0.7255\n",
            "Epoch 131/200\n",
            "50000/50000 [==============================] - 18s 364us/step - loss: 0.0097 - acc: 0.9976 - val_loss: 3.1406 - val_acc: 0.7235\n",
            "Epoch 132/200\n",
            "50000/50000 [==============================] - 18s 363us/step - loss: 0.0094 - acc: 0.9975 - val_loss: 3.1708 - val_acc: 0.7223\n",
            "Epoch 133/200\n",
            "50000/50000 [==============================] - 18s 363us/step - loss: 0.0116 - acc: 0.9969 - val_loss: 3.2022 - val_acc: 0.7236\n",
            "Epoch 134/200\n",
            "50000/50000 [==============================] - 18s 363us/step - loss: 0.0115 - acc: 0.9971 - val_loss: 3.0796 - val_acc: 0.7286\n",
            "Epoch 135/200\n",
            "50000/50000 [==============================] - 18s 363us/step - loss: 0.0116 - acc: 0.9968 - val_loss: 3.1305 - val_acc: 0.7278\n",
            "Epoch 136/200\n",
            "50000/50000 [==============================] - 18s 364us/step - loss: 0.0097 - acc: 0.9973 - val_loss: 3.1659 - val_acc: 0.7282\n",
            "Epoch 137/200\n",
            "50000/50000 [==============================] - 18s 363us/step - loss: 0.0106 - acc: 0.9971 - val_loss: 3.2302 - val_acc: 0.7208\n",
            "Epoch 138/200\n",
            "50000/50000 [==============================] - 18s 364us/step - loss: 0.0112 - acc: 0.9970 - val_loss: 3.1359 - val_acc: 0.7309\n",
            "Epoch 139/200\n",
            "50000/50000 [==============================] - 18s 364us/step - loss: 0.0098 - acc: 0.9973 - val_loss: 3.1945 - val_acc: 0.7270\n",
            "Epoch 140/200\n",
            "50000/50000 [==============================] - 18s 363us/step - loss: 0.0085 - acc: 0.9975 - val_loss: 3.1336 - val_acc: 0.7298\n",
            "Epoch 141/200\n",
            "50000/50000 [==============================] - 18s 362us/step - loss: 0.0110 - acc: 0.9972 - val_loss: 3.1486 - val_acc: 0.7287\n",
            "Epoch 142/200\n",
            "50000/50000 [==============================] - 18s 363us/step - loss: 0.0092 - acc: 0.9974 - val_loss: 3.3009 - val_acc: 0.7168\n",
            "Epoch 143/200\n",
            "50000/50000 [==============================] - 18s 364us/step - loss: 0.0101 - acc: 0.9973 - val_loss: 3.2743 - val_acc: 0.7149\n",
            "Epoch 144/200\n",
            "50000/50000 [==============================] - 18s 362us/step - loss: 0.0090 - acc: 0.9974 - val_loss: 3.3831 - val_acc: 0.7058\n",
            "Epoch 145/200\n",
            "50000/50000 [==============================] - 18s 365us/step - loss: 0.0084 - acc: 0.9978 - val_loss: 3.1511 - val_acc: 0.7266\n",
            "Epoch 146/200\n",
            "50000/50000 [==============================] - 18s 363us/step - loss: 0.0098 - acc: 0.9977 - val_loss: 3.1592 - val_acc: 0.7254\n",
            "Epoch 147/200\n",
            "50000/50000 [==============================] - 18s 362us/step - loss: 0.0089 - acc: 0.9975 - val_loss: 3.2251 - val_acc: 0.7210\n",
            "Epoch 148/200\n",
            "50000/50000 [==============================] - 18s 363us/step - loss: 0.0080 - acc: 0.9979 - val_loss: 3.2160 - val_acc: 0.7286\n",
            "Epoch 149/200\n",
            "50000/50000 [==============================] - 18s 362us/step - loss: 0.0096 - acc: 0.9974 - val_loss: 3.1924 - val_acc: 0.7300\n",
            "Epoch 150/200\n",
            "50000/50000 [==============================] - 18s 363us/step - loss: 0.0091 - acc: 0.9976 - val_loss: 3.2168 - val_acc: 0.7216\n",
            "Epoch 151/200\n",
            "50000/50000 [==============================] - 18s 363us/step - loss: 0.0103 - acc: 0.9975 - val_loss: 3.1833 - val_acc: 0.7262\n",
            "Epoch 152/200\n",
            "50000/50000 [==============================] - 18s 362us/step - loss: 0.0087 - acc: 0.9976 - val_loss: 3.2197 - val_acc: 0.7309\n",
            "Epoch 153/200\n",
            "50000/50000 [==============================] - 18s 365us/step - loss: 0.0103 - acc: 0.9973 - val_loss: 3.1881 - val_acc: 0.7256\n",
            "Epoch 154/200\n",
            "50000/50000 [==============================] - 18s 364us/step - loss: 0.0095 - acc: 0.9977 - val_loss: 3.2202 - val_acc: 0.7254\n",
            "Epoch 155/200\n",
            "50000/50000 [==============================] - 18s 363us/step - loss: 0.0091 - acc: 0.9977 - val_loss: 3.3196 - val_acc: 0.7211\n",
            "Epoch 156/200\n",
            "50000/50000 [==============================] - 18s 364us/step - loss: 0.0088 - acc: 0.9977 - val_loss: 3.5522 - val_acc: 0.7066\n",
            "Epoch 157/200\n",
            "50000/50000 [==============================] - 18s 363us/step - loss: 0.0120 - acc: 0.9972 - val_loss: 3.2118 - val_acc: 0.7227\n",
            "Epoch 158/200\n",
            "50000/50000 [==============================] - 18s 363us/step - loss: 0.0118 - acc: 0.9971 - val_loss: 3.2729 - val_acc: 0.7237\n",
            "Epoch 159/200\n",
            "50000/50000 [==============================] - 18s 362us/step - loss: 0.0099 - acc: 0.9974 - val_loss: 3.2447 - val_acc: 0.7303\n",
            "Epoch 160/200\n",
            "50000/50000 [==============================] - 18s 362us/step - loss: 0.0091 - acc: 0.9976 - val_loss: 3.2834 - val_acc: 0.7249\n",
            "Epoch 161/200\n",
            "50000/50000 [==============================] - 18s 363us/step - loss: 0.0095 - acc: 0.9974 - val_loss: 3.4215 - val_acc: 0.7144\n",
            "Epoch 162/200\n",
            "50000/50000 [==============================] - 18s 363us/step - loss: 0.0105 - acc: 0.9974 - val_loss: 3.3186 - val_acc: 0.7247\n",
            "Epoch 163/200\n",
            "50000/50000 [==============================] - 18s 364us/step - loss: 0.0104 - acc: 0.9974 - val_loss: 3.2524 - val_acc: 0.7255\n",
            "Epoch 164/200\n",
            "50000/50000 [==============================] - 18s 364us/step - loss: 0.0079 - acc: 0.9978 - val_loss: 3.2370 - val_acc: 0.7257\n",
            "Epoch 165/200\n",
            "50000/50000 [==============================] - 18s 364us/step - loss: 0.0076 - acc: 0.9978 - val_loss: 3.3175 - val_acc: 0.7225\n",
            "Epoch 166/200\n",
            "50000/50000 [==============================] - 18s 364us/step - loss: 0.0112 - acc: 0.9969 - val_loss: 3.2649 - val_acc: 0.7288\n",
            "Epoch 167/200\n",
            "50000/50000 [==============================] - 18s 363us/step - loss: 0.0077 - acc: 0.9980 - val_loss: 3.3109 - val_acc: 0.7273\n",
            "Epoch 168/200\n",
            "50000/50000 [==============================] - 18s 364us/step - loss: 0.0097 - acc: 0.9973 - val_loss: 3.2461 - val_acc: 0.7276\n",
            "Epoch 169/200\n",
            "50000/50000 [==============================] - 18s 363us/step - loss: 0.0082 - acc: 0.9979 - val_loss: 3.2630 - val_acc: 0.7251\n",
            "Epoch 170/200\n",
            "50000/50000 [==============================] - 18s 363us/step - loss: 0.0118 - acc: 0.9976 - val_loss: 3.4037 - val_acc: 0.7167\n",
            "Epoch 171/200\n",
            "50000/50000 [==============================] - 18s 365us/step - loss: 0.0103 - acc: 0.9975 - val_loss: 3.2906 - val_acc: 0.7316\n",
            "Epoch 172/200\n",
            "50000/50000 [==============================] - 18s 364us/step - loss: 0.0082 - acc: 0.9976 - val_loss: 3.2666 - val_acc: 0.7282\n",
            "Epoch 173/200\n",
            "50000/50000 [==============================] - 18s 365us/step - loss: 0.0074 - acc: 0.9980 - val_loss: 3.2526 - val_acc: 0.7254\n",
            "Epoch 174/200\n",
            "50000/50000 [==============================] - 18s 364us/step - loss: 0.0081 - acc: 0.9980 - val_loss: 3.3351 - val_acc: 0.7252\n",
            "Epoch 175/200\n",
            "50000/50000 [==============================] - 18s 365us/step - loss: 0.0107 - acc: 0.9973 - val_loss: 3.2649 - val_acc: 0.7327\n",
            "Epoch 176/200\n",
            "50000/50000 [==============================] - 18s 365us/step - loss: 0.0087 - acc: 0.9975 - val_loss: 3.2598 - val_acc: 0.7300\n",
            "Epoch 177/200\n",
            "50000/50000 [==============================] - 18s 364us/step - loss: 0.0103 - acc: 0.9975 - val_loss: 3.3120 - val_acc: 0.7272\n",
            "Epoch 178/200\n",
            "50000/50000 [==============================] - 18s 365us/step - loss: 0.0113 - acc: 0.9971 - val_loss: 3.3712 - val_acc: 0.7225\n",
            "Epoch 179/200\n",
            "50000/50000 [==============================] - 18s 365us/step - loss: 0.0096 - acc: 0.9976 - val_loss: 3.3094 - val_acc: 0.7258\n",
            "Epoch 180/200\n",
            "50000/50000 [==============================] - 18s 365us/step - loss: 0.0107 - acc: 0.9975 - val_loss: 3.3925 - val_acc: 0.7194\n",
            "Epoch 181/200\n",
            "50000/50000 [==============================] - 18s 363us/step - loss: 0.0095 - acc: 0.9975 - val_loss: 3.2811 - val_acc: 0.7300\n",
            "Epoch 182/200\n",
            "50000/50000 [==============================] - 18s 365us/step - loss: 0.0098 - acc: 0.9976 - val_loss: 3.3423 - val_acc: 0.7278\n",
            "Epoch 183/200\n",
            "50000/50000 [==============================] - 18s 364us/step - loss: 0.0086 - acc: 0.9980 - val_loss: 3.3112 - val_acc: 0.7253\n",
            "Epoch 184/200\n",
            "50000/50000 [==============================] - 18s 364us/step - loss: 0.0081 - acc: 0.9978 - val_loss: 3.3355 - val_acc: 0.7261\n",
            "Epoch 185/200\n",
            "50000/50000 [==============================] - 18s 364us/step - loss: 0.0105 - acc: 0.9974 - val_loss: 3.3332 - val_acc: 0.7276\n",
            "Epoch 186/200\n",
            "50000/50000 [==============================] - 18s 365us/step - loss: 0.0103 - acc: 0.9973 - val_loss: 3.3700 - val_acc: 0.7260\n",
            "Epoch 187/200\n",
            "50000/50000 [==============================] - 18s 365us/step - loss: 0.0112 - acc: 0.9974 - val_loss: 3.3484 - val_acc: 0.7310\n",
            "Epoch 188/200\n",
            "50000/50000 [==============================] - 18s 365us/step - loss: 0.0114 - acc: 0.9975 - val_loss: 3.3399 - val_acc: 0.7257\n",
            "Epoch 189/200\n",
            "50000/50000 [==============================] - 18s 365us/step - loss: 0.0118 - acc: 0.9972 - val_loss: 3.4222 - val_acc: 0.7177\n",
            "Epoch 190/200\n",
            "50000/50000 [==============================] - 18s 364us/step - loss: 0.0081 - acc: 0.9978 - val_loss: 3.4576 - val_acc: 0.7221\n",
            "Epoch 191/200\n",
            "50000/50000 [==============================] - 18s 364us/step - loss: 0.0093 - acc: 0.9975 - val_loss: 3.3410 - val_acc: 0.7270\n",
            "Epoch 192/200\n",
            "50000/50000 [==============================] - 18s 363us/step - loss: 0.0070 - acc: 0.9983 - val_loss: 3.4657 - val_acc: 0.7183\n",
            "Epoch 193/200\n",
            "50000/50000 [==============================] - 18s 364us/step - loss: 0.0119 - acc: 0.9971 - val_loss: 3.5324 - val_acc: 0.7126\n",
            "Epoch 194/200\n",
            "50000/50000 [==============================] - 18s 363us/step - loss: 0.0097 - acc: 0.9978 - val_loss: 3.4750 - val_acc: 0.7229\n",
            "Epoch 195/200\n",
            "50000/50000 [==============================] - 18s 363us/step - loss: 0.0086 - acc: 0.9977 - val_loss: 3.4048 - val_acc: 0.7232\n",
            "Epoch 196/200\n",
            "50000/50000 [==============================] - 18s 362us/step - loss: 0.0104 - acc: 0.9977 - val_loss: 3.4045 - val_acc: 0.7210\n",
            "Epoch 197/200\n",
            "50000/50000 [==============================] - 18s 363us/step - loss: 0.0098 - acc: 0.9979 - val_loss: 3.3875 - val_acc: 0.7276\n",
            "Epoch 198/200\n",
            "50000/50000 [==============================] - 18s 364us/step - loss: 0.0111 - acc: 0.9974 - val_loss: 3.3744 - val_acc: 0.7226\n",
            "Epoch 199/200\n",
            "50000/50000 [==============================] - 18s 364us/step - loss: 0.0082 - acc: 0.9980 - val_loss: 3.3264 - val_acc: 0.7279\n",
            "Epoch 200/200\n",
            "50000/50000 [==============================] - 18s 363us/step - loss: 0.0128 - acc: 0.9974 - val_loss: 3.4691 - val_acc: 0.7243\n"
          ],
          "name": "stdout"
        },
        {
          "output_type": "execute_result",
          "data": {
            "text/plain": [
              "<keras.callbacks.History at 0x7fa7058e54a8>"
            ]
          },
          "metadata": {
            "tags": []
          },
          "execution_count": 13
        }
      ]
    },
    {
      "metadata": {
        "id": "HnAxEw2QXUfN",
        "colab_type": "code",
        "colab": {}
      },
      "cell_type": "code",
      "source": [
        ""
      ],
      "execution_count": 0,
      "outputs": []
    }
  ]
}