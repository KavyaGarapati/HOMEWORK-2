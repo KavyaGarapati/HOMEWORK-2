{
  "nbformat": 4,
  "nbformat_minor": 0,
  "metadata": {
    "colab": {
      "name": "CIFAR.ipynb",
      "version": "0.3.2",
      "provenance": [],
      "collapsed_sections": [],
      "include_colab_link": true
    },
    "kernelspec": {
      "name": "python3",
      "display_name": "Python 3"
    },
    "accelerator": "GPU"
  },
  "cells": [
    {
      "cell_type": "markdown",
      "metadata": {
        "id": "view-in-github",
        "colab_type": "text"
      },
      "source": [
        "<a href=\"https://colab.research.google.com/github/KavyaGarapati/HOMEWORK-2/blob/master/CIFAR.ipynb\" target=\"_parent\"><img src=\"https://colab.research.google.com/assets/colab-badge.svg\" alt=\"Open In Colab\"/></a>"
      ]
    },
    {
      "metadata": {
        "id": "YZ7q9G9WizII",
        "colab_type": "code",
        "outputId": "600f4d1f-f1de-4f74-f9e3-7a46729b57a7",
        "colab": {
          "base_uri": "https://localhost:8080/",
          "height": 34
        }
      },
      "cell_type": "code",
      "source": [
        "import keras\n",
        "from keras.datasets import cifar10\n",
        "from keras.preprocessing.image import ImageDataGenerator\n",
        "from keras.models import Sequential\n",
        "from keras.layers import Dense, Activation, Flatten\n",
        "from keras.layers import Conv2D, MaxPooling2D\n",
        "import os"
      ],
      "execution_count": 1,
      "outputs": [
        {
          "output_type": "stream",
          "text": [
            "Using TensorFlow backend.\n"
          ],
          "name": "stderr"
        }
      ]
    },
    {
      "metadata": {
        "id": "Crd54u_nnFGz",
        "colab_type": "code",
        "colab": {}
      },
      "cell_type": "code",
      "source": [
        "batch_size = 32\n",
        "num_classes = 10\n",
        "epochs = 200\n",
        "num_predictions = 10\n",
        "save_dir = os.path.join(os.getcwd(), 'saved_models')\n",
        "model_name = 'keras_cifar10_trained_model.h5'"
      ],
      "execution_count": 0,
      "outputs": []
    },
    {
      "metadata": {
        "id": "0_N2ZUVenJUr",
        "colab_type": "code",
        "outputId": "5cdd05d7-28ee-4096-d126-210dfd8d2b47",
        "colab": {
          "base_uri": "https://localhost:8080/",
          "height": 68
        }
      },
      "cell_type": "code",
      "source": [
        "(x_train, y_train), (x_test, y_test) = cifar10.load_data()\n",
        "print('x_train shape:', x_train.shape)\n",
        "print(x_train.shape[0], 'train samples')\n",
        "print(x_test.shape[0], 'test samples')"
      ],
      "execution_count": 3,
      "outputs": [
        {
          "output_type": "stream",
          "text": [
            "x_train shape: (50000, 32, 32, 3)\n",
            "50000 train samples\n",
            "10000 test samples\n"
          ],
          "name": "stdout"
        }
      ]
    },
    {
      "metadata": {
        "id": "b9b0aSjZnQ4W",
        "colab_type": "code",
        "colab": {}
      },
      "cell_type": "code",
      "source": [
        "is_converted_categorical = False"
      ],
      "execution_count": 0,
      "outputs": []
    },
    {
      "metadata": {
        "id": "wk1_oQy-nUZ7",
        "colab_type": "code",
        "colab": {}
      },
      "cell_type": "code",
      "source": [
        "if(not is_converted_categorical):\n",
        "  y_train = keras.utils.to_categorical(y_train, num_classes)\n",
        "  y_test = keras.utils.to_categorical(y_test, num_classes)\n",
        "  is_converted_categorical = True\n"
      ],
      "execution_count": 0,
      "outputs": []
    },
    {
      "metadata": {
        "id": "QJzFhlFPnXm4",
        "colab_type": "code",
        "outputId": "2b8403ca-8f92-4394-dc69-55e38c4e6833",
        "colab": {
          "base_uri": "https://localhost:8080/",
          "height": 34
        }
      },
      "cell_type": "code",
      "source": [
        "y_train.shape"
      ],
      "execution_count": 6,
      "outputs": [
        {
          "output_type": "execute_result",
          "data": {
            "text/plain": [
              "(50000, 10)"
            ]
          },
          "metadata": {
            "tags": []
          },
          "execution_count": 6
        }
      ]
    },
    {
      "metadata": {
        "id": "QZrn0Ou-nbQs",
        "colab_type": "code",
        "outputId": "eca5d2a2-b297-41f4-b88d-9acf62a2a67d",
        "colab": {
          "base_uri": "https://localhost:8080/",
          "height": 88
        }
      },
      "cell_type": "code",
      "source": [
        "model = Sequential()\n",
        "model.add(Conv2D(32, (3, 3), padding='same',\n",
        "                 input_shape=x_train.shape[1:]))\n",
        "model.add(Activation('relu'))\n",
        "model.add(Conv2D(32, (3, 3)))\n",
        "model.add(Activation('relu'))\n",
        "model.add(MaxPooling2D(pool_size=(2, 2)))\n",
        "\n",
        "model.add(Flatten())\n",
        "model.add(Dense(512))\n",
        "\n",
        "model.add(Dense(num_classes))\n",
        "model.add(Activation('softmax'))"
      ],
      "execution_count": 7,
      "outputs": [
        {
          "output_type": "stream",
          "text": [
            "WARNING:tensorflow:From /usr/local/lib/python3.6/dist-packages/tensorflow/python/framework/op_def_library.py:263: colocate_with (from tensorflow.python.framework.ops) is deprecated and will be removed in a future version.\n",
            "Instructions for updating:\n",
            "Colocations handled automatically by placer.\n"
          ],
          "name": "stdout"
        }
      ]
    },
    {
      "metadata": {
        "id": "CFLsOqZNpiWL",
        "colab_type": "code",
        "outputId": "9aa6b862-b2f7-4b1c-dca8-7ec459a81719",
        "colab": {
          "base_uri": "https://localhost:8080/",
          "height": 34
        }
      },
      "cell_type": "code",
      "source": [
        "x_train.shape[1:]"
      ],
      "execution_count": 8,
      "outputs": [
        {
          "output_type": "execute_result",
          "data": {
            "text/plain": [
              "(32, 32, 3)"
            ]
          },
          "metadata": {
            "tags": []
          },
          "execution_count": 8
        }
      ]
    },
    {
      "metadata": {
        "id": "V6Xjiyc_pjwH",
        "colab_type": "code",
        "outputId": "edd1f654-6e76-494a-a396-65e2486bc5e9",
        "colab": {
          "base_uri": "https://localhost:8080/",
          "height": 442
        }
      },
      "cell_type": "code",
      "source": [
        "model.summary()"
      ],
      "execution_count": 9,
      "outputs": [
        {
          "output_type": "stream",
          "text": [
            "_________________________________________________________________\n",
            "Layer (type)                 Output Shape              Param #   \n",
            "=================================================================\n",
            "conv2d_1 (Conv2D)            (None, 32, 32, 32)        896       \n",
            "_________________________________________________________________\n",
            "activation_1 (Activation)    (None, 32, 32, 32)        0         \n",
            "_________________________________________________________________\n",
            "conv2d_2 (Conv2D)            (None, 30, 30, 32)        9248      \n",
            "_________________________________________________________________\n",
            "activation_2 (Activation)    (None, 30, 30, 32)        0         \n",
            "_________________________________________________________________\n",
            "max_pooling2d_1 (MaxPooling2 (None, 15, 15, 32)        0         \n",
            "_________________________________________________________________\n",
            "flatten_1 (Flatten)          (None, 7200)              0         \n",
            "_________________________________________________________________\n",
            "dense_1 (Dense)              (None, 512)               3686912   \n",
            "_________________________________________________________________\n",
            "dense_2 (Dense)              (None, 10)                5130      \n",
            "_________________________________________________________________\n",
            "activation_3 (Activation)    (None, 10)                0         \n",
            "=================================================================\n",
            "Total params: 3,702,186\n",
            "Trainable params: 3,702,186\n",
            "Non-trainable params: 0\n",
            "_________________________________________________________________\n"
          ],
          "name": "stdout"
        }
      ]
    },
    {
      "metadata": {
        "id": "f2xAP4i5puAx",
        "colab_type": "code",
        "colab": {}
      },
      "cell_type": "code",
      "source": [
        "opt = keras.optimizers.rmsprop(lr=0.0001, decay=1e-6)"
      ],
      "execution_count": 0,
      "outputs": []
    },
    {
      "metadata": {
        "id": "3h6A0JPJpzs9",
        "colab_type": "code",
        "colab": {}
      },
      "cell_type": "code",
      "source": [
        "model.compile(loss='categorical_crossentropy',\n",
        "              optimizer=opt,\n",
        "              metrics=['accuracy'])"
      ],
      "execution_count": 0,
      "outputs": []
    },
    {
      "metadata": {
        "id": "P0Y6xMMFp3Dl",
        "colab_type": "code",
        "colab": {}
      },
      "cell_type": "code",
      "source": [
        "x_train = x_train.astype('float32')\n",
        "x_test = x_test.astype('float32')\n",
        "x_train /= 255\n",
        "x_test /= 255"
      ],
      "execution_count": 0,
      "outputs": []
    },
    {
      "metadata": {
        "id": "CEtlLxFEp6P1",
        "colab_type": "code",
        "outputId": "56d57320-e9a7-427d-a103-1fa5c8089119",
        "colab": {
          "base_uri": "https://localhost:8080/",
          "height": 6922
        }
      },
      "cell_type": "code",
      "source": [
        "model.fit(x_train, y_train,\n",
        "              batch_size=batch_size,\n",
        "              epochs=epochs,\n",
        "              validation_data=(x_test, y_test),\n",
        "              shuffle=True)"
      ],
      "execution_count": 13,
      "outputs": [
        {
          "output_type": "stream",
          "text": [
            "WARNING:tensorflow:From /usr/local/lib/python3.6/dist-packages/tensorflow/python/ops/math_ops.py:3066: to_int32 (from tensorflow.python.ops.math_ops) is deprecated and will be removed in a future version.\n",
            "Instructions for updating:\n",
            "Use tf.cast instead.\n",
            "Train on 50000 samples, validate on 10000 samples\n",
            "Epoch 1/200\n",
            "50000/50000 [==============================] - 19s 386us/step - loss: 1.5363 - acc: 0.4567 - val_loss: 1.3287 - val_acc: 0.5251\n",
            "Epoch 2/200\n",
            "50000/50000 [==============================] - 17s 349us/step - loss: 1.1974 - acc: 0.5836 - val_loss: 1.1280 - val_acc: 0.6122\n",
            "Epoch 3/200\n",
            "50000/50000 [==============================] - 17s 349us/step - loss: 1.0568 - acc: 0.6333 - val_loss: 1.0638 - val_acc: 0.6249\n",
            "Epoch 4/200\n",
            "50000/50000 [==============================] - 17s 348us/step - loss: 0.9733 - acc: 0.6657 - val_loss: 1.0607 - val_acc: 0.6332\n",
            "Epoch 5/200\n",
            "50000/50000 [==============================] - 17s 349us/step - loss: 0.9115 - acc: 0.6858 - val_loss: 1.0174 - val_acc: 0.6488\n",
            "Epoch 6/200\n",
            "50000/50000 [==============================] - 17s 349us/step - loss: 0.8665 - acc: 0.7014 - val_loss: 1.0446 - val_acc: 0.6359\n",
            "Epoch 7/200\n",
            "50000/50000 [==============================] - 17s 348us/step - loss: 0.8292 - acc: 0.7145 - val_loss: 0.9668 - val_acc: 0.6741\n",
            "Epoch 8/200\n",
            "50000/50000 [==============================] - 17s 349us/step - loss: 0.7929 - acc: 0.7288 - val_loss: 0.9703 - val_acc: 0.6687\n",
            "Epoch 9/200\n",
            "50000/50000 [==============================] - 17s 349us/step - loss: 0.7640 - acc: 0.7378 - val_loss: 1.0002 - val_acc: 0.6606\n",
            "Epoch 10/200\n",
            "50000/50000 [==============================] - 17s 349us/step - loss: 0.7371 - acc: 0.7491 - val_loss: 0.9667 - val_acc: 0.6652\n",
            "Epoch 11/200\n",
            "50000/50000 [==============================] - 17s 349us/step - loss: 0.7094 - acc: 0.7577 - val_loss: 0.9929 - val_acc: 0.6610\n",
            "Epoch 12/200\n",
            "50000/50000 [==============================] - 17s 348us/step - loss: 0.6875 - acc: 0.7657 - val_loss: 1.0087 - val_acc: 0.6617\n",
            "Epoch 13/200\n",
            "50000/50000 [==============================] - 17s 349us/step - loss: 0.6638 - acc: 0.7742 - val_loss: 1.0100 - val_acc: 0.6630\n",
            "Epoch 14/200\n",
            "50000/50000 [==============================] - 18s 351us/step - loss: 0.6424 - acc: 0.7801 - val_loss: 0.9947 - val_acc: 0.6693\n",
            "Epoch 15/200\n",
            "50000/50000 [==============================] - 18s 350us/step - loss: 0.6236 - acc: 0.7875 - val_loss: 0.9783 - val_acc: 0.6777\n",
            "Epoch 16/200\n",
            "50000/50000 [==============================] - 17s 349us/step - loss: 0.6029 - acc: 0.7958 - val_loss: 1.0371 - val_acc: 0.6580\n",
            "Epoch 17/200\n",
            "50000/50000 [==============================] - 17s 348us/step - loss: 0.5871 - acc: 0.8004 - val_loss: 0.9937 - val_acc: 0.6758\n",
            "Epoch 18/200\n",
            "50000/50000 [==============================] - 17s 348us/step - loss: 0.5685 - acc: 0.8080 - val_loss: 1.0339 - val_acc: 0.6678\n",
            "Epoch 19/200\n",
            "50000/50000 [==============================] - 17s 347us/step - loss: 0.5532 - acc: 0.8132 - val_loss: 1.0341 - val_acc: 0.6711\n",
            "Epoch 20/200\n",
            "50000/50000 [==============================] - 17s 347us/step - loss: 0.5378 - acc: 0.8174 - val_loss: 1.0749 - val_acc: 0.6607\n",
            "Epoch 21/200\n",
            "50000/50000 [==============================] - 17s 347us/step - loss: 0.5222 - acc: 0.8240 - val_loss: 1.0720 - val_acc: 0.6650\n",
            "Epoch 22/200\n",
            "50000/50000 [==============================] - 17s 348us/step - loss: 0.5086 - acc: 0.8290 - val_loss: 1.0688 - val_acc: 0.6669\n",
            "Epoch 23/200\n",
            "50000/50000 [==============================] - 17s 348us/step - loss: 0.4942 - acc: 0.8334 - val_loss: 1.0967 - val_acc: 0.6608\n",
            "Epoch 24/200\n",
            "50000/50000 [==============================] - 17s 348us/step - loss: 0.4831 - acc: 0.8391 - val_loss: 1.1702 - val_acc: 0.6569\n",
            "Epoch 25/200\n",
            "50000/50000 [==============================] - 17s 349us/step - loss: 0.4703 - acc: 0.8413 - val_loss: 1.1635 - val_acc: 0.6593\n",
            "Epoch 26/200\n",
            "50000/50000 [==============================] - 17s 347us/step - loss: 0.4580 - acc: 0.8449 - val_loss: 1.1368 - val_acc: 0.6606\n",
            "Epoch 27/200\n",
            "50000/50000 [==============================] - 17s 348us/step - loss: 0.4468 - acc: 0.8506 - val_loss: 1.1958 - val_acc: 0.6555\n",
            "Epoch 28/200\n",
            "50000/50000 [==============================] - 17s 348us/step - loss: 0.4346 - acc: 0.8539 - val_loss: 1.2077 - val_acc: 0.6507\n",
            "Epoch 29/200\n",
            "50000/50000 [==============================] - 17s 349us/step - loss: 0.4238 - acc: 0.8580 - val_loss: 1.2534 - val_acc: 0.6521\n",
            "Epoch 30/200\n",
            "50000/50000 [==============================] - 17s 350us/step - loss: 0.4135 - acc: 0.8612 - val_loss: 1.2301 - val_acc: 0.6514\n",
            "Epoch 31/200\n",
            "50000/50000 [==============================] - 17s 349us/step - loss: 0.4050 - acc: 0.8635 - val_loss: 1.2716 - val_acc: 0.6478\n",
            "Epoch 32/200\n",
            "50000/50000 [==============================] - 18s 351us/step - loss: 0.3942 - acc: 0.8683 - val_loss: 1.2219 - val_acc: 0.6602\n",
            "Epoch 33/200\n",
            "50000/50000 [==============================] - 17s 349us/step - loss: 0.3837 - acc: 0.8713 - val_loss: 1.3265 - val_acc: 0.6399\n",
            "Epoch 34/200\n",
            "50000/50000 [==============================] - 17s 348us/step - loss: 0.3741 - acc: 0.8760 - val_loss: 1.3510 - val_acc: 0.6377\n",
            "Epoch 35/200\n",
            "50000/50000 [==============================] - 17s 348us/step - loss: 0.3653 - acc: 0.8781 - val_loss: 1.3235 - val_acc: 0.6507\n",
            "Epoch 36/200\n",
            "50000/50000 [==============================] - 17s 349us/step - loss: 0.3570 - acc: 0.8806 - val_loss: 1.3369 - val_acc: 0.6572\n",
            "Epoch 37/200\n",
            "50000/50000 [==============================] - 17s 349us/step - loss: 0.3488 - acc: 0.8837 - val_loss: 1.3743 - val_acc: 0.6513\n",
            "Epoch 38/200\n",
            "50000/50000 [==============================] - 17s 347us/step - loss: 0.3405 - acc: 0.8859 - val_loss: 1.4285 - val_acc: 0.6451\n",
            "Epoch 39/200\n",
            "50000/50000 [==============================] - 17s 348us/step - loss: 0.3328 - acc: 0.8897 - val_loss: 1.4263 - val_acc: 0.6416\n",
            "Epoch 40/200\n",
            "50000/50000 [==============================] - 17s 348us/step - loss: 0.3238 - acc: 0.8927 - val_loss: 1.3898 - val_acc: 0.6528\n",
            "Epoch 41/200\n",
            "50000/50000 [==============================] - 17s 347us/step - loss: 0.3164 - acc: 0.8945 - val_loss: 1.4568 - val_acc: 0.6454\n",
            "Epoch 42/200\n",
            "50000/50000 [==============================] - 17s 348us/step - loss: 0.3089 - acc: 0.8970 - val_loss: 1.5062 - val_acc: 0.6398\n",
            "Epoch 43/200\n",
            "50000/50000 [==============================] - 17s 348us/step - loss: 0.3021 - acc: 0.8990 - val_loss: 1.4920 - val_acc: 0.6441\n",
            "Epoch 44/200\n",
            "50000/50000 [==============================] - 17s 347us/step - loss: 0.2953 - acc: 0.9023 - val_loss: 1.6419 - val_acc: 0.6272\n",
            "Epoch 45/200\n",
            "50000/50000 [==============================] - 17s 348us/step - loss: 0.2880 - acc: 0.9032 - val_loss: 1.5920 - val_acc: 0.6382\n",
            "Epoch 46/200\n",
            "50000/50000 [==============================] - 17s 347us/step - loss: 0.2804 - acc: 0.9061 - val_loss: 1.5829 - val_acc: 0.6411\n",
            "Epoch 47/200\n",
            "50000/50000 [==============================] - 17s 348us/step - loss: 0.2758 - acc: 0.9080 - val_loss: 1.6069 - val_acc: 0.6446\n",
            "Epoch 48/200\n",
            "50000/50000 [==============================] - 17s 347us/step - loss: 0.2690 - acc: 0.9103 - val_loss: 1.6127 - val_acc: 0.6410\n",
            "Epoch 49/200\n",
            "50000/50000 [==============================] - 17s 349us/step - loss: 0.2624 - acc: 0.9135 - val_loss: 1.6476 - val_acc: 0.6382\n",
            "Epoch 50/200\n",
            "50000/50000 [==============================] - 17s 350us/step - loss: 0.2546 - acc: 0.9163 - val_loss: 1.7254 - val_acc: 0.6286\n",
            "Epoch 51/200\n",
            "50000/50000 [==============================] - 17s 349us/step - loss: 0.2508 - acc: 0.9168 - val_loss: 1.6887 - val_acc: 0.6371\n",
            "Epoch 52/200\n",
            "50000/50000 [==============================] - 17s 348us/step - loss: 0.2434 - acc: 0.9189 - val_loss: 1.7614 - val_acc: 0.6299\n",
            "Epoch 53/200\n",
            "50000/50000 [==============================] - 17s 347us/step - loss: 0.2378 - acc: 0.9209 - val_loss: 1.7895 - val_acc: 0.6350\n",
            "Epoch 54/200\n",
            "50000/50000 [==============================] - 17s 347us/step - loss: 0.2328 - acc: 0.9236 - val_loss: 1.7969 - val_acc: 0.6299\n",
            "Epoch 55/200\n",
            "50000/50000 [==============================] - 17s 349us/step - loss: 0.2277 - acc: 0.9241 - val_loss: 1.8743 - val_acc: 0.6295\n",
            "Epoch 56/200\n",
            "50000/50000 [==============================] - 17s 347us/step - loss: 0.2216 - acc: 0.9267 - val_loss: 1.8402 - val_acc: 0.6341\n",
            "Epoch 57/200\n",
            "50000/50000 [==============================] - 17s 350us/step - loss: 0.2177 - acc: 0.9279 - val_loss: 1.8863 - val_acc: 0.6321\n",
            "Epoch 58/200\n",
            "50000/50000 [==============================] - 17s 348us/step - loss: 0.2125 - acc: 0.9296 - val_loss: 1.8725 - val_acc: 0.6365\n",
            "Epoch 59/200\n",
            "50000/50000 [==============================] - 17s 346us/step - loss: 0.2077 - acc: 0.9313 - val_loss: 1.9518 - val_acc: 0.6292\n",
            "Epoch 60/200\n",
            "50000/50000 [==============================] - 17s 349us/step - loss: 0.2025 - acc: 0.9342 - val_loss: 1.9463 - val_acc: 0.6293\n",
            "Epoch 61/200\n",
            "50000/50000 [==============================] - 17s 348us/step - loss: 0.1982 - acc: 0.9350 - val_loss: 1.9758 - val_acc: 0.6318\n",
            "Epoch 62/200\n",
            "50000/50000 [==============================] - 17s 348us/step - loss: 0.1936 - acc: 0.9365 - val_loss: 1.9851 - val_acc: 0.6320\n",
            "Epoch 63/200\n",
            "50000/50000 [==============================] - 17s 348us/step - loss: 0.1882 - acc: 0.9378 - val_loss: 2.0526 - val_acc: 0.6232\n",
            "Epoch 64/200\n",
            "50000/50000 [==============================] - 17s 349us/step - loss: 0.1842 - acc: 0.9389 - val_loss: 2.0765 - val_acc: 0.6251\n",
            "Epoch 65/200\n",
            "50000/50000 [==============================] - 17s 348us/step - loss: 0.1817 - acc: 0.9403 - val_loss: 2.1048 - val_acc: 0.6251\n",
            "Epoch 66/200\n",
            "50000/50000 [==============================] - 17s 348us/step - loss: 0.1760 - acc: 0.9421 - val_loss: 2.1049 - val_acc: 0.6262\n",
            "Epoch 67/200\n",
            "50000/50000 [==============================] - 17s 349us/step - loss: 0.1718 - acc: 0.9454 - val_loss: 2.1511 - val_acc: 0.6221\n",
            "Epoch 68/200\n",
            "50000/50000 [==============================] - 17s 349us/step - loss: 0.1686 - acc: 0.9449 - val_loss: 2.2035 - val_acc: 0.6196\n",
            "Epoch 69/200\n",
            "50000/50000 [==============================] - 17s 348us/step - loss: 0.1638 - acc: 0.9467 - val_loss: 2.1954 - val_acc: 0.6239\n",
            "Epoch 70/200\n",
            "50000/50000 [==============================] - 17s 347us/step - loss: 0.1607 - acc: 0.9478 - val_loss: 2.2206 - val_acc: 0.6285\n",
            "Epoch 71/200\n",
            "50000/50000 [==============================] - 17s 348us/step - loss: 0.1577 - acc: 0.9483 - val_loss: 2.2913 - val_acc: 0.6187\n",
            "Epoch 72/200\n",
            "50000/50000 [==============================] - 17s 348us/step - loss: 0.1522 - acc: 0.9501 - val_loss: 2.2707 - val_acc: 0.6222\n",
            "Epoch 73/200\n",
            "50000/50000 [==============================] - 17s 349us/step - loss: 0.1492 - acc: 0.9519 - val_loss: 2.2639 - val_acc: 0.6263\n",
            "Epoch 74/200\n",
            "50000/50000 [==============================] - 17s 349us/step - loss: 0.1469 - acc: 0.9512 - val_loss: 2.3677 - val_acc: 0.6162\n",
            "Epoch 75/200\n",
            "50000/50000 [==============================] - 17s 348us/step - loss: 0.1445 - acc: 0.9523 - val_loss: 2.3685 - val_acc: 0.6218\n",
            "Epoch 76/200\n",
            "50000/50000 [==============================] - 17s 347us/step - loss: 0.1395 - acc: 0.9546 - val_loss: 2.3718 - val_acc: 0.6264\n",
            "Epoch 77/200\n",
            "50000/50000 [==============================] - 17s 348us/step - loss: 0.1374 - acc: 0.9552 - val_loss: 2.3809 - val_acc: 0.6269\n",
            "Epoch 78/200\n",
            "50000/50000 [==============================] - 17s 349us/step - loss: 0.1354 - acc: 0.9550 - val_loss: 2.4075 - val_acc: 0.6263\n",
            "Epoch 79/200\n",
            "50000/50000 [==============================] - 17s 349us/step - loss: 0.1307 - acc: 0.9577 - val_loss: 2.4666 - val_acc: 0.6213\n",
            "Epoch 80/200\n",
            "50000/50000 [==============================] - 17s 347us/step - loss: 0.1281 - acc: 0.9583 - val_loss: 2.4872 - val_acc: 0.6234\n",
            "Epoch 81/200\n",
            "50000/50000 [==============================] - 17s 349us/step - loss: 0.1256 - acc: 0.9583 - val_loss: 2.5708 - val_acc: 0.6149\n",
            "Epoch 82/200\n",
            "50000/50000 [==============================] - 17s 349us/step - loss: 0.1235 - acc: 0.9594 - val_loss: 2.5999 - val_acc: 0.6191\n",
            "Epoch 83/200\n",
            "50000/50000 [==============================] - 17s 348us/step - loss: 0.1193 - acc: 0.9616 - val_loss: 2.5989 - val_acc: 0.6167\n",
            "Epoch 84/200\n",
            "50000/50000 [==============================] - 17s 349us/step - loss: 0.1164 - acc: 0.9610 - val_loss: 2.5935 - val_acc: 0.6191\n",
            "Epoch 85/200\n",
            "50000/50000 [==============================] - 18s 350us/step - loss: 0.1148 - acc: 0.9629 - val_loss: 2.6476 - val_acc: 0.6229\n",
            "Epoch 86/200\n",
            "50000/50000 [==============================] - 17s 349us/step - loss: 0.1110 - acc: 0.9642 - val_loss: 2.6223 - val_acc: 0.6244\n",
            "Epoch 87/200\n",
            "50000/50000 [==============================] - 17s 349us/step - loss: 0.1096 - acc: 0.9650 - val_loss: 2.6767 - val_acc: 0.6206\n",
            "Epoch 88/200\n",
            "50000/50000 [==============================] - 17s 349us/step - loss: 0.1069 - acc: 0.9656 - val_loss: 2.6692 - val_acc: 0.6221\n",
            "Epoch 89/200\n",
            "50000/50000 [==============================] - 17s 349us/step - loss: 0.1050 - acc: 0.9664 - val_loss: 2.7243 - val_acc: 0.6176\n",
            "Epoch 90/200\n",
            "50000/50000 [==============================] - 17s 349us/step - loss: 0.1010 - acc: 0.9678 - val_loss: 2.8089 - val_acc: 0.6085\n",
            "Epoch 91/200\n",
            "50000/50000 [==============================] - 17s 350us/step - loss: 0.0987 - acc: 0.9682 - val_loss: 2.8874 - val_acc: 0.6033\n",
            "Epoch 92/200\n",
            "50000/50000 [==============================] - 17s 349us/step - loss: 0.0966 - acc: 0.9688 - val_loss: 2.8140 - val_acc: 0.6171\n",
            "Epoch 93/200\n",
            "50000/50000 [==============================] - 17s 347us/step - loss: 0.0947 - acc: 0.9698 - val_loss: 3.0029 - val_acc: 0.6023\n",
            "Epoch 94/200\n",
            "50000/50000 [==============================] - 17s 348us/step - loss: 0.0922 - acc: 0.9698 - val_loss: 2.8261 - val_acc: 0.6180\n",
            "Epoch 95/200\n",
            "50000/50000 [==============================] - 18s 351us/step - loss: 0.0913 - acc: 0.9706 - val_loss: 2.8881 - val_acc: 0.6161\n",
            "Epoch 96/200\n",
            "50000/50000 [==============================] - 17s 350us/step - loss: 0.0891 - acc: 0.9709 - val_loss: 2.8535 - val_acc: 0.6232\n",
            "Epoch 97/200\n",
            "50000/50000 [==============================] - 17s 349us/step - loss: 0.0868 - acc: 0.9715 - val_loss: 2.9692 - val_acc: 0.6138\n",
            "Epoch 98/200\n",
            "50000/50000 [==============================] - 17s 349us/step - loss: 0.0856 - acc: 0.9724 - val_loss: 2.8986 - val_acc: 0.6161\n",
            "Epoch 99/200\n",
            "50000/50000 [==============================] - 17s 350us/step - loss: 0.0815 - acc: 0.9738 - val_loss: 2.9781 - val_acc: 0.6138\n",
            "Epoch 100/200\n",
            "50000/50000 [==============================] - 17s 348us/step - loss: 0.0818 - acc: 0.9735 - val_loss: 2.9660 - val_acc: 0.6192\n",
            "Epoch 101/200\n",
            "50000/50000 [==============================] - 17s 349us/step - loss: 0.0789 - acc: 0.9755 - val_loss: 3.1018 - val_acc: 0.6069\n",
            "Epoch 102/200\n",
            "50000/50000 [==============================] - 18s 351us/step - loss: 0.0779 - acc: 0.9752 - val_loss: 3.0330 - val_acc: 0.6159\n",
            "Epoch 103/200\n",
            "50000/50000 [==============================] - 17s 348us/step - loss: 0.0756 - acc: 0.9760 - val_loss: 3.1565 - val_acc: 0.6084\n",
            "Epoch 104/200\n",
            "50000/50000 [==============================] - 17s 349us/step - loss: 0.0732 - acc: 0.9771 - val_loss: 3.1230 - val_acc: 0.6070\n",
            "Epoch 105/200\n",
            "50000/50000 [==============================] - 17s 346us/step - loss: 0.0726 - acc: 0.9770 - val_loss: 3.1544 - val_acc: 0.6091\n",
            "Epoch 106/200\n",
            "50000/50000 [==============================] - 17s 346us/step - loss: 0.0707 - acc: 0.9780 - val_loss: 3.1438 - val_acc: 0.6180\n",
            "Epoch 107/200\n",
            "50000/50000 [==============================] - 17s 347us/step - loss: 0.0698 - acc: 0.9777 - val_loss: 3.1290 - val_acc: 0.6122\n",
            "Epoch 108/200\n",
            "50000/50000 [==============================] - 17s 348us/step - loss: 0.0682 - acc: 0.9788 - val_loss: 3.1370 - val_acc: 0.6179\n",
            "Epoch 109/200\n",
            "50000/50000 [==============================] - 17s 347us/step - loss: 0.0662 - acc: 0.9794 - val_loss: 3.1958 - val_acc: 0.6104\n",
            "Epoch 110/200\n",
            "50000/50000 [==============================] - 17s 349us/step - loss: 0.0659 - acc: 0.9789 - val_loss: 3.1602 - val_acc: 0.6145\n",
            "Epoch 111/200\n",
            "50000/50000 [==============================] - 18s 350us/step - loss: 0.0618 - acc: 0.9815 - val_loss: 3.2200 - val_acc: 0.6134\n",
            "Epoch 112/200\n",
            "50000/50000 [==============================] - 18s 352us/step - loss: 0.0619 - acc: 0.9807 - val_loss: 3.2186 - val_acc: 0.6134\n",
            "Epoch 113/200\n",
            "50000/50000 [==============================] - 17s 347us/step - loss: 0.0607 - acc: 0.9817 - val_loss: 3.3179 - val_acc: 0.6059\n",
            "Epoch 114/200\n",
            "50000/50000 [==============================] - 17s 347us/step - loss: 0.0609 - acc: 0.9808 - val_loss: 3.2583 - val_acc: 0.6134\n",
            "Epoch 115/200\n",
            "50000/50000 [==============================] - 17s 346us/step - loss: 0.0566 - acc: 0.9832 - val_loss: 3.2822 - val_acc: 0.6120\n",
            "Epoch 116/200\n",
            "50000/50000 [==============================] - 17s 350us/step - loss: 0.0561 - acc: 0.9829 - val_loss: 3.3203 - val_acc: 0.6149\n",
            "Epoch 117/200\n",
            "50000/50000 [==============================] - 18s 352us/step - loss: 0.0561 - acc: 0.9830 - val_loss: 3.3476 - val_acc: 0.6119\n",
            "Epoch 118/200\n",
            "50000/50000 [==============================] - 18s 353us/step - loss: 0.0536 - acc: 0.9832 - val_loss: 3.5802 - val_acc: 0.5994\n",
            "Epoch 119/200\n",
            "50000/50000 [==============================] - 18s 354us/step - loss: 0.0524 - acc: 0.9838 - val_loss: 3.3675 - val_acc: 0.6128\n",
            "Epoch 120/200\n",
            "50000/50000 [==============================] - 17s 350us/step - loss: 0.0528 - acc: 0.9838 - val_loss: 3.4223 - val_acc: 0.6098\n",
            "Epoch 121/200\n",
            "50000/50000 [==============================] - 17s 348us/step - loss: 0.0505 - acc: 0.9842 - val_loss: 3.4170 - val_acc: 0.6142\n",
            "Epoch 122/200\n",
            "50000/50000 [==============================] - 17s 349us/step - loss: 0.0503 - acc: 0.9840 - val_loss: 3.4343 - val_acc: 0.6138\n",
            "Epoch 123/200\n",
            "50000/50000 [==============================] - 17s 349us/step - loss: 0.0491 - acc: 0.9850 - val_loss: 3.4319 - val_acc: 0.6145\n",
            "Epoch 124/200\n",
            "50000/50000 [==============================] - 17s 349us/step - loss: 0.0475 - acc: 0.9859 - val_loss: 3.4498 - val_acc: 0.6134\n",
            "Epoch 125/200\n",
            "50000/50000 [==============================] - 17s 348us/step - loss: 0.0460 - acc: 0.9858 - val_loss: 3.5176 - val_acc: 0.6099\n",
            "Epoch 126/200\n",
            "50000/50000 [==============================] - 17s 350us/step - loss: 0.0458 - acc: 0.9857 - val_loss: 3.5033 - val_acc: 0.6136\n",
            "Epoch 127/200\n",
            "50000/50000 [==============================] - 17s 349us/step - loss: 0.0446 - acc: 0.9866 - val_loss: 3.4830 - val_acc: 0.6118\n",
            "Epoch 128/200\n",
            "50000/50000 [==============================] - 17s 349us/step - loss: 0.0444 - acc: 0.9862 - val_loss: 3.5104 - val_acc: 0.6163\n",
            "Epoch 129/200\n",
            "50000/50000 [==============================] - 17s 349us/step - loss: 0.0443 - acc: 0.9867 - val_loss: 3.5478 - val_acc: 0.6131\n",
            "Epoch 130/200\n",
            "50000/50000 [==============================] - 17s 349us/step - loss: 0.0420 - acc: 0.9871 - val_loss: 3.5704 - val_acc: 0.6178\n",
            "Epoch 131/200\n",
            "50000/50000 [==============================] - 17s 350us/step - loss: 0.0414 - acc: 0.9879 - val_loss: 3.5942 - val_acc: 0.6105\n",
            "Epoch 132/200\n",
            "50000/50000 [==============================] - 17s 349us/step - loss: 0.0398 - acc: 0.9878 - val_loss: 3.6365 - val_acc: 0.6104\n",
            "Epoch 133/200\n",
            "50000/50000 [==============================] - 17s 349us/step - loss: 0.0396 - acc: 0.9881 - val_loss: 3.6385 - val_acc: 0.6068\n",
            "Epoch 134/200\n",
            "50000/50000 [==============================] - 17s 349us/step - loss: 0.0389 - acc: 0.9882 - val_loss: 3.6341 - val_acc: 0.6127\n",
            "Epoch 135/200\n",
            "50000/50000 [==============================] - 17s 349us/step - loss: 0.0387 - acc: 0.9882 - val_loss: 3.6522 - val_acc: 0.6094\n",
            "Epoch 136/200\n",
            "50000/50000 [==============================] - 17s 350us/step - loss: 0.0374 - acc: 0.9892 - val_loss: 3.6611 - val_acc: 0.6145\n",
            "Epoch 137/200\n",
            "50000/50000 [==============================] - 17s 350us/step - loss: 0.0365 - acc: 0.9891 - val_loss: 3.6830 - val_acc: 0.6129\n",
            "Epoch 138/200\n",
            "50000/50000 [==============================] - 17s 347us/step - loss: 0.0371 - acc: 0.9892 - val_loss: 3.6834 - val_acc: 0.6121\n",
            "Epoch 139/200\n",
            "50000/50000 [==============================] - 17s 350us/step - loss: 0.0353 - acc: 0.9892 - val_loss: 3.6984 - val_acc: 0.6132\n",
            "Epoch 140/200\n",
            "50000/50000 [==============================] - 17s 350us/step - loss: 0.0350 - acc: 0.9897 - val_loss: 3.7115 - val_acc: 0.6110\n",
            "Epoch 141/200\n",
            "50000/50000 [==============================] - 17s 349us/step - loss: 0.0347 - acc: 0.9895 - val_loss: 3.7000 - val_acc: 0.6141\n",
            "Epoch 142/200\n",
            "50000/50000 [==============================] - 17s 348us/step - loss: 0.0333 - acc: 0.9904 - val_loss: 3.7125 - val_acc: 0.6110\n",
            "Epoch 143/200\n",
            "50000/50000 [==============================] - 17s 348us/step - loss: 0.0325 - acc: 0.9910 - val_loss: 3.7288 - val_acc: 0.6136\n",
            "Epoch 144/200\n",
            "50000/50000 [==============================] - 17s 348us/step - loss: 0.0322 - acc: 0.9902 - val_loss: 3.7494 - val_acc: 0.6118\n",
            "Epoch 145/200\n",
            "50000/50000 [==============================] - 17s 348us/step - loss: 0.0322 - acc: 0.9905 - val_loss: 3.7757 - val_acc: 0.6107\n",
            "Epoch 146/200\n",
            "50000/50000 [==============================] - 17s 349us/step - loss: 0.0301 - acc: 0.9913 - val_loss: 3.8658 - val_acc: 0.6038\n",
            "Epoch 147/200\n",
            "50000/50000 [==============================] - 17s 349us/step - loss: 0.0310 - acc: 0.9909 - val_loss: 3.8291 - val_acc: 0.6062\n",
            "Epoch 148/200\n",
            "50000/50000 [==============================] - 17s 347us/step - loss: 0.0298 - acc: 0.9916 - val_loss: 3.8813 - val_acc: 0.6081\n",
            "Epoch 149/200\n",
            "50000/50000 [==============================] - 17s 349us/step - loss: 0.0296 - acc: 0.9915 - val_loss: 3.8556 - val_acc: 0.6099\n",
            "Epoch 150/200\n",
            "50000/50000 [==============================] - 17s 348us/step - loss: 0.0295 - acc: 0.9919 - val_loss: 3.8343 - val_acc: 0.6145\n",
            "Epoch 151/200\n",
            "50000/50000 [==============================] - 17s 349us/step - loss: 0.0281 - acc: 0.9922 - val_loss: 3.8513 - val_acc: 0.6121\n",
            "Epoch 152/200\n",
            "50000/50000 [==============================] - 17s 348us/step - loss: 0.0269 - acc: 0.9926 - val_loss: 3.8874 - val_acc: 0.6082\n",
            "Epoch 153/200\n",
            "50000/50000 [==============================] - 17s 347us/step - loss: 0.0279 - acc: 0.9918 - val_loss: 3.8838 - val_acc: 0.6100\n",
            "Epoch 154/200\n",
            "50000/50000 [==============================] - 17s 350us/step - loss: 0.0267 - acc: 0.9926 - val_loss: 3.8890 - val_acc: 0.6132\n",
            "Epoch 155/200\n",
            "50000/50000 [==============================] - 17s 347us/step - loss: 0.0270 - acc: 0.9918 - val_loss: 3.8982 - val_acc: 0.6126\n",
            "Epoch 156/200\n",
            "50000/50000 [==============================] - 17s 348us/step - loss: 0.0262 - acc: 0.9923 - val_loss: 3.9043 - val_acc: 0.6124\n",
            "Epoch 157/200\n",
            "50000/50000 [==============================] - 17s 349us/step - loss: 0.0262 - acc: 0.9925 - val_loss: 3.9610 - val_acc: 0.6117\n",
            "Epoch 158/200\n",
            "50000/50000 [==============================] - 17s 349us/step - loss: 0.0255 - acc: 0.9925 - val_loss: 4.0053 - val_acc: 0.6082\n",
            "Epoch 159/200\n",
            "50000/50000 [==============================] - 17s 348us/step - loss: 0.0248 - acc: 0.9928 - val_loss: 3.9570 - val_acc: 0.6117\n",
            "Epoch 160/200\n",
            "50000/50000 [==============================] - 17s 348us/step - loss: 0.0249 - acc: 0.9926 - val_loss: 4.0418 - val_acc: 0.6113\n",
            "Epoch 161/200\n",
            "50000/50000 [==============================] - 17s 348us/step - loss: 0.0246 - acc: 0.9931 - val_loss: 3.9790 - val_acc: 0.6124\n",
            "Epoch 162/200\n",
            "50000/50000 [==============================] - 17s 349us/step - loss: 0.0240 - acc: 0.9934 - val_loss: 4.0015 - val_acc: 0.6093\n",
            "Epoch 163/200\n",
            "50000/50000 [==============================] - 17s 348us/step - loss: 0.0233 - acc: 0.9931 - val_loss: 3.9838 - val_acc: 0.6119\n",
            "Epoch 164/200\n",
            "50000/50000 [==============================] - 17s 348us/step - loss: 0.0221 - acc: 0.9942 - val_loss: 4.0948 - val_acc: 0.6093\n",
            "Epoch 165/200\n",
            "50000/50000 [==============================] - 17s 348us/step - loss: 0.0241 - acc: 0.9930 - val_loss: 4.1596 - val_acc: 0.6000\n",
            "Epoch 166/200\n",
            "50000/50000 [==============================] - 17s 348us/step - loss: 0.0229 - acc: 0.9935 - val_loss: 4.0353 - val_acc: 0.6120\n",
            "Epoch 167/200\n",
            "50000/50000 [==============================] - 18s 350us/step - loss: 0.0213 - acc: 0.9942 - val_loss: 4.1937 - val_acc: 0.6010\n",
            "Epoch 168/200\n",
            "50000/50000 [==============================] - 17s 348us/step - loss: 0.0212 - acc: 0.9941 - val_loss: 4.0871 - val_acc: 0.6084\n",
            "Epoch 169/200\n",
            "50000/50000 [==============================] - 17s 348us/step - loss: 0.0221 - acc: 0.9938 - val_loss: 4.1098 - val_acc: 0.6086\n",
            "Epoch 170/200\n",
            "50000/50000 [==============================] - 17s 348us/step - loss: 0.0204 - acc: 0.9944 - val_loss: 4.1148 - val_acc: 0.6087\n",
            "Epoch 171/200\n",
            "50000/50000 [==============================] - 17s 349us/step - loss: 0.0214 - acc: 0.9939 - val_loss: 4.0788 - val_acc: 0.6127\n",
            "Epoch 172/200\n",
            "50000/50000 [==============================] - 17s 349us/step - loss: 0.0217 - acc: 0.9938 - val_loss: 4.1248 - val_acc: 0.6082\n",
            "Epoch 173/200\n",
            "50000/50000 [==============================] - 17s 348us/step - loss: 0.0200 - acc: 0.9945 - val_loss: 4.1317 - val_acc: 0.6092\n",
            "Epoch 174/200\n",
            "50000/50000 [==============================] - 17s 350us/step - loss: 0.0201 - acc: 0.9939 - val_loss: 4.0865 - val_acc: 0.6136\n",
            "Epoch 175/200\n",
            "50000/50000 [==============================] - 18s 351us/step - loss: 0.0201 - acc: 0.9943 - val_loss: 4.1150 - val_acc: 0.6083\n",
            "Epoch 176/200\n",
            "50000/50000 [==============================] - 17s 348us/step - loss: 0.0200 - acc: 0.9944 - val_loss: 4.1126 - val_acc: 0.6105\n",
            "Epoch 177/200\n",
            "50000/50000 [==============================] - 17s 348us/step - loss: 0.0202 - acc: 0.9941 - val_loss: 4.1853 - val_acc: 0.6094\n",
            "Epoch 178/200\n",
            "50000/50000 [==============================] - 17s 349us/step - loss: 0.0185 - acc: 0.9947 - val_loss: 4.2104 - val_acc: 0.6111\n",
            "Epoch 179/200\n",
            "50000/50000 [==============================] - 17s 348us/step - loss: 0.0189 - acc: 0.9947 - val_loss: 4.3378 - val_acc: 0.6010\n",
            "Epoch 180/200\n",
            "50000/50000 [==============================] - 17s 348us/step - loss: 0.0194 - acc: 0.9943 - val_loss: 4.2612 - val_acc: 0.6066\n",
            "Epoch 181/200\n",
            "50000/50000 [==============================] - 17s 350us/step - loss: 0.0176 - acc: 0.9952 - val_loss: 4.2278 - val_acc: 0.6063\n",
            "Epoch 182/200\n",
            "50000/50000 [==============================] - 17s 349us/step - loss: 0.0168 - acc: 0.9953 - val_loss: 4.2149 - val_acc: 0.6099\n",
            "Epoch 183/200\n",
            "50000/50000 [==============================] - 17s 349us/step - loss: 0.0175 - acc: 0.9952 - val_loss: 4.3346 - val_acc: 0.5995\n",
            "Epoch 184/200\n",
            "50000/50000 [==============================] - 17s 348us/step - loss: 0.0183 - acc: 0.9949 - val_loss: 4.2134 - val_acc: 0.6046\n",
            "Epoch 185/200\n",
            "50000/50000 [==============================] - 17s 348us/step - loss: 0.0169 - acc: 0.9951 - val_loss: 4.2159 - val_acc: 0.6072\n",
            "Epoch 186/200\n",
            "50000/50000 [==============================] - 17s 348us/step - loss: 0.0179 - acc: 0.9950 - val_loss: 4.2068 - val_acc: 0.6131\n",
            "Epoch 187/200\n",
            "50000/50000 [==============================] - 17s 348us/step - loss: 0.0175 - acc: 0.9947 - val_loss: 4.1879 - val_acc: 0.6132\n",
            "Epoch 188/200\n",
            "50000/50000 [==============================] - 17s 349us/step - loss: 0.0165 - acc: 0.9949 - val_loss: 4.2217 - val_acc: 0.6086\n",
            "Epoch 189/200\n",
            "50000/50000 [==============================] - 17s 348us/step - loss: 0.0170 - acc: 0.9948 - val_loss: 4.2887 - val_acc: 0.6054\n",
            "Epoch 190/200\n",
            "50000/50000 [==============================] - 17s 348us/step - loss: 0.0157 - acc: 0.9952 - val_loss: 4.3104 - val_acc: 0.6046\n",
            "Epoch 191/200\n",
            "50000/50000 [==============================] - 17s 347us/step - loss: 0.0154 - acc: 0.9957 - val_loss: 4.2342 - val_acc: 0.6100\n",
            "Epoch 192/200\n",
            "50000/50000 [==============================] - 17s 348us/step - loss: 0.0152 - acc: 0.9961 - val_loss: 4.3211 - val_acc: 0.6046\n",
            "Epoch 193/200\n",
            "50000/50000 [==============================] - 17s 349us/step - loss: 0.0152 - acc: 0.9957 - val_loss: 4.2765 - val_acc: 0.6070\n",
            "Epoch 194/200\n",
            "50000/50000 [==============================] - 17s 348us/step - loss: 0.0149 - acc: 0.9959 - val_loss: 4.2773 - val_acc: 0.6100\n",
            "Epoch 195/200\n",
            "50000/50000 [==============================] - 17s 349us/step - loss: 0.0154 - acc: 0.9954 - val_loss: 4.4222 - val_acc: 0.5997\n",
            "Epoch 196/200\n",
            "50000/50000 [==============================] - 17s 349us/step - loss: 0.0145 - acc: 0.9962 - val_loss: 4.3713 - val_acc: 0.6030\n",
            "Epoch 197/200\n",
            "50000/50000 [==============================] - 17s 348us/step - loss: 0.0155 - acc: 0.9955 - val_loss: 4.4019 - val_acc: 0.6038\n",
            "Epoch 198/200\n",
            "50000/50000 [==============================] - 17s 348us/step - loss: 0.0147 - acc: 0.9959 - val_loss: 4.2913 - val_acc: 0.6113\n",
            "Epoch 199/200\n",
            "50000/50000 [==============================] - 17s 348us/step - loss: 0.0155 - acc: 0.9956 - val_loss: 4.3728 - val_acc: 0.6074\n",
            "Epoch 200/200\n",
            "50000/50000 [==============================] - 17s 347us/step - loss: 0.0143 - acc: 0.9963 - val_loss: 4.3104 - val_acc: 0.6125\n"
          ],
          "name": "stdout"
        },
        {
          "output_type": "execute_result",
          "data": {
            "text/plain": [
              "<keras.callbacks.History at 0x7f3d61696588>"
            ]
          },
          "metadata": {
            "tags": []
          },
          "execution_count": 13
        }
      ]
    }
  ]
}