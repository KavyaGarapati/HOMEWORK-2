{
  "nbformat": 4,
  "nbformat_minor": 0,
  "metadata": {
    "colab": {
      "name": "CIFAR.ipynb",
      "version": "0.3.2",
      "provenance": [],
      "collapsed_sections": [],
      "include_colab_link": true
    },
    "kernelspec": {
      "name": "python3",
      "display_name": "Python 3"
    },
    "accelerator": "GPU"
  },
  "cells": [
    {
      "cell_type": "markdown",
      "metadata": {
        "id": "view-in-github",
        "colab_type": "text"
      },
      "source": [
        "<a href=\"https://colab.research.google.com/github/KavyaGarapati/HOMEWORK-2/blob/master/CIFAR.ipynb\" target=\"_parent\"><img src=\"https://colab.research.google.com/assets/colab-badge.svg\" alt=\"Open In Colab\"/></a>"
      ]
    },
    {
      "metadata": {
        "id": "YZ7q9G9WizII",
        "colab_type": "code",
        "colab": {
          "base_uri": "https://localhost:8080/",
          "height": 34
        },
        "outputId": "55b3a69c-e70e-43d8-c2ba-426ce3f03955"
      },
      "cell_type": "code",
      "source": [
        "import keras\n",
        "from keras.datasets import cifar10\n",
        "from keras.preprocessing.image import ImageDataGenerator\n",
        "from keras.models import Sequential\n",
        "from keras.layers import Dense, Activation, Flatten\n",
        "from keras.layers import Conv2D, MaxPooling2D\n",
        "import os"
      ],
      "execution_count": 2,
      "outputs": [
        {
          "output_type": "stream",
          "text": [
            "Using TensorFlow backend.\n"
          ],
          "name": "stderr"
        }
      ]
    },
    {
      "metadata": {
        "id": "Crd54u_nnFGz",
        "colab_type": "code",
        "colab": {}
      },
      "cell_type": "code",
      "source": [
        "batch_size = 32\n",
        "num_classes = 10\n",
        "epochs = 100\n",
        "num_predictions = 10\n",
        "save_dir = os.path.join(os.getcwd(), 'saved_models')\n",
        "model_name = 'keras_cifar10_trained_model.h5'"
      ],
      "execution_count": 0,
      "outputs": []
    },
    {
      "metadata": {
        "id": "0_N2ZUVenJUr",
        "colab_type": "code",
        "colab": {
          "base_uri": "https://localhost:8080/",
          "height": 68
        },
        "outputId": "57a0ee8d-2fdc-4d16-a87c-91eaaecd0b48"
      },
      "cell_type": "code",
      "source": [
        "(x_train, y_train), (x_test, y_test) = cifar10.load_data()\n",
        "print('x_train shape:', x_train.shape)\n",
        "print(x_train.shape[0], 'train samples')\n",
        "print(x_test.shape[0], 'test samples')"
      ],
      "execution_count": 4,
      "outputs": [
        {
          "output_type": "stream",
          "text": [
            "x_train shape: (50000, 32, 32, 3)\n",
            "50000 train samples\n",
            "10000 test samples\n"
          ],
          "name": "stdout"
        }
      ]
    },
    {
      "metadata": {
        "id": "b9b0aSjZnQ4W",
        "colab_type": "code",
        "colab": {}
      },
      "cell_type": "code",
      "source": [
        "is_converted_categorical = False"
      ],
      "execution_count": 0,
      "outputs": []
    },
    {
      "metadata": {
        "id": "wk1_oQy-nUZ7",
        "colab_type": "code",
        "colab": {}
      },
      "cell_type": "code",
      "source": [
        "if(not is_converted_categorical):\n",
        "  y_train = keras.utils.to_categorical(y_train, num_classes)\n",
        "  y_test = keras.utils.to_categorical(y_test, num_classes)\n",
        "  is_converted_categorical = True\n"
      ],
      "execution_count": 0,
      "outputs": []
    },
    {
      "metadata": {
        "id": "QJzFhlFPnXm4",
        "colab_type": "code",
        "colab": {
          "base_uri": "https://localhost:8080/",
          "height": 34
        },
        "outputId": "eb5b4045-0c32-4ea0-c793-929f73ac0822"
      },
      "cell_type": "code",
      "source": [
        "y_train.shape"
      ],
      "execution_count": 7,
      "outputs": [
        {
          "output_type": "execute_result",
          "data": {
            "text/plain": [
              "(50000, 10)"
            ]
          },
          "metadata": {
            "tags": []
          },
          "execution_count": 7
        }
      ]
    },
    {
      "metadata": {
        "id": "QZrn0Ou-nbQs",
        "colab_type": "code",
        "colab": {
          "base_uri": "https://localhost:8080/",
          "height": 88
        },
        "outputId": "443f0804-77b4-41fd-f4be-fa2573a396f5"
      },
      "cell_type": "code",
      "source": [
        "model = Sequential()\n",
        "model.add(Conv2D(32, (3, 3), padding='same',\n",
        "                 input_shape=x_train.shape[1:]))\n",
        "model.add(Activation('relu'))\n",
        "model.add(Conv2D(32, (3, 3)))\n",
        "model.add(Activation('relu'))\n",
        "model.add(MaxPooling2D(pool_size=(2, 2)))\n",
        "\n",
        "model.add(Flatten())\n",
        "model.add(Dense(512))\n",
        "\n",
        "model.add(Dense(num_classes))\n",
        "model.add(Activation('softmax'))"
      ],
      "execution_count": 8,
      "outputs": [
        {
          "output_type": "stream",
          "text": [
            "WARNING:tensorflow:From /usr/local/lib/python3.6/dist-packages/tensorflow/python/framework/op_def_library.py:263: colocate_with (from tensorflow.python.framework.ops) is deprecated and will be removed in a future version.\n",
            "Instructions for updating:\n",
            "Colocations handled automatically by placer.\n"
          ],
          "name": "stdout"
        }
      ]
    },
    {
      "metadata": {
        "id": "CFLsOqZNpiWL",
        "colab_type": "code",
        "colab": {
          "base_uri": "https://localhost:8080/",
          "height": 34
        },
        "outputId": "b683e02a-4658-4698-aef9-2058df75761a"
      },
      "cell_type": "code",
      "source": [
        "x_train.shape[1:]"
      ],
      "execution_count": 9,
      "outputs": [
        {
          "output_type": "execute_result",
          "data": {
            "text/plain": [
              "(32, 32, 3)"
            ]
          },
          "metadata": {
            "tags": []
          },
          "execution_count": 9
        }
      ]
    },
    {
      "metadata": {
        "id": "V6Xjiyc_pjwH",
        "colab_type": "code",
        "colab": {
          "base_uri": "https://localhost:8080/",
          "height": 442
        },
        "outputId": "4d6d0f05-b543-4f53-df32-bbf719d9bc26"
      },
      "cell_type": "code",
      "source": [
        "model.summary()"
      ],
      "execution_count": 10,
      "outputs": [
        {
          "output_type": "stream",
          "text": [
            "_________________________________________________________________\n",
            "Layer (type)                 Output Shape              Param #   \n",
            "=================================================================\n",
            "conv2d_1 (Conv2D)            (None, 32, 32, 32)        896       \n",
            "_________________________________________________________________\n",
            "activation_1 (Activation)    (None, 32, 32, 32)        0         \n",
            "_________________________________________________________________\n",
            "conv2d_2 (Conv2D)            (None, 30, 30, 32)        9248      \n",
            "_________________________________________________________________\n",
            "activation_2 (Activation)    (None, 30, 30, 32)        0         \n",
            "_________________________________________________________________\n",
            "max_pooling2d_1 (MaxPooling2 (None, 15, 15, 32)        0         \n",
            "_________________________________________________________________\n",
            "flatten_1 (Flatten)          (None, 7200)              0         \n",
            "_________________________________________________________________\n",
            "dense_1 (Dense)              (None, 512)               3686912   \n",
            "_________________________________________________________________\n",
            "dense_2 (Dense)              (None, 10)                5130      \n",
            "_________________________________________________________________\n",
            "activation_3 (Activation)    (None, 10)                0         \n",
            "=================================================================\n",
            "Total params: 3,702,186\n",
            "Trainable params: 3,702,186\n",
            "Non-trainable params: 0\n",
            "_________________________________________________________________\n"
          ],
          "name": "stdout"
        }
      ]
    },
    {
      "metadata": {
        "id": "f2xAP4i5puAx",
        "colab_type": "code",
        "colab": {}
      },
      "cell_type": "code",
      "source": [
        "opt = keras.optimizers.rmsprop(lr=0.0001, decay=1e-6)"
      ],
      "execution_count": 0,
      "outputs": []
    },
    {
      "metadata": {
        "id": "3h6A0JPJpzs9",
        "colab_type": "code",
        "colab": {}
      },
      "cell_type": "code",
      "source": [
        "model.compile(loss='categorical_crossentropy',\n",
        "              optimizer=opt,\n",
        "              metrics=['accuracy'])"
      ],
      "execution_count": 0,
      "outputs": []
    },
    {
      "metadata": {
        "id": "P0Y6xMMFp3Dl",
        "colab_type": "code",
        "colab": {}
      },
      "cell_type": "code",
      "source": [
        "x_train = x_train.astype('float32')\n",
        "x_test = x_test.astype('float32')\n",
        "x_train /= 255\n",
        "x_test /= 255"
      ],
      "execution_count": 0,
      "outputs": []
    },
    {
      "metadata": {
        "id": "CEtlLxFEp6P1",
        "colab_type": "code",
        "colab": {
          "base_uri": "https://localhost:8080/",
          "height": 3522
        },
        "outputId": "8a54bcca-3e3c-4366-c3ec-93792f2d2b73"
      },
      "cell_type": "code",
      "source": [
        "model.fit(x_train, y_train,\n",
        "              batch_size=batch_size,\n",
        "              epochs=epochs,\n",
        "              validation_data=(x_test, y_test),\n",
        "              shuffle=True)"
      ],
      "execution_count": 14,
      "outputs": [
        {
          "output_type": "stream",
          "text": [
            "WARNING:tensorflow:From /usr/local/lib/python3.6/dist-packages/tensorflow/python/ops/math_ops.py:3066: to_int32 (from tensorflow.python.ops.math_ops) is deprecated and will be removed in a future version.\n",
            "Instructions for updating:\n",
            "Use tf.cast instead.\n",
            "Train on 50000 samples, validate on 10000 samples\n",
            "Epoch 1/100\n",
            "50000/50000 [==============================] - 20s 395us/step - loss: 1.4884 - acc: 0.4743 - val_loss: 1.2770 - val_acc: 0.5433\n",
            "Epoch 2/100\n",
            "50000/50000 [==============================] - 18s 361us/step - loss: 1.1825 - acc: 0.5903 - val_loss: 1.1678 - val_acc: 0.5935\n",
            "Epoch 3/100\n",
            "50000/50000 [==============================] - 18s 362us/step - loss: 1.0576 - acc: 0.6335 - val_loss: 1.0841 - val_acc: 0.6260\n",
            "Epoch 4/100\n",
            "50000/50000 [==============================] - 18s 362us/step - loss: 0.9814 - acc: 0.6608 - val_loss: 1.0736 - val_acc: 0.6304\n",
            "Epoch 5/100\n",
            "50000/50000 [==============================] - 18s 360us/step - loss: 0.9252 - acc: 0.6810 - val_loss: 1.0049 - val_acc: 0.6507\n",
            "Epoch 6/100\n",
            "50000/50000 [==============================] - 18s 358us/step - loss: 0.8823 - acc: 0.6944 - val_loss: 1.0363 - val_acc: 0.6425\n",
            "Epoch 7/100\n",
            "50000/50000 [==============================] - 18s 358us/step - loss: 0.8446 - acc: 0.7103 - val_loss: 1.0220 - val_acc: 0.6521\n",
            "Epoch 8/100\n",
            "50000/50000 [==============================] - 18s 359us/step - loss: 0.8117 - acc: 0.7222 - val_loss: 0.9901 - val_acc: 0.6680\n",
            "Epoch 9/100\n",
            "50000/50000 [==============================] - 18s 360us/step - loss: 0.7824 - acc: 0.7327 - val_loss: 1.0361 - val_acc: 0.6468\n",
            "Epoch 10/100\n",
            "50000/50000 [==============================] - 18s 361us/step - loss: 0.7574 - acc: 0.7412 - val_loss: 0.9974 - val_acc: 0.6689\n",
            "Epoch 11/100\n",
            "50000/50000 [==============================] - 18s 362us/step - loss: 0.7322 - acc: 0.7496 - val_loss: 1.0059 - val_acc: 0.6661\n",
            "Epoch 12/100\n",
            "50000/50000 [==============================] - 18s 360us/step - loss: 0.7094 - acc: 0.7568 - val_loss: 0.9918 - val_acc: 0.6723\n",
            "Epoch 13/100\n",
            "50000/50000 [==============================] - 18s 359us/step - loss: 0.6888 - acc: 0.7649 - val_loss: 1.0105 - val_acc: 0.6611\n",
            "Epoch 14/100\n",
            "50000/50000 [==============================] - 18s 358us/step - loss: 0.6682 - acc: 0.7738 - val_loss: 1.0021 - val_acc: 0.6641\n",
            "Epoch 15/100\n",
            "50000/50000 [==============================] - 18s 358us/step - loss: 0.6486 - acc: 0.7798 - val_loss: 1.0525 - val_acc: 0.6554\n",
            "Epoch 16/100\n",
            "50000/50000 [==============================] - 18s 358us/step - loss: 0.6309 - acc: 0.7844 - val_loss: 1.0109 - val_acc: 0.6644\n",
            "Epoch 17/100\n",
            "50000/50000 [==============================] - 18s 358us/step - loss: 0.6132 - acc: 0.7905 - val_loss: 1.0434 - val_acc: 0.6646\n",
            "Epoch 18/100\n",
            "50000/50000 [==============================] - 18s 358us/step - loss: 0.5957 - acc: 0.7971 - val_loss: 1.0681 - val_acc: 0.6628\n",
            "Epoch 19/100\n",
            "50000/50000 [==============================] - 18s 358us/step - loss: 0.5803 - acc: 0.8026 - val_loss: 1.0340 - val_acc: 0.6700\n",
            "Epoch 20/100\n",
            "50000/50000 [==============================] - 18s 359us/step - loss: 0.5630 - acc: 0.8092 - val_loss: 1.0753 - val_acc: 0.6612\n",
            "Epoch 21/100\n",
            "50000/50000 [==============================] - 18s 360us/step - loss: 0.5502 - acc: 0.8118 - val_loss: 1.1132 - val_acc: 0.6579\n",
            "Epoch 22/100\n",
            "50000/50000 [==============================] - 18s 360us/step - loss: 0.5358 - acc: 0.8183 - val_loss: 1.1005 - val_acc: 0.6590\n",
            "Epoch 23/100\n",
            "50000/50000 [==============================] - 18s 361us/step - loss: 0.5201 - acc: 0.8227 - val_loss: 1.1077 - val_acc: 0.6629\n",
            "Epoch 24/100\n",
            "50000/50000 [==============================] - 18s 362us/step - loss: 0.5071 - acc: 0.8271 - val_loss: 1.1326 - val_acc: 0.6589\n",
            "Epoch 25/100\n",
            "50000/50000 [==============================] - 18s 359us/step - loss: 0.4957 - acc: 0.8311 - val_loss: 1.1257 - val_acc: 0.6599\n",
            "Epoch 26/100\n",
            "50000/50000 [==============================] - 18s 358us/step - loss: 0.4837 - acc: 0.8362 - val_loss: 1.1902 - val_acc: 0.6545\n",
            "Epoch 27/100\n",
            "50000/50000 [==============================] - 18s 358us/step - loss: 0.4706 - acc: 0.8407 - val_loss: 1.1495 - val_acc: 0.6639\n",
            "Epoch 28/100\n",
            "50000/50000 [==============================] - 18s 359us/step - loss: 0.4597 - acc: 0.8438 - val_loss: 1.1751 - val_acc: 0.6589\n",
            "Epoch 29/100\n",
            "50000/50000 [==============================] - 18s 361us/step - loss: 0.4497 - acc: 0.8469 - val_loss: 1.2483 - val_acc: 0.6518\n",
            "Epoch 30/100\n",
            "50000/50000 [==============================] - 18s 360us/step - loss: 0.4374 - acc: 0.8521 - val_loss: 1.3101 - val_acc: 0.6359\n",
            "Epoch 31/100\n",
            "50000/50000 [==============================] - 18s 360us/step - loss: 0.4275 - acc: 0.8547 - val_loss: 1.2492 - val_acc: 0.6545\n",
            "Epoch 32/100\n",
            "50000/50000 [==============================] - 18s 359us/step - loss: 0.4174 - acc: 0.8602 - val_loss: 1.3710 - val_acc: 0.6373\n",
            "Epoch 33/100\n",
            "50000/50000 [==============================] - 18s 361us/step - loss: 0.4070 - acc: 0.8632 - val_loss: 1.3332 - val_acc: 0.6430\n",
            "Epoch 34/100\n",
            "50000/50000 [==============================] - 18s 360us/step - loss: 0.3989 - acc: 0.8637 - val_loss: 1.2760 - val_acc: 0.6582\n",
            "Epoch 35/100\n",
            "50000/50000 [==============================] - 18s 363us/step - loss: 0.3892 - acc: 0.8688 - val_loss: 1.3513 - val_acc: 0.6436\n",
            "Epoch 36/100\n",
            "50000/50000 [==============================] - 18s 363us/step - loss: 0.3807 - acc: 0.8720 - val_loss: 1.3622 - val_acc: 0.6446\n",
            "Epoch 37/100\n",
            "50000/50000 [==============================] - 18s 361us/step - loss: 0.3723 - acc: 0.8744 - val_loss: 1.3743 - val_acc: 0.6558\n",
            "Epoch 38/100\n",
            "50000/50000 [==============================] - 18s 363us/step - loss: 0.3640 - acc: 0.8763 - val_loss: 1.3640 - val_acc: 0.6499\n",
            "Epoch 39/100\n",
            "50000/50000 [==============================] - 18s 361us/step - loss: 0.3552 - acc: 0.8805 - val_loss: 1.4222 - val_acc: 0.6471\n",
            "Epoch 40/100\n",
            "50000/50000 [==============================] - 18s 361us/step - loss: 0.3468 - acc: 0.8838 - val_loss: 1.4954 - val_acc: 0.6382\n",
            "Epoch 41/100\n",
            "50000/50000 [==============================] - 18s 361us/step - loss: 0.3412 - acc: 0.8849 - val_loss: 1.5231 - val_acc: 0.6316\n",
            "Epoch 42/100\n",
            "50000/50000 [==============================] - 18s 361us/step - loss: 0.3324 - acc: 0.8886 - val_loss: 1.4610 - val_acc: 0.6496\n",
            "Epoch 43/100\n",
            "50000/50000 [==============================] - 18s 361us/step - loss: 0.3255 - acc: 0.8903 - val_loss: 1.4878 - val_acc: 0.6440\n",
            "Epoch 44/100\n",
            "50000/50000 [==============================] - 18s 361us/step - loss: 0.3192 - acc: 0.8922 - val_loss: 1.5185 - val_acc: 0.6386\n",
            "Epoch 45/100\n",
            "50000/50000 [==============================] - 18s 361us/step - loss: 0.3111 - acc: 0.8947 - val_loss: 1.5642 - val_acc: 0.6403\n",
            "Epoch 46/100\n",
            "50000/50000 [==============================] - 18s 360us/step - loss: 0.3055 - acc: 0.8971 - val_loss: 1.6042 - val_acc: 0.6386\n",
            "Epoch 47/100\n",
            "50000/50000 [==============================] - 18s 356us/step - loss: 0.2981 - acc: 0.8993 - val_loss: 1.6351 - val_acc: 0.6327\n",
            "Epoch 48/100\n",
            "50000/50000 [==============================] - 18s 359us/step - loss: 0.2915 - acc: 0.9019 - val_loss: 1.6803 - val_acc: 0.6252\n",
            "Epoch 49/100\n",
            "50000/50000 [==============================] - 18s 358us/step - loss: 0.2850 - acc: 0.9039 - val_loss: 1.7577 - val_acc: 0.6218\n",
            "Epoch 50/100\n",
            "50000/50000 [==============================] - 18s 357us/step - loss: 0.2790 - acc: 0.9068 - val_loss: 1.6890 - val_acc: 0.6361\n",
            "Epoch 51/100\n",
            "50000/50000 [==============================] - 18s 357us/step - loss: 0.2714 - acc: 0.9076 - val_loss: 1.7209 - val_acc: 0.6305\n",
            "Epoch 52/100\n",
            "50000/50000 [==============================] - 18s 356us/step - loss: 0.2663 - acc: 0.9106 - val_loss: 1.6970 - val_acc: 0.6390\n",
            "Epoch 53/100\n",
            "50000/50000 [==============================] - 18s 357us/step - loss: 0.2608 - acc: 0.9126 - val_loss: 1.7193 - val_acc: 0.6348\n",
            "Epoch 54/100\n",
            "50000/50000 [==============================] - 18s 357us/step - loss: 0.2556 - acc: 0.9150 - val_loss: 1.8048 - val_acc: 0.6277\n",
            "Epoch 55/100\n",
            "50000/50000 [==============================] - 18s 358us/step - loss: 0.2499 - acc: 0.9165 - val_loss: 1.8831 - val_acc: 0.6189\n",
            "Epoch 56/100\n",
            "50000/50000 [==============================] - 18s 358us/step - loss: 0.2446 - acc: 0.9179 - val_loss: 1.8198 - val_acc: 0.6351\n",
            "Epoch 57/100\n",
            "50000/50000 [==============================] - 18s 356us/step - loss: 0.2409 - acc: 0.9198 - val_loss: 1.8329 - val_acc: 0.6324\n",
            "Epoch 58/100\n",
            "50000/50000 [==============================] - 18s 356us/step - loss: 0.2360 - acc: 0.9207 - val_loss: 1.8636 - val_acc: 0.6290\n",
            "Epoch 59/100\n",
            "50000/50000 [==============================] - 18s 359us/step - loss: 0.2289 - acc: 0.9241 - val_loss: 1.8819 - val_acc: 0.6285\n",
            "Epoch 60/100\n",
            "50000/50000 [==============================] - 18s 358us/step - loss: 0.2254 - acc: 0.9242 - val_loss: 2.0138 - val_acc: 0.6191\n",
            "Epoch 61/100\n",
            "50000/50000 [==============================] - 18s 358us/step - loss: 0.2201 - acc: 0.9269 - val_loss: 1.9695 - val_acc: 0.6281\n",
            "Epoch 62/100\n",
            "50000/50000 [==============================] - 18s 357us/step - loss: 0.2151 - acc: 0.9304 - val_loss: 2.0368 - val_acc: 0.6222\n",
            "Epoch 63/100\n",
            "50000/50000 [==============================] - 18s 356us/step - loss: 0.2106 - acc: 0.9293 - val_loss: 1.9911 - val_acc: 0.6330\n",
            "Epoch 64/100\n",
            "50000/50000 [==============================] - 18s 357us/step - loss: 0.2070 - acc: 0.9305 - val_loss: 1.9950 - val_acc: 0.6320\n",
            "Epoch 65/100\n",
            "50000/50000 [==============================] - 18s 360us/step - loss: 0.2012 - acc: 0.9329 - val_loss: 2.0355 - val_acc: 0.6311\n",
            "Epoch 66/100\n",
            "50000/50000 [==============================] - 18s 359us/step - loss: 0.1982 - acc: 0.9330 - val_loss: 2.1016 - val_acc: 0.6219\n",
            "Epoch 67/100\n",
            "50000/50000 [==============================] - 18s 359us/step - loss: 0.1937 - acc: 0.9360 - val_loss: 2.0939 - val_acc: 0.6233\n",
            "Epoch 68/100\n",
            "50000/50000 [==============================] - 18s 358us/step - loss: 0.1900 - acc: 0.9363 - val_loss: 2.2566 - val_acc: 0.6118\n",
            "Epoch 69/100\n",
            "50000/50000 [==============================] - 18s 357us/step - loss: 0.1857 - acc: 0.9390 - val_loss: 2.1959 - val_acc: 0.6221\n",
            "Epoch 70/100\n",
            "50000/50000 [==============================] - 18s 357us/step - loss: 0.1819 - acc: 0.9407 - val_loss: 2.2598 - val_acc: 0.6108\n",
            "Epoch 71/100\n",
            "50000/50000 [==============================] - 18s 357us/step - loss: 0.1774 - acc: 0.9414 - val_loss: 2.2593 - val_acc: 0.6148\n",
            "Epoch 72/100\n",
            "50000/50000 [==============================] - 18s 359us/step - loss: 0.1753 - acc: 0.9409 - val_loss: 2.1987 - val_acc: 0.6267\n",
            "Epoch 73/100\n",
            "50000/50000 [==============================] - 18s 358us/step - loss: 0.1713 - acc: 0.9437 - val_loss: 2.3172 - val_acc: 0.6186\n",
            "Epoch 74/100\n",
            "50000/50000 [==============================] - 18s 357us/step - loss: 0.1665 - acc: 0.9450 - val_loss: 2.2807 - val_acc: 0.6254\n",
            "Epoch 75/100\n",
            "50000/50000 [==============================] - 18s 358us/step - loss: 0.1639 - acc: 0.9465 - val_loss: 2.3809 - val_acc: 0.6120\n",
            "Epoch 76/100\n",
            "50000/50000 [==============================] - 18s 357us/step - loss: 0.1589 - acc: 0.9480 - val_loss: 2.3333 - val_acc: 0.6233\n",
            "Epoch 77/100\n",
            "50000/50000 [==============================] - 18s 358us/step - loss: 0.1567 - acc: 0.9482 - val_loss: 2.3768 - val_acc: 0.6206\n",
            "Epoch 78/100\n",
            "50000/50000 [==============================] - 18s 357us/step - loss: 0.1519 - acc: 0.9493 - val_loss: 2.3795 - val_acc: 0.6226\n",
            "Epoch 79/100\n",
            "50000/50000 [==============================] - 18s 358us/step - loss: 0.1520 - acc: 0.9491 - val_loss: 2.4678 - val_acc: 0.6148\n",
            "Epoch 80/100\n",
            "50000/50000 [==============================] - 18s 357us/step - loss: 0.1465 - acc: 0.9520 - val_loss: 2.4472 - val_acc: 0.6171\n",
            "Epoch 81/100\n",
            "50000/50000 [==============================] - 18s 357us/step - loss: 0.1435 - acc: 0.9524 - val_loss: 2.5135 - val_acc: 0.6173\n",
            "Epoch 82/100\n",
            "50000/50000 [==============================] - 18s 359us/step - loss: 0.1404 - acc: 0.9542 - val_loss: 2.5634 - val_acc: 0.6135\n",
            "Epoch 83/100\n",
            "50000/50000 [==============================] - 18s 360us/step - loss: 0.1370 - acc: 0.9551 - val_loss: 2.4960 - val_acc: 0.6193\n",
            "Epoch 84/100\n",
            "50000/50000 [==============================] - 18s 360us/step - loss: 0.1369 - acc: 0.9549 - val_loss: 2.6313 - val_acc: 0.6100\n",
            "Epoch 85/100\n",
            "50000/50000 [==============================] - 18s 357us/step - loss: 0.1320 - acc: 0.9567 - val_loss: 2.5868 - val_acc: 0.6136\n",
            "Epoch 86/100\n",
            "50000/50000 [==============================] - 18s 358us/step - loss: 0.1290 - acc: 0.9573 - val_loss: 2.6142 - val_acc: 0.6135\n",
            "Epoch 87/100\n",
            "50000/50000 [==============================] - 18s 359us/step - loss: 0.1276 - acc: 0.9587 - val_loss: 2.6064 - val_acc: 0.6172\n",
            "Epoch 88/100\n",
            "50000/50000 [==============================] - 18s 357us/step - loss: 0.1219 - acc: 0.9609 - val_loss: 2.6938 - val_acc: 0.6120\n",
            "Epoch 89/100\n",
            "50000/50000 [==============================] - 18s 360us/step - loss: 0.1216 - acc: 0.9604 - val_loss: 2.6367 - val_acc: 0.6193\n",
            "Epoch 90/100\n",
            "50000/50000 [==============================] - 18s 359us/step - loss: 0.1185 - acc: 0.9622 - val_loss: 2.6904 - val_acc: 0.6145\n",
            "Epoch 91/100\n",
            "50000/50000 [==============================] - 18s 357us/step - loss: 0.1161 - acc: 0.9629 - val_loss: 2.6924 - val_acc: 0.6175\n",
            "Epoch 92/100\n",
            "50000/50000 [==============================] - 18s 357us/step - loss: 0.1137 - acc: 0.9638 - val_loss: 2.7448 - val_acc: 0.6130\n",
            "Epoch 93/100\n",
            "50000/50000 [==============================] - 18s 357us/step - loss: 0.1104 - acc: 0.9637 - val_loss: 2.7428 - val_acc: 0.6187\n",
            "Epoch 94/100\n",
            "50000/50000 [==============================] - 18s 357us/step - loss: 0.1105 - acc: 0.9646 - val_loss: 2.8027 - val_acc: 0.6181\n",
            "Epoch 95/100\n",
            "50000/50000 [==============================] - 18s 357us/step - loss: 0.1082 - acc: 0.9648 - val_loss: 2.8728 - val_acc: 0.6072\n",
            "Epoch 96/100\n",
            "50000/50000 [==============================] - 18s 357us/step - loss: 0.1058 - acc: 0.9642 - val_loss: 2.8030 - val_acc: 0.6140\n",
            "Epoch 97/100\n",
            "50000/50000 [==============================] - 18s 357us/step - loss: 0.1015 - acc: 0.9668 - val_loss: 3.0038 - val_acc: 0.6046\n",
            "Epoch 98/100\n",
            "50000/50000 [==============================] - 18s 358us/step - loss: 0.1011 - acc: 0.9664 - val_loss: 2.9600 - val_acc: 0.6085\n",
            "Epoch 99/100\n",
            "50000/50000 [==============================] - 18s 357us/step - loss: 0.0994 - acc: 0.9675 - val_loss: 2.8685 - val_acc: 0.6169\n",
            "Epoch 100/100\n",
            "50000/50000 [==============================] - 18s 360us/step - loss: 0.0957 - acc: 0.9686 - val_loss: 2.9690 - val_acc: 0.6128\n"
          ],
          "name": "stdout"
        },
        {
          "output_type": "execute_result",
          "data": {
            "text/plain": [
              "<keras.callbacks.History at 0x7fabd4aa1dd8>"
            ]
          },
          "metadata": {
            "tags": []
          },
          "execution_count": 14
        }
      ]
    }
  ]
}