{
  "nbformat": 4,
  "nbformat_minor": 0,
  "metadata": {
    "colab": {
      "name": "k-fold.ipynb",
      "version": "0.3.2",
      "provenance": [],
      "collapsed_sections": [],
      "include_colab_link": true
    },
    "kernelspec": {
      "name": "python3",
      "display_name": "Python 3"
    },
    "accelerator": "GPU"
  },
  "cells": [
    {
      "cell_type": "markdown",
      "metadata": {
        "id": "view-in-github",
        "colab_type": "text"
      },
      "source": [
        "<a href=\"https://colab.research.google.com/github/KavyaGarapati/HOMEWORK-2/blob/master/k-fold.ipynb\" target=\"_parent\"><img src=\"https://colab.research.google.com/assets/colab-badge.svg\" alt=\"Open In Colab\"/></a>"
      ]
    },
    {
      "metadata": {
        "id": "OokFW_Pvy4ip",
        "colab_type": "code",
        "colab": {}
      },
      "cell_type": "code",
      "source": [
        "import keras\n",
        "from keras.datasets import cifar10\n",
        "from keras.preprocessing.image import ImageDataGenerator\n",
        "from keras.models import Sequential\n",
        "from sklearn.model_selection import cross_val_score\n",
        "from keras.layers import Dense, Dropout, Activation, Flatten, BatchNormalization\n",
        "from keras.optimizers import Adam\n",
        "from keras.losses import categorical_crossentropy\n",
        "from keras.utils import np_utils\n",
        "import numpy as np\n",
        "import matplotlib.pyplot as plt\n",
        "from sklearn.utils import shuffle\n",
        "from keras.layers import Conv2D, MaxPooling2D\n",
        "import os"
      ],
      "execution_count": 0,
      "outputs": []
    },
    {
      "metadata": {
        "id": "KDf2MlYdzijZ",
        "colab_type": "code",
        "colab": {}
      },
      "cell_type": "code",
      "source": [
        "batch_size = 32\n",
        "num_classes = 10\n",
        "epochs = 100\n"
      ],
      "execution_count": 0,
      "outputs": []
    },
    {
      "metadata": {
        "id": "I9S-N2-izpch",
        "colab_type": "code",
        "colab": {}
      },
      "cell_type": "code",
      "source": [
        "(x_train, y_train), (x_test, y_test) = cifar10.load_data()\n",
        "x_train, y_train = shuffle(x_train, y_train, random_state = 0)\n",
        "split_index = int(0.8 * x_train.shape[0])\n",
        "\n",
        "y_train = keras.utils.to_categorical(y_train, num_classes)\n",
        "y_test = keras.utils.to_categorical(y_test, num_classes)\n",
        "  \n",
        "x_train = x_train.astype('float32')\n",
        "x_test = x_test.astype('float32')\n",
        "x_train /= 255\n",
        "x_test /= 255\n",
        "\n",
        "#train_x = x_train[ :split_index]\n",
        "#train_y = y_train[ :split_index]\n",
        "\n",
        "#validate_x = x_train[ :split_index]\n",
        "#validate_y = y_train[ :split_index]\n",
        "\n",
        "#print(\"\\no of samples in training set: \",len(train_x))\n",
        "#print(\"\\no of samples in validation set: \",len(validate_x))\n"
      ],
      "execution_count": 0,
      "outputs": []
    },
    {
      "metadata": {
        "id": "GPJbZo0G54Iq",
        "colab_type": "code",
        "colab": {}
      },
      "cell_type": "code",
      "source": [
        "\n",
        "model = Sequential()\n",
        "model.add(Conv2D(32, (3, 3), padding='same',\n",
        "                 input_shape=x_train.shape[1:]))\n",
        "model.add(Activation('relu'))\n",
        "model.add(Conv2D(32, (3, 3)))\n",
        "model.add(Activation('relu'))\n",
        "model.add(MaxPooling2D(pool_size=(2, 2)))\n",
        "model.add(Dropout(0.25))\n",
        "\n",
        "model.add(Conv2D(64, (3, 3), padding='same'))\n",
        "model.add(Activation('relu'))\n",
        "model.add(Conv2D(64, (3, 3)))\n",
        "model.add(Activation('relu'))\n",
        "model.add(MaxPooling2D(pool_size=(2, 2)))\n",
        "model.add(Dropout(0.25))\n",
        "\n",
        "model.add(Flatten())\n",
        "model.add(Dense(512))\n",
        "model.add(Activation('relu'))\n",
        "model.add(Dropout(0.5))\n",
        "model.add(Dense(num_classes))\n",
        "model.add(Activation('softmax'))\n",
        "\n",
        "model.compile(loss='categorical_crossentropy',\n",
        "              optimizer=Adam(lr=0.0001, decay=1e-6), metrics=['accuracy'])\n",
        "\n"
      ],
      "execution_count": 0,
      "outputs": []
    },
    {
      "metadata": {
        "id": "aqnZi0O15-Xe",
        "colab_type": "code",
        "outputId": "70e58dda-dab1-44f4-bb71-943cbc455485",
        "colab": {
          "base_uri": "https://localhost:8080/",
          "height": 748
        }
      },
      "cell_type": "code",
      "source": [
        "model.summary()"
      ],
      "execution_count": 0,
      "outputs": [
        {
          "output_type": "stream",
          "text": [
            "_________________________________________________________________\n",
            "Layer (type)                 Output Shape              Param #   \n",
            "=================================================================\n",
            "conv2d_17 (Conv2D)           (None, 32, 32, 32)        896       \n",
            "_________________________________________________________________\n",
            "activation_25 (Activation)   (None, 32, 32, 32)        0         \n",
            "_________________________________________________________________\n",
            "conv2d_18 (Conv2D)           (None, 30, 30, 32)        9248      \n",
            "_________________________________________________________________\n",
            "activation_26 (Activation)   (None, 30, 30, 32)        0         \n",
            "_________________________________________________________________\n",
            "max_pooling2d_9 (MaxPooling2 (None, 15, 15, 32)        0         \n",
            "_________________________________________________________________\n",
            "dropout_13 (Dropout)         (None, 15, 15, 32)        0         \n",
            "_________________________________________________________________\n",
            "conv2d_19 (Conv2D)           (None, 15, 15, 64)        18496     \n",
            "_________________________________________________________________\n",
            "activation_27 (Activation)   (None, 15, 15, 64)        0         \n",
            "_________________________________________________________________\n",
            "conv2d_20 (Conv2D)           (None, 13, 13, 64)        36928     \n",
            "_________________________________________________________________\n",
            "activation_28 (Activation)   (None, 13, 13, 64)        0         \n",
            "_________________________________________________________________\n",
            "max_pooling2d_10 (MaxPooling (None, 6, 6, 64)          0         \n",
            "_________________________________________________________________\n",
            "dropout_14 (Dropout)         (None, 6, 6, 64)          0         \n",
            "_________________________________________________________________\n",
            "flatten_5 (Flatten)          (None, 2304)              0         \n",
            "_________________________________________________________________\n",
            "dense_9 (Dense)              (None, 512)               1180160   \n",
            "_________________________________________________________________\n",
            "activation_29 (Activation)   (None, 512)               0         \n",
            "_________________________________________________________________\n",
            "dropout_15 (Dropout)         (None, 512)               0         \n",
            "_________________________________________________________________\n",
            "dense_10 (Dense)             (None, 10)                5130      \n",
            "_________________________________________________________________\n",
            "activation_30 (Activation)   (None, 10)                0         \n",
            "=================================================================\n",
            "Total params: 1,250,858\n",
            "Trainable params: 1,250,858\n",
            "Non-trainable params: 0\n",
            "_________________________________________________________________\n"
          ],
          "name": "stdout"
        }
      ]
    },
    {
      "metadata": {
        "id": "cFi990qX6B0G",
        "colab_type": "code",
        "colab": {}
      },
      "cell_type": "code",
      "source": [
        "def train_model(model, train_x, train_y, validate_x, validate_y):\n",
        "  datagen = ImageDataGenerator(rotation_range = 0, width_shift_range = 0.1, height_shift_range = 0.1, fill_mode = 'nearest', horizontal_flip = True, \n",
        "                               vertical_flip = False)\n",
        "  datagen.fit(train_x)\n",
        "  for e in range(10):\n",
        "    batches = 0\n",
        "    for x_batch, y_batch in datagen.flow(train_x, train_y, batch_size = 40000):\n",
        "      model.fit(x_batch, y_batch)\n",
        "              \n",
        "  return model.fit(train_x, train_y, batch_size=batch_size, epochs = epochs, verbose = 1, validation_data = (validate_x, validate_y))"
      ],
      "execution_count": 0,
      "outputs": []
    },
    {
      "metadata": {
        "id": "zHF2Oq416E5S",
        "colab_type": "code",
        "colab": {}
      },
      "cell_type": "code",
      "source": [
        "def test_model(x_test,y_test):\n",
        "  \n",
        "  score = model.evaluate(x_test,y_test)\n",
        "  print('test loss = ', score[0])\n",
        "  print('test accuracy = ', score[1]*100)"
      ],
      "execution_count": 0,
      "outputs": []
    },
    {
      "metadata": {
        "id": "ebQH5CVc6HlF",
        "colab_type": "code",
        "colab": {}
      },
      "cell_type": "code",
      "source": [
        "def plot_training_graph(training_history, foldNumber):\n",
        "  plotaccuracy = plt.plot(range(1,epochs+1), training_history.history['acc'], range(1,epochs+1), training_history.history['val_acc'])\n",
        "  subtitle = \"fold number \" +foldNumber\n",
        "  plt.subtitle(subtitle)\n",
        "  plt.xlabel('number of epochs')\n",
        "  plt.ylabel('Accuracy')\n",
        "  plt.legend(('Train Accuracy', 'Test Accuracy'))\n",
        "  plt.show(plotaccuracy)\n",
        "  \n",
        "  print('validation loss:', training_history.history['val_acc'][-1] )\n",
        "  print('validation accuracy:', training_history.history['val_acc'][-1] )\n",
        "    "
      ],
      "execution_count": 0,
      "outputs": []
    },
    {
      "metadata": {
        "id": "IMHAMrybB4z3",
        "colab_type": "code",
        "colab": {}
      },
      "cell_type": "code",
      "source": [
        "x_folds = np.array_split(x_train,5)\n",
        "y_folds = np.array_split(y_train,5)\n",
        "\n",
        "for i in range(5):\n",
        "  \n",
        "  train_x = list(x_folds)\n",
        "  validate_x = train_x.pop(i)\n",
        "  train_x = np.concatenate(train_x)\n",
        "  \n",
        "  train_y = list(y_folds)\n",
        "  validate_y = train_y.pop(i)\n",
        "  train_y = np.concatenate(train_y)\n",
        "  \n",
        "  print('no of samples in training set: ',len(train_x))\n",
        "  print('no of samples in validation set: ',len(validate_x))\n",
        "  \n",
        "  input_shape = train_x.shape[1:]\n",
        "  print('shape of images: ',input_shape)\n",
        "  \n",
        "  model = getModel(input_shape)\n",
        "  \n",
        "  test_model(x_test,y_test)\n",
        "  \n",
        "  \n",
        "avg_validation_loss=sum(validation_loss)/len(validation_loss)\n",
        "avg_validation_accuracy=sum(validation_accuracy)/len(validation_accuracy)\n",
        "\n",
        "print('\\nAverage validation loss = ', avg_validation_loss)\n",
        "print('\\nAverage validation Accuracy = ', avg_validation_accuracy)\n",
        "  "
      ],
      "execution_count": 0,
      "outputs": []
    }
  ]
}