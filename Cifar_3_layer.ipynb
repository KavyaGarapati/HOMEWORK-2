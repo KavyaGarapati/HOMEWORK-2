{
  "nbformat": 4,
  "nbformat_minor": 0,
  "metadata": {
    "colab": {
      "name": "Cifar-3 layer.ipynb",
      "version": "0.3.2",
      "provenance": [],
      "collapsed_sections": [],
      "include_colab_link": true
    },
    "kernelspec": {
      "name": "python3",
      "display_name": "Python 3"
    },
    "accelerator": "GPU"
  },
  "cells": [
    {
      "cell_type": "markdown",
      "metadata": {
        "id": "view-in-github",
        "colab_type": "text"
      },
      "source": [
        "<a href=\"https://colab.research.google.com/github/KavyaGarapati/HOMEWORK-2/blob/master/Cifar_3_layer.ipynb\" target=\"_parent\"><img src=\"https://colab.research.google.com/assets/colab-badge.svg\" alt=\"Open In Colab\"/></a>"
      ]
    },
    {
      "metadata": {
        "id": "7DW0-a9HJ0Qm",
        "colab_type": "code",
        "colab": {}
      },
      "cell_type": "code",
      "source": [
        "import keras\n",
        "import keras\n",
        "from keras.datasets import cifar10\n",
        "from keras.preprocessing.image import ImageDataGenerator\n",
        "from keras.models import Sequential\n",
        "from keras.layers import Dense, Activation, Flatten\n",
        "from keras.layers import Conv2D, MaxPooling2D\n",
        "import os"
      ],
      "execution_count": 0,
      "outputs": []
    },
    {
      "metadata": {
        "id": "bVSZYzCzLkSo",
        "colab_type": "code",
        "colab": {}
      },
      "cell_type": "code",
      "source": [
        "batch_size = 32\n",
        "num_classes = 10\n",
        "epochs = 100\n",
        "num_predictions = 20\n",
        "save_dir = os.path.join(os.getcwd(), 'saved_models')\n",
        "model_name = 'keras_cifar10_trained_model.h5'"
      ],
      "execution_count": 0,
      "outputs": []
    },
    {
      "metadata": {
        "id": "wYnq8g8PLsJe",
        "colab_type": "code",
        "colab": {
          "base_uri": "https://localhost:8080/",
          "height": 68
        },
        "outputId": "68fc313e-572c-44d0-f688-b0c8150896db"
      },
      "cell_type": "code",
      "source": [
        "(x_train, y_train), (x_test, y_test) = cifar10.load_data()\n",
        "print('x_train shape:', x_train.shape)\n",
        "print(x_train.shape[0], 'train samples')\n",
        "print(x_test.shape[0], 'test samples')"
      ],
      "execution_count": 20,
      "outputs": [
        {
          "output_type": "stream",
          "text": [
            "x_train shape: (50000, 32, 32, 3)\n",
            "50000 train samples\n",
            "10000 test samples\n"
          ],
          "name": "stdout"
        }
      ]
    },
    {
      "metadata": {
        "id": "5ka-r5lnODxv",
        "colab_type": "code",
        "colab": {}
      },
      "cell_type": "code",
      "source": [
        "is_converted_categorical = False"
      ],
      "execution_count": 0,
      "outputs": []
    },
    {
      "metadata": {
        "id": "d0vvWRV7OFG0",
        "colab_type": "code",
        "colab": {}
      },
      "cell_type": "code",
      "source": [
        "if(not is_converted_categorical):\n",
        "  y_train = keras.utils.to_categorical(y_train, num_classes)\n",
        "  y_test = keras.utils.to_categorical(y_test, num_classes)\n",
        "  is_converted_categorical = True\n"
      ],
      "execution_count": 0,
      "outputs": []
    },
    {
      "metadata": {
        "id": "KF-2IVdILvjp",
        "colab_type": "code",
        "colab": {
          "base_uri": "https://localhost:8080/",
          "height": 34
        },
        "outputId": "1fcdd598-03a8-4174-efc8-c7dcb0d9d139"
      },
      "cell_type": "code",
      "source": [
        "y_train.shape"
      ],
      "execution_count": 23,
      "outputs": [
        {
          "output_type": "execute_result",
          "data": {
            "text/plain": [
              "(50000, 10)"
            ]
          },
          "metadata": {
            "tags": []
          },
          "execution_count": 23
        }
      ]
    },
    {
      "metadata": {
        "id": "A6wmndTLMQFX",
        "colab_type": "code",
        "colab": {}
      },
      "cell_type": "code",
      "source": [
        "model = Sequential()\n",
        "model.add(Conv2D(32, (3, 3), padding='same',\n",
        "                 input_shape=x_train.shape[1:]))\n",
        "model.add(Activation('relu'))\n",
        "model.add(Conv2D(32, (3, 3)))\n",
        "model.add(Activation('relu'))\n",
        "model.add(MaxPooling2D(pool_size=(2, 2)))\n",
        "model.add(Conv2D(64, (3, 3)))\n",
        "model.add(Activation('relu'))\n",
        "model.add(MaxPooling2D(pool_size=(2, 2)))\n",
        "model.add(Flatten())\n",
        "model.add(Dense(512))\n",
        "model.add(Activation('relu'))\n",
        "model.add(Dense(num_classes))\n",
        "model.add(Activation('softmax'))"
      ],
      "execution_count": 0,
      "outputs": []
    },
    {
      "metadata": {
        "id": "dJz9PlU8MoQe",
        "colab_type": "code",
        "colab": {
          "base_uri": "https://localhost:8080/",
          "height": 34
        },
        "outputId": "99840c4b-ff10-4a07-aa40-eb1c8a227f58"
      },
      "cell_type": "code",
      "source": [
        "x_train.shape[1:]"
      ],
      "execution_count": 25,
      "outputs": [
        {
          "output_type": "execute_result",
          "data": {
            "text/plain": [
              "(32, 32, 3)"
            ]
          },
          "metadata": {
            "tags": []
          },
          "execution_count": 25
        }
      ]
    },
    {
      "metadata": {
        "id": "BODrEcfYMqYc",
        "colab_type": "code",
        "colab": {
          "base_uri": "https://localhost:8080/",
          "height": 578
        },
        "outputId": "4f83ca11-07ae-4b6c-c1a9-5063083f26f3"
      },
      "cell_type": "code",
      "source": [
        "model.summary()"
      ],
      "execution_count": 26,
      "outputs": [
        {
          "output_type": "stream",
          "text": [
            "_________________________________________________________________\n",
            "Layer (type)                 Output Shape              Param #   \n",
            "=================================================================\n",
            "conv2d_4 (Conv2D)            (None, 32, 32, 32)        896       \n",
            "_________________________________________________________________\n",
            "activation_6 (Activation)    (None, 32, 32, 32)        0         \n",
            "_________________________________________________________________\n",
            "conv2d_5 (Conv2D)            (None, 30, 30, 32)        9248      \n",
            "_________________________________________________________________\n",
            "activation_7 (Activation)    (None, 30, 30, 32)        0         \n",
            "_________________________________________________________________\n",
            "max_pooling2d_3 (MaxPooling2 (None, 15, 15, 32)        0         \n",
            "_________________________________________________________________\n",
            "conv2d_6 (Conv2D)            (None, 13, 13, 64)        18496     \n",
            "_________________________________________________________________\n",
            "activation_8 (Activation)    (None, 13, 13, 64)        0         \n",
            "_________________________________________________________________\n",
            "max_pooling2d_4 (MaxPooling2 (None, 6, 6, 64)          0         \n",
            "_________________________________________________________________\n",
            "flatten_2 (Flatten)          (None, 2304)              0         \n",
            "_________________________________________________________________\n",
            "dense_3 (Dense)              (None, 512)               1180160   \n",
            "_________________________________________________________________\n",
            "activation_9 (Activation)    (None, 512)               0         \n",
            "_________________________________________________________________\n",
            "dense_4 (Dense)              (None, 10)                5130      \n",
            "_________________________________________________________________\n",
            "activation_10 (Activation)   (None, 10)                0         \n",
            "=================================================================\n",
            "Total params: 1,213,930\n",
            "Trainable params: 1,213,930\n",
            "Non-trainable params: 0\n",
            "_________________________________________________________________\n"
          ],
          "name": "stdout"
        }
      ]
    },
    {
      "metadata": {
        "id": "gE47Zs41M3EB",
        "colab_type": "code",
        "colab": {}
      },
      "cell_type": "code",
      "source": [
        "opt = keras.optimizers.rmsprop(lr=0.0001, decay=1e-6)\n"
      ],
      "execution_count": 0,
      "outputs": []
    },
    {
      "metadata": {
        "id": "tNZ3QhGLM6_l",
        "colab_type": "code",
        "colab": {}
      },
      "cell_type": "code",
      "source": [
        "model.compile(loss='categorical_crossentropy',\n",
        "              optimizer=opt,\n",
        "              metrics=['accuracy'])"
      ],
      "execution_count": 0,
      "outputs": []
    },
    {
      "metadata": {
        "id": "0yZIU6mYM-e9",
        "colab_type": "code",
        "colab": {}
      },
      "cell_type": "code",
      "source": [
        "x_train = x_train.astype('float32')\n",
        "x_test = x_test.astype('float32')\n",
        "x_train /= 255\n",
        "x_test /= 255"
      ],
      "execution_count": 0,
      "outputs": []
    },
    {
      "metadata": {
        "id": "9h-NQ-zoNCS_",
        "colab_type": "code",
        "colab": {
          "base_uri": "https://localhost:8080/",
          "height": 3451
        },
        "outputId": "17e99fc0-fb60-483b-ef21-3a1eb14ce2f3"
      },
      "cell_type": "code",
      "source": [
        "model.fit(x_train, y_train,\n",
        "              batch_size=batch_size,\n",
        "              epochs=epochs,\n",
        "              validation_data=(x_test, y_test),\n",
        "              shuffle=True)"
      ],
      "execution_count": 30,
      "outputs": [
        {
          "output_type": "stream",
          "text": [
            "Train on 50000 samples, validate on 10000 samples\n",
            "Epoch 1/100\n",
            "50000/50000 [==============================] - 18s 352us/step - loss: 1.6812 - acc: 0.4016 - val_loss: 1.4794 - val_acc: 0.4770\n",
            "Epoch 2/100\n",
            "50000/50000 [==============================] - 17s 342us/step - loss: 1.3549 - acc: 0.5235 - val_loss: 1.2766 - val_acc: 0.5530\n",
            "Epoch 3/100\n",
            "50000/50000 [==============================] - 17s 340us/step - loss: 1.2075 - acc: 0.5797 - val_loss: 1.2558 - val_acc: 0.5567\n",
            "Epoch 4/100\n",
            "50000/50000 [==============================] - 17s 341us/step - loss: 1.1059 - acc: 0.6158 - val_loss: 1.1800 - val_acc: 0.5923\n",
            "Epoch 5/100\n",
            "50000/50000 [==============================] - 17s 339us/step - loss: 1.0261 - acc: 0.6446 - val_loss: 1.0547 - val_acc: 0.6392\n",
            "Epoch 6/100\n",
            "50000/50000 [==============================] - 17s 338us/step - loss: 0.9603 - acc: 0.6690 - val_loss: 0.9860 - val_acc: 0.6535\n",
            "Epoch 7/100\n",
            "50000/50000 [==============================] - 17s 337us/step - loss: 0.9030 - acc: 0.6894 - val_loss: 0.9941 - val_acc: 0.6573\n",
            "Epoch 8/100\n",
            "50000/50000 [==============================] - 17s 340us/step - loss: 0.8495 - acc: 0.7076 - val_loss: 0.9393 - val_acc: 0.6804\n",
            "Epoch 9/100\n",
            "50000/50000 [==============================] - 17s 339us/step - loss: 0.8007 - acc: 0.7267 - val_loss: 1.0365 - val_acc: 0.6424\n",
            "Epoch 10/100\n",
            "50000/50000 [==============================] - 17s 338us/step - loss: 0.7513 - acc: 0.7434 - val_loss: 0.9468 - val_acc: 0.6852\n",
            "Epoch 11/100\n",
            "50000/50000 [==============================] - 17s 337us/step - loss: 0.7047 - acc: 0.7606 - val_loss: 0.8874 - val_acc: 0.6977\n",
            "Epoch 12/100\n",
            "50000/50000 [==============================] - 17s 337us/step - loss: 0.6595 - acc: 0.7750 - val_loss: 0.8507 - val_acc: 0.7131\n",
            "Epoch 13/100\n",
            "50000/50000 [==============================] - 17s 338us/step - loss: 0.6162 - acc: 0.7915 - val_loss: 0.8481 - val_acc: 0.7182\n",
            "Epoch 14/100\n",
            "50000/50000 [==============================] - 17s 339us/step - loss: 0.5722 - acc: 0.8059 - val_loss: 0.8764 - val_acc: 0.7079\n",
            "Epoch 15/100\n",
            "50000/50000 [==============================] - 17s 336us/step - loss: 0.5314 - acc: 0.8209 - val_loss: 0.9154 - val_acc: 0.7015\n",
            "Epoch 16/100\n",
            "50000/50000 [==============================] - 17s 338us/step - loss: 0.4884 - acc: 0.8358 - val_loss: 0.8640 - val_acc: 0.7173\n",
            "Epoch 17/100\n",
            "50000/50000 [==============================] - 17s 337us/step - loss: 0.4471 - acc: 0.8513 - val_loss: 0.8915 - val_acc: 0.7219\n",
            "Epoch 18/100\n",
            "50000/50000 [==============================] - 17s 336us/step - loss: 0.4075 - acc: 0.8637 - val_loss: 0.8715 - val_acc: 0.7235\n",
            "Epoch 19/100\n",
            "50000/50000 [==============================] - 17s 336us/step - loss: 0.3709 - acc: 0.8772 - val_loss: 0.9738 - val_acc: 0.7077\n",
            "Epoch 20/100\n",
            "50000/50000 [==============================] - 17s 338us/step - loss: 0.3320 - acc: 0.8915 - val_loss: 0.9763 - val_acc: 0.7112\n",
            "Epoch 21/100\n",
            "50000/50000 [==============================] - 17s 336us/step - loss: 0.2977 - acc: 0.9029 - val_loss: 1.0062 - val_acc: 0.7165\n",
            "Epoch 22/100\n",
            "50000/50000 [==============================] - 17s 335us/step - loss: 0.2657 - acc: 0.9146 - val_loss: 0.9705 - val_acc: 0.7263\n",
            "Epoch 23/100\n",
            "50000/50000 [==============================] - 17s 335us/step - loss: 0.2327 - acc: 0.9270 - val_loss: 1.0633 - val_acc: 0.7143\n",
            "Epoch 24/100\n",
            "50000/50000 [==============================] - 17s 336us/step - loss: 0.2029 - acc: 0.9360 - val_loss: 1.1513 - val_acc: 0.7095\n",
            "Epoch 25/100\n",
            "50000/50000 [==============================] - 17s 335us/step - loss: 0.1745 - acc: 0.9455 - val_loss: 1.2508 - val_acc: 0.7016\n",
            "Epoch 26/100\n",
            "50000/50000 [==============================] - 17s 336us/step - loss: 0.1501 - acc: 0.9544 - val_loss: 1.1924 - val_acc: 0.7229\n",
            "Epoch 27/100\n",
            "50000/50000 [==============================] - 17s 336us/step - loss: 0.1272 - acc: 0.9623 - val_loss: 1.2802 - val_acc: 0.7177\n",
            "Epoch 28/100\n",
            "50000/50000 [==============================] - 17s 336us/step - loss: 0.1077 - acc: 0.9683 - val_loss: 1.3495 - val_acc: 0.7182\n",
            "Epoch 29/100\n",
            "50000/50000 [==============================] - 17s 335us/step - loss: 0.0909 - acc: 0.9737 - val_loss: 1.3909 - val_acc: 0.7170\n",
            "Epoch 30/100\n",
            "50000/50000 [==============================] - 17s 336us/step - loss: 0.0755 - acc: 0.9788 - val_loss: 1.4443 - val_acc: 0.7160\n",
            "Epoch 31/100\n",
            "50000/50000 [==============================] - 17s 336us/step - loss: 0.0645 - acc: 0.9821 - val_loss: 1.5006 - val_acc: 0.7130\n",
            "Epoch 32/100\n",
            "50000/50000 [==============================] - 17s 334us/step - loss: 0.0538 - acc: 0.9855 - val_loss: 1.6366 - val_acc: 0.7094\n",
            "Epoch 33/100\n",
            "50000/50000 [==============================] - 17s 334us/step - loss: 0.0451 - acc: 0.9880 - val_loss: 1.5907 - val_acc: 0.7201\n",
            "Epoch 34/100\n",
            "50000/50000 [==============================] - 17s 336us/step - loss: 0.0389 - acc: 0.9899 - val_loss: 1.7916 - val_acc: 0.7043\n",
            "Epoch 35/100\n",
            "50000/50000 [==============================] - 17s 335us/step - loss: 0.0336 - acc: 0.9907 - val_loss: 1.7928 - val_acc: 0.7112\n",
            "Epoch 36/100\n",
            "50000/50000 [==============================] - 17s 335us/step - loss: 0.0287 - acc: 0.9926 - val_loss: 1.8033 - val_acc: 0.7145\n",
            "Epoch 37/100\n",
            "50000/50000 [==============================] - 17s 334us/step - loss: 0.0258 - acc: 0.9932 - val_loss: 1.8050 - val_acc: 0.7168\n",
            "Epoch 38/100\n",
            "50000/50000 [==============================] - 17s 335us/step - loss: 0.0227 - acc: 0.9938 - val_loss: 1.8903 - val_acc: 0.7103\n",
            "Epoch 39/100\n",
            "50000/50000 [==============================] - 17s 341us/step - loss: 0.0195 - acc: 0.9948 - val_loss: 1.9544 - val_acc: 0.7119\n",
            "Epoch 40/100\n",
            "50000/50000 [==============================] - 17s 336us/step - loss: 0.0179 - acc: 0.9949 - val_loss: 1.9516 - val_acc: 0.7179\n",
            "Epoch 41/100\n",
            "50000/50000 [==============================] - 17s 335us/step - loss: 0.0172 - acc: 0.9956 - val_loss: 2.0136 - val_acc: 0.7166\n",
            "Epoch 42/100\n",
            "50000/50000 [==============================] - 17s 335us/step - loss: 0.0153 - acc: 0.9960 - val_loss: 2.0246 - val_acc: 0.7141\n",
            "Epoch 43/100\n",
            "50000/50000 [==============================] - 17s 335us/step - loss: 0.0141 - acc: 0.9963 - val_loss: 2.0914 - val_acc: 0.7169\n",
            "Epoch 44/100\n",
            "50000/50000 [==============================] - 17s 336us/step - loss: 0.0133 - acc: 0.9961 - val_loss: 2.0862 - val_acc: 0.7159\n",
            "Epoch 45/100\n",
            "50000/50000 [==============================] - 17s 337us/step - loss: 0.0130 - acc: 0.9962 - val_loss: 2.1106 - val_acc: 0.7166\n",
            "Epoch 46/100\n",
            "50000/50000 [==============================] - 17s 336us/step - loss: 0.0117 - acc: 0.9967 - val_loss: 2.1842 - val_acc: 0.7131\n",
            "Epoch 47/100\n",
            "50000/50000 [==============================] - 17s 335us/step - loss: 0.0110 - acc: 0.9967 - val_loss: 2.2088 - val_acc: 0.7122\n",
            "Epoch 48/100\n",
            "50000/50000 [==============================] - 17s 336us/step - loss: 0.0120 - acc: 0.9968 - val_loss: 2.2498 - val_acc: 0.7157\n",
            "Epoch 49/100\n",
            "50000/50000 [==============================] - 17s 334us/step - loss: 0.0101 - acc: 0.9969 - val_loss: 2.3380 - val_acc: 0.7107\n",
            "Epoch 50/100\n",
            "50000/50000 [==============================] - 17s 334us/step - loss: 0.0100 - acc: 0.9972 - val_loss: 2.3128 - val_acc: 0.7109\n",
            "Epoch 51/100\n",
            "50000/50000 [==============================] - 17s 335us/step - loss: 0.0094 - acc: 0.9975 - val_loss: 2.3403 - val_acc: 0.7128\n",
            "Epoch 52/100\n",
            "50000/50000 [==============================] - 17s 338us/step - loss: 0.0093 - acc: 0.9974 - val_loss: 2.3515 - val_acc: 0.7171\n",
            "Epoch 53/100\n",
            "50000/50000 [==============================] - 17s 336us/step - loss: 0.0085 - acc: 0.9977 - val_loss: 2.3598 - val_acc: 0.7127\n",
            "Epoch 54/100\n",
            "50000/50000 [==============================] - 17s 335us/step - loss: 0.0087 - acc: 0.9973 - val_loss: 2.3607 - val_acc: 0.7153\n",
            "Epoch 55/100\n",
            "50000/50000 [==============================] - 17s 335us/step - loss: 0.0091 - acc: 0.9972 - val_loss: 2.4622 - val_acc: 0.7147\n",
            "Epoch 56/100\n",
            "50000/50000 [==============================] - 17s 336us/step - loss: 0.0084 - acc: 0.9975 - val_loss: 2.4610 - val_acc: 0.7087\n",
            "Epoch 57/100\n",
            "50000/50000 [==============================] - 17s 339us/step - loss: 0.0081 - acc: 0.9974 - val_loss: 2.4505 - val_acc: 0.7174\n",
            "Epoch 58/100\n",
            "50000/50000 [==============================] - 17s 337us/step - loss: 0.0077 - acc: 0.9979 - val_loss: 2.4882 - val_acc: 0.7099\n",
            "Epoch 59/100\n",
            "50000/50000 [==============================] - 17s 334us/step - loss: 0.0079 - acc: 0.9977 - val_loss: 2.4449 - val_acc: 0.7149\n",
            "Epoch 60/100\n",
            "50000/50000 [==============================] - 17s 337us/step - loss: 0.0074 - acc: 0.9978 - val_loss: 2.4523 - val_acc: 0.7141\n",
            "Epoch 61/100\n",
            "50000/50000 [==============================] - 17s 336us/step - loss: 0.0071 - acc: 0.9980 - val_loss: 2.6204 - val_acc: 0.7045\n",
            "Epoch 62/100\n",
            "50000/50000 [==============================] - 17s 337us/step - loss: 0.0065 - acc: 0.9981 - val_loss: 2.5060 - val_acc: 0.7156\n",
            "Epoch 63/100\n",
            "50000/50000 [==============================] - 17s 336us/step - loss: 0.0078 - acc: 0.9975 - val_loss: 2.5528 - val_acc: 0.7087\n",
            "Epoch 64/100\n",
            "50000/50000 [==============================] - 17s 336us/step - loss: 0.0073 - acc: 0.9976 - val_loss: 2.6422 - val_acc: 0.7071\n",
            "Epoch 65/100\n",
            "50000/50000 [==============================] - 17s 336us/step - loss: 0.0074 - acc: 0.9976 - val_loss: 2.5356 - val_acc: 0.7159\n",
            "Epoch 66/100\n",
            "50000/50000 [==============================] - 17s 337us/step - loss: 0.0069 - acc: 0.9980 - val_loss: 2.6796 - val_acc: 0.7082\n",
            "Epoch 67/100\n",
            "50000/50000 [==============================] - 17s 336us/step - loss: 0.0076 - acc: 0.9979 - val_loss: 2.6125 - val_acc: 0.7090\n",
            "Epoch 68/100\n",
            "50000/50000 [==============================] - 17s 340us/step - loss: 0.0067 - acc: 0.9977 - val_loss: 2.6231 - val_acc: 0.7130\n",
            "Epoch 69/100\n",
            "50000/50000 [==============================] - 17s 342us/step - loss: 0.0070 - acc: 0.9978 - val_loss: 2.6403 - val_acc: 0.7140\n",
            "Epoch 70/100\n",
            "50000/50000 [==============================] - 17s 340us/step - loss: 0.0065 - acc: 0.9980 - val_loss: 2.6045 - val_acc: 0.7157\n",
            "Epoch 71/100\n",
            "50000/50000 [==============================] - 17s 338us/step - loss: 0.0059 - acc: 0.9982 - val_loss: 2.7667 - val_acc: 0.7028\n",
            "Epoch 72/100\n",
            "50000/50000 [==============================] - 17s 338us/step - loss: 0.0067 - acc: 0.9981 - val_loss: 2.6432 - val_acc: 0.7124\n",
            "Epoch 73/100\n",
            "50000/50000 [==============================] - 17s 340us/step - loss: 0.0051 - acc: 0.9984 - val_loss: 2.7996 - val_acc: 0.7088\n",
            "Epoch 74/100\n",
            "50000/50000 [==============================] - 17s 342us/step - loss: 0.0062 - acc: 0.9980 - val_loss: 2.6660 - val_acc: 0.7144\n",
            "Epoch 75/100\n",
            "50000/50000 [==============================] - 17s 336us/step - loss: 0.0060 - acc: 0.9980 - val_loss: 2.6709 - val_acc: 0.7142\n",
            "Epoch 76/100\n",
            "50000/50000 [==============================] - 17s 338us/step - loss: 0.0050 - acc: 0.9984 - val_loss: 2.7118 - val_acc: 0.7130\n",
            "Epoch 77/100\n",
            "50000/50000 [==============================] - 17s 337us/step - loss: 0.0058 - acc: 0.9982 - val_loss: 2.7658 - val_acc: 0.7052\n",
            "Epoch 78/100\n",
            "50000/50000 [==============================] - 17s 337us/step - loss: 0.0052 - acc: 0.9986 - val_loss: 2.8234 - val_acc: 0.7074\n",
            "Epoch 79/100\n",
            "50000/50000 [==============================] - 17s 339us/step - loss: 0.0045 - acc: 0.9984 - val_loss: 2.7553 - val_acc: 0.7111\n",
            "Epoch 80/100\n",
            "50000/50000 [==============================] - 17s 341us/step - loss: 0.0057 - acc: 0.9979 - val_loss: 2.8495 - val_acc: 0.7125\n",
            "Epoch 81/100\n",
            "50000/50000 [==============================] - 17s 342us/step - loss: 0.0051 - acc: 0.9984 - val_loss: 2.7628 - val_acc: 0.7070\n",
            "Epoch 82/100\n",
            "50000/50000 [==============================] - 17s 338us/step - loss: 0.0057 - acc: 0.9983 - val_loss: 2.8046 - val_acc: 0.7143\n",
            "Epoch 83/100\n",
            "50000/50000 [==============================] - 17s 336us/step - loss: 0.0053 - acc: 0.9981 - val_loss: 2.7533 - val_acc: 0.7152\n",
            "Epoch 84/100\n",
            "50000/50000 [==============================] - 17s 334us/step - loss: 0.0054 - acc: 0.9982 - val_loss: 2.9048 - val_acc: 0.7018\n",
            "Epoch 85/100\n",
            "50000/50000 [==============================] - 17s 336us/step - loss: 0.0043 - acc: 0.9987 - val_loss: 2.7546 - val_acc: 0.7195\n",
            "Epoch 86/100\n",
            "50000/50000 [==============================] - 17s 334us/step - loss: 0.0059 - acc: 0.9982 - val_loss: 2.8152 - val_acc: 0.7193\n",
            "Epoch 87/100\n",
            "50000/50000 [==============================] - 17s 334us/step - loss: 0.0050 - acc: 0.9986 - val_loss: 2.7857 - val_acc: 0.7153\n",
            "Epoch 88/100\n",
            "50000/50000 [==============================] - 17s 335us/step - loss: 0.0046 - acc: 0.9985 - val_loss: 2.9717 - val_acc: 0.7000\n",
            "Epoch 89/100\n",
            "50000/50000 [==============================] - 17s 334us/step - loss: 0.0052 - acc: 0.9986 - val_loss: 2.8511 - val_acc: 0.7153\n",
            "Epoch 90/100\n",
            "50000/50000 [==============================] - 17s 334us/step - loss: 0.0048 - acc: 0.9986 - val_loss: 2.9073 - val_acc: 0.7124\n",
            "Epoch 91/100\n",
            "50000/50000 [==============================] - 17s 334us/step - loss: 0.0064 - acc: 0.9978 - val_loss: 2.8551 - val_acc: 0.7154\n",
            "Epoch 92/100\n",
            "50000/50000 [==============================] - 17s 334us/step - loss: 0.0045 - acc: 0.9987 - val_loss: 2.8285 - val_acc: 0.7193\n",
            "Epoch 93/100\n",
            "50000/50000 [==============================] - 17s 333us/step - loss: 0.0063 - acc: 0.9980 - val_loss: 2.9900 - val_acc: 0.7018\n",
            "Epoch 94/100\n",
            "50000/50000 [==============================] - 17s 335us/step - loss: 0.0041 - acc: 0.9986 - val_loss: 2.9320 - val_acc: 0.7080\n",
            "Epoch 95/100\n",
            "50000/50000 [==============================] - 17s 333us/step - loss: 0.0051 - acc: 0.9985 - val_loss: 2.8687 - val_acc: 0.7164\n",
            "Epoch 96/100\n",
            "50000/50000 [==============================] - 17s 332us/step - loss: 0.0056 - acc: 0.9982 - val_loss: 2.8825 - val_acc: 0.7091\n",
            "Epoch 97/100\n",
            "50000/50000 [==============================] - 17s 332us/step - loss: 0.0054 - acc: 0.9983 - val_loss: 2.9217 - val_acc: 0.7072\n",
            "Epoch 98/100\n",
            "50000/50000 [==============================] - 17s 333us/step - loss: 0.0055 - acc: 0.9983 - val_loss: 2.8538 - val_acc: 0.7166\n",
            "Epoch 99/100\n",
            "50000/50000 [==============================] - 17s 333us/step - loss: 0.0052 - acc: 0.9983 - val_loss: 2.8737 - val_acc: 0.7120\n",
            "Epoch 100/100\n",
            "50000/50000 [==============================] - 17s 333us/step - loss: 0.0072 - acc: 0.9980 - val_loss: 2.8536 - val_acc: 0.7160\n"
          ],
          "name": "stdout"
        },
        {
          "output_type": "execute_result",
          "data": {
            "text/plain": [
              "<keras.callbacks.History at 0x7f8a3a649630>"
            ]
          },
          "metadata": {
            "tags": []
          },
          "execution_count": 30
        }
      ]
    }
  ]
}