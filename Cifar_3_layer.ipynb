{
  "nbformat": 4,
  "nbformat_minor": 0,
  "metadata": {
    "colab": {
      "name": "Cifar-3 layer.ipynb",
      "version": "0.3.2",
      "provenance": [],
      "collapsed_sections": [],
      "include_colab_link": true
    },
    "kernelspec": {
      "name": "python3",
      "display_name": "Python 3"
    },
    "accelerator": "GPU"
  },
  "cells": [
    {
      "cell_type": "markdown",
      "metadata": {
        "id": "view-in-github",
        "colab_type": "text"
      },
      "source": [
        "<a href=\"https://colab.research.google.com/github/KavyaGarapati/HOMEWORK-2/blob/master/Cifar_3_layer.ipynb\" target=\"_parent\"><img src=\"https://colab.research.google.com/assets/colab-badge.svg\" alt=\"Open In Colab\"/></a>"
      ]
    },
    {
      "metadata": {
        "id": "7DW0-a9HJ0Qm",
        "colab_type": "code",
        "colab": {
          "base_uri": "https://localhost:8080/",
          "height": 34
        },
        "outputId": "36dddca1-dd74-43e6-b3a3-229572a53e46"
      },
      "cell_type": "code",
      "source": [
        "import keras\n",
        "import keras\n",
        "from keras.datasets import cifar10\n",
        "from keras.preprocessing.image import ImageDataGenerator\n",
        "from keras.models import Sequential\n",
        "from keras.layers import Dense, Activation, Flatten\n",
        "from keras.layers import Conv2D, MaxPooling2D\n",
        "import os"
      ],
      "execution_count": 1,
      "outputs": [
        {
          "output_type": "stream",
          "text": [
            "Using TensorFlow backend.\n"
          ],
          "name": "stderr"
        }
      ]
    },
    {
      "metadata": {
        "id": "bVSZYzCzLkSo",
        "colab_type": "code",
        "colab": {}
      },
      "cell_type": "code",
      "source": [
        "batch_size = 32\n",
        "num_classes = 10\n",
        "epochs = 200\n",
        "num_predictions = 20\n",
        "save_dir = os.path.join(os.getcwd(), 'saved_models')\n",
        "model_name = 'keras_cifar10_trained_model.h5'"
      ],
      "execution_count": 0,
      "outputs": []
    },
    {
      "metadata": {
        "id": "wYnq8g8PLsJe",
        "colab_type": "code",
        "outputId": "8c8a885b-794e-415f-94c6-c9b709734fb0",
        "colab": {
          "base_uri": "https://localhost:8080/",
          "height": 102
        }
      },
      "cell_type": "code",
      "source": [
        "(x_train, y_train), (x_test, y_test) = cifar10.load_data()\n",
        "print('x_train shape:', x_train.shape)\n",
        "print(x_train.shape[0], 'train samples')\n",
        "print(x_test.shape[0], 'test samples')"
      ],
      "execution_count": 3,
      "outputs": [
        {
          "output_type": "stream",
          "text": [
            "Downloading data from https://www.cs.toronto.edu/~kriz/cifar-10-python.tar.gz\n",
            "170500096/170498071 [==============================] - 57s 0us/step\n",
            "x_train shape: (50000, 32, 32, 3)\n",
            "50000 train samples\n",
            "10000 test samples\n"
          ],
          "name": "stdout"
        }
      ]
    },
    {
      "metadata": {
        "id": "5ka-r5lnODxv",
        "colab_type": "code",
        "colab": {}
      },
      "cell_type": "code",
      "source": [
        "is_converted_categorical = False"
      ],
      "execution_count": 0,
      "outputs": []
    },
    {
      "metadata": {
        "id": "d0vvWRV7OFG0",
        "colab_type": "code",
        "colab": {}
      },
      "cell_type": "code",
      "source": [
        "if(not is_converted_categorical):\n",
        "  y_train = keras.utils.to_categorical(y_train, num_classes)\n",
        "  y_test = keras.utils.to_categorical(y_test, num_classes)\n",
        "  is_converted_categorical = True\n"
      ],
      "execution_count": 0,
      "outputs": []
    },
    {
      "metadata": {
        "id": "KF-2IVdILvjp",
        "colab_type": "code",
        "outputId": "8814c0f2-f3ab-403a-a72d-3e1fa86ccfb8",
        "colab": {
          "base_uri": "https://localhost:8080/",
          "height": 34
        }
      },
      "cell_type": "code",
      "source": [
        "y_train.shape"
      ],
      "execution_count": 6,
      "outputs": [
        {
          "output_type": "execute_result",
          "data": {
            "text/plain": [
              "(50000, 10)"
            ]
          },
          "metadata": {
            "tags": []
          },
          "execution_count": 6
        }
      ]
    },
    {
      "metadata": {
        "id": "A6wmndTLMQFX",
        "colab_type": "code",
        "colab": {
          "base_uri": "https://localhost:8080/",
          "height": 88
        },
        "outputId": "12f78c4d-2b77-499a-c601-5bd67aa6c529"
      },
      "cell_type": "code",
      "source": [
        "model = Sequential()\n",
        "model.add(Conv2D(32, (3, 3), padding='same',\n",
        "                 input_shape=x_train.shape[1:]))\n",
        "model.add(Activation('relu'))\n",
        "model.add(Conv2D(32, (3, 3)))\n",
        "model.add(Activation('relu'))\n",
        "model.add(MaxPooling2D(pool_size=(2, 2)))\n",
        "model.add(Conv2D(64, (3, 3)))\n",
        "model.add(Activation('relu'))\n",
        "model.add(MaxPooling2D(pool_size=(2, 2)))\n",
        "model.add(Flatten())\n",
        "model.add(Dense(512))\n",
        "model.add(Activation('relu'))\n",
        "model.add(Dense(num_classes))\n",
        "model.add(Activation('softmax'))\n",
        "\n"
      ],
      "execution_count": 7,
      "outputs": [
        {
          "output_type": "stream",
          "text": [
            "WARNING:tensorflow:From /usr/local/lib/python3.6/dist-packages/tensorflow/python/framework/op_def_library.py:263: colocate_with (from tensorflow.python.framework.ops) is deprecated and will be removed in a future version.\n",
            "Instructions for updating:\n",
            "Colocations handled automatically by placer.\n"
          ],
          "name": "stdout"
        }
      ]
    },
    {
      "metadata": {
        "id": "dJz9PlU8MoQe",
        "colab_type": "code",
        "outputId": "343c275d-4623-4e68-b08b-267846c10f84",
        "colab": {
          "base_uri": "https://localhost:8080/",
          "height": 34
        }
      },
      "cell_type": "code",
      "source": [
        "x_train.shape[1:]"
      ],
      "execution_count": 8,
      "outputs": [
        {
          "output_type": "execute_result",
          "data": {
            "text/plain": [
              "(32, 32, 3)"
            ]
          },
          "metadata": {
            "tags": []
          },
          "execution_count": 8
        }
      ]
    },
    {
      "metadata": {
        "id": "BODrEcfYMqYc",
        "colab_type": "code",
        "outputId": "1de97422-8384-448f-d92d-d9f5b7ec413b",
        "colab": {
          "base_uri": "https://localhost:8080/",
          "height": 578
        }
      },
      "cell_type": "code",
      "source": [
        "model.summary()"
      ],
      "execution_count": 9,
      "outputs": [
        {
          "output_type": "stream",
          "text": [
            "_________________________________________________________________\n",
            "Layer (type)                 Output Shape              Param #   \n",
            "=================================================================\n",
            "conv2d_1 (Conv2D)            (None, 32, 32, 32)        896       \n",
            "_________________________________________________________________\n",
            "activation_1 (Activation)    (None, 32, 32, 32)        0         \n",
            "_________________________________________________________________\n",
            "conv2d_2 (Conv2D)            (None, 30, 30, 32)        9248      \n",
            "_________________________________________________________________\n",
            "activation_2 (Activation)    (None, 30, 30, 32)        0         \n",
            "_________________________________________________________________\n",
            "max_pooling2d_1 (MaxPooling2 (None, 15, 15, 32)        0         \n",
            "_________________________________________________________________\n",
            "conv2d_3 (Conv2D)            (None, 13, 13, 64)        18496     \n",
            "_________________________________________________________________\n",
            "activation_3 (Activation)    (None, 13, 13, 64)        0         \n",
            "_________________________________________________________________\n",
            "max_pooling2d_2 (MaxPooling2 (None, 6, 6, 64)          0         \n",
            "_________________________________________________________________\n",
            "flatten_1 (Flatten)          (None, 2304)              0         \n",
            "_________________________________________________________________\n",
            "dense_1 (Dense)              (None, 512)               1180160   \n",
            "_________________________________________________________________\n",
            "activation_4 (Activation)    (None, 512)               0         \n",
            "_________________________________________________________________\n",
            "dense_2 (Dense)              (None, 10)                5130      \n",
            "_________________________________________________________________\n",
            "activation_5 (Activation)    (None, 10)                0         \n",
            "=================================================================\n",
            "Total params: 1,213,930\n",
            "Trainable params: 1,213,930\n",
            "Non-trainable params: 0\n",
            "_________________________________________________________________\n"
          ],
          "name": "stdout"
        }
      ]
    },
    {
      "metadata": {
        "id": "gE47Zs41M3EB",
        "colab_type": "code",
        "colab": {}
      },
      "cell_type": "code",
      "source": [
        "opt = keras.optimizers.rmsprop(lr=0.0001, decay=1e-6)\n"
      ],
      "execution_count": 0,
      "outputs": []
    },
    {
      "metadata": {
        "id": "tNZ3QhGLM6_l",
        "colab_type": "code",
        "colab": {}
      },
      "cell_type": "code",
      "source": [
        "model.compile(loss='categorical_crossentropy',\n",
        "              optimizer=opt,\n",
        "              metrics=['accuracy'])"
      ],
      "execution_count": 0,
      "outputs": []
    },
    {
      "metadata": {
        "id": "0yZIU6mYM-e9",
        "colab_type": "code",
        "colab": {}
      },
      "cell_type": "code",
      "source": [
        "x_train = x_train.astype('float32')\n",
        "x_test = x_test.astype('float32')\n",
        "x_train /= 255\n",
        "x_test /= 255"
      ],
      "execution_count": 0,
      "outputs": []
    },
    {
      "metadata": {
        "id": "9h-NQ-zoNCS_",
        "colab_type": "code",
        "outputId": "fa301350-f06a-4e0d-de2a-a3e35f95a17e",
        "colab": {
          "base_uri": "https://localhost:8080/",
          "height": 6922
        }
      },
      "cell_type": "code",
      "source": [
        "model.fit(x_train, y_train,\n",
        "              batch_size=batch_size,\n",
        "              epochs=epochs,\n",
        "              validation_data=(x_test, y_test),\n",
        "              shuffle=True)"
      ],
      "execution_count": 13,
      "outputs": [
        {
          "output_type": "stream",
          "text": [
            "WARNING:tensorflow:From /usr/local/lib/python3.6/dist-packages/tensorflow/python/ops/math_ops.py:3066: to_int32 (from tensorflow.python.ops.math_ops) is deprecated and will be removed in a future version.\n",
            "Instructions for updating:\n",
            "Use tf.cast instead.\n",
            "Train on 50000 samples, validate on 10000 samples\n",
            "Epoch 1/200\n",
            "50000/50000 [==============================] - 21s 425us/step - loss: 1.6578 - acc: 0.4051 - val_loss: 1.4616 - val_acc: 0.4755\n",
            "Epoch 2/200\n",
            "50000/50000 [==============================] - 17s 331us/step - loss: 1.3420 - acc: 0.5266 - val_loss: 1.3398 - val_acc: 0.5320\n",
            "Epoch 3/200\n",
            "50000/50000 [==============================] - 16s 324us/step - loss: 1.2079 - acc: 0.5774 - val_loss: 1.1915 - val_acc: 0.5763\n",
            "Epoch 4/200\n",
            "50000/50000 [==============================] - 16s 327us/step - loss: 1.1072 - acc: 0.6134 - val_loss: 1.1485 - val_acc: 0.5890\n",
            "Epoch 5/200\n",
            "50000/50000 [==============================] - 16s 328us/step - loss: 1.0273 - acc: 0.6438 - val_loss: 1.0240 - val_acc: 0.6460\n",
            "Epoch 6/200\n",
            "50000/50000 [==============================] - 16s 325us/step - loss: 0.9638 - acc: 0.6643 - val_loss: 1.0032 - val_acc: 0.6551\n",
            "Epoch 7/200\n",
            "50000/50000 [==============================] - 16s 325us/step - loss: 0.9075 - acc: 0.6873 - val_loss: 0.9613 - val_acc: 0.6694\n",
            "Epoch 8/200\n",
            "50000/50000 [==============================] - 16s 325us/step - loss: 0.8583 - acc: 0.7047 - val_loss: 0.9657 - val_acc: 0.6677\n",
            "Epoch 9/200\n",
            "50000/50000 [==============================] - 16s 324us/step - loss: 0.8114 - acc: 0.7214 - val_loss: 0.9381 - val_acc: 0.6756\n",
            "Epoch 10/200\n",
            "50000/50000 [==============================] - 16s 325us/step - loss: 0.7683 - acc: 0.7372 - val_loss: 0.9163 - val_acc: 0.6870\n",
            "Epoch 11/200\n",
            "50000/50000 [==============================] - 16s 324us/step - loss: 0.7258 - acc: 0.7522 - val_loss: 0.9695 - val_acc: 0.6754\n",
            "Epoch 12/200\n",
            "50000/50000 [==============================] - 16s 324us/step - loss: 0.6834 - acc: 0.7662 - val_loss: 0.8756 - val_acc: 0.7004\n",
            "Epoch 13/200\n",
            "50000/50000 [==============================] - 16s 324us/step - loss: 0.6447 - acc: 0.7795 - val_loss: 0.8908 - val_acc: 0.7000\n",
            "Epoch 14/200\n",
            "50000/50000 [==============================] - 16s 324us/step - loss: 0.6039 - acc: 0.7951 - val_loss: 0.8632 - val_acc: 0.7133\n",
            "Epoch 15/200\n",
            "50000/50000 [==============================] - 16s 324us/step - loss: 0.5643 - acc: 0.8090 - val_loss: 0.8848 - val_acc: 0.7067\n",
            "Epoch 16/200\n",
            "50000/50000 [==============================] - 16s 324us/step - loss: 0.5252 - acc: 0.8227 - val_loss: 0.8954 - val_acc: 0.7075\n",
            "Epoch 17/200\n",
            "50000/50000 [==============================] - 16s 323us/step - loss: 0.4857 - acc: 0.8382 - val_loss: 0.8771 - val_acc: 0.7091\n",
            "Epoch 18/200\n",
            "50000/50000 [==============================] - 16s 324us/step - loss: 0.4503 - acc: 0.8497 - val_loss: 0.8865 - val_acc: 0.7173\n",
            "Epoch 19/200\n",
            "50000/50000 [==============================] - 16s 322us/step - loss: 0.4150 - acc: 0.8625 - val_loss: 0.8909 - val_acc: 0.7202\n",
            "Epoch 20/200\n",
            "50000/50000 [==============================] - 16s 316us/step - loss: 0.3784 - acc: 0.8754 - val_loss: 0.9482 - val_acc: 0.7090\n",
            "Epoch 21/200\n",
            "50000/50000 [==============================] - 16s 319us/step - loss: 0.3453 - acc: 0.8855 - val_loss: 0.9931 - val_acc: 0.7086\n",
            "Epoch 22/200\n",
            "50000/50000 [==============================] - 16s 316us/step - loss: 0.3122 - acc: 0.8990 - val_loss: 0.9356 - val_acc: 0.7229\n",
            "Epoch 23/200\n",
            "50000/50000 [==============================] - 16s 319us/step - loss: 0.2803 - acc: 0.9086 - val_loss: 1.0057 - val_acc: 0.7141\n",
            "Epoch 24/200\n",
            "50000/50000 [==============================] - 16s 318us/step - loss: 0.2484 - acc: 0.9215 - val_loss: 1.0728 - val_acc: 0.7110\n",
            "Epoch 25/200\n",
            "50000/50000 [==============================] - 16s 316us/step - loss: 0.2187 - acc: 0.9305 - val_loss: 1.1090 - val_acc: 0.7118\n",
            "Epoch 26/200\n",
            "50000/50000 [==============================] - 16s 317us/step - loss: 0.1930 - acc: 0.9404 - val_loss: 1.0861 - val_acc: 0.7189\n",
            "Epoch 27/200\n",
            "50000/50000 [==============================] - 16s 318us/step - loss: 0.1698 - acc: 0.9469 - val_loss: 1.1182 - val_acc: 0.7214\n",
            "Epoch 28/200\n",
            "50000/50000 [==============================] - 16s 316us/step - loss: 0.1481 - acc: 0.9542 - val_loss: 1.3234 - val_acc: 0.6999\n",
            "Epoch 29/200\n",
            "50000/50000 [==============================] - 16s 316us/step - loss: 0.1267 - acc: 0.9622 - val_loss: 1.3175 - val_acc: 0.7064\n",
            "Epoch 30/200\n",
            "50000/50000 [==============================] - 16s 318us/step - loss: 0.1081 - acc: 0.9693 - val_loss: 1.2808 - val_acc: 0.7208\n",
            "Epoch 31/200\n",
            "50000/50000 [==============================] - 16s 317us/step - loss: 0.0937 - acc: 0.9722 - val_loss: 1.5514 - val_acc: 0.6850\n",
            "Epoch 32/200\n",
            "50000/50000 [==============================] - 16s 318us/step - loss: 0.0801 - acc: 0.9773 - val_loss: 1.3909 - val_acc: 0.7203\n",
            "Epoch 33/200\n",
            "50000/50000 [==============================] - 16s 316us/step - loss: 0.0678 - acc: 0.9811 - val_loss: 1.5424 - val_acc: 0.7021\n",
            "Epoch 34/200\n",
            "50000/50000 [==============================] - 16s 317us/step - loss: 0.0584 - acc: 0.9841 - val_loss: 1.5170 - val_acc: 0.7094\n",
            "Epoch 35/200\n",
            "50000/50000 [==============================] - 16s 317us/step - loss: 0.0504 - acc: 0.9864 - val_loss: 1.6041 - val_acc: 0.7148\n",
            "Epoch 36/200\n",
            "50000/50000 [==============================] - 16s 316us/step - loss: 0.0421 - acc: 0.9890 - val_loss: 1.7470 - val_acc: 0.7043\n",
            "Epoch 37/200\n",
            "50000/50000 [==============================] - 16s 318us/step - loss: 0.0373 - acc: 0.9905 - val_loss: 1.6863 - val_acc: 0.7137\n",
            "Epoch 38/200\n",
            "50000/50000 [==============================] - 16s 319us/step - loss: 0.0328 - acc: 0.9917 - val_loss: 1.7955 - val_acc: 0.7136\n",
            "Epoch 39/200\n",
            "50000/50000 [==============================] - 16s 318us/step - loss: 0.0288 - acc: 0.9927 - val_loss: 1.9405 - val_acc: 0.6951\n",
            "Epoch 40/200\n",
            "50000/50000 [==============================] - 16s 319us/step - loss: 0.0274 - acc: 0.9926 - val_loss: 1.9521 - val_acc: 0.7012\n",
            "Epoch 41/200\n",
            "50000/50000 [==============================] - 16s 317us/step - loss: 0.0236 - acc: 0.9938 - val_loss: 1.8531 - val_acc: 0.7128\n",
            "Epoch 42/200\n",
            "50000/50000 [==============================] - 16s 316us/step - loss: 0.0216 - acc: 0.9943 - val_loss: 1.8975 - val_acc: 0.7162\n",
            "Epoch 43/200\n",
            "50000/50000 [==============================] - 16s 318us/step - loss: 0.0200 - acc: 0.9945 - val_loss: 1.9605 - val_acc: 0.7180\n",
            "Epoch 44/200\n",
            "50000/50000 [==============================] - 16s 316us/step - loss: 0.0187 - acc: 0.9948 - val_loss: 1.9838 - val_acc: 0.7162\n",
            "Epoch 45/200\n",
            "50000/50000 [==============================] - 16s 317us/step - loss: 0.0178 - acc: 0.9951 - val_loss: 2.0067 - val_acc: 0.7176\n",
            "Epoch 46/200\n",
            "50000/50000 [==============================] - 16s 317us/step - loss: 0.0153 - acc: 0.9960 - val_loss: 2.1487 - val_acc: 0.7103\n",
            "Epoch 47/200\n",
            "50000/50000 [==============================] - 16s 317us/step - loss: 0.0151 - acc: 0.9956 - val_loss: 2.0993 - val_acc: 0.7148\n",
            "Epoch 48/200\n",
            "50000/50000 [==============================] - 16s 316us/step - loss: 0.0142 - acc: 0.9962 - val_loss: 2.2284 - val_acc: 0.6976\n",
            "Epoch 49/200\n",
            "50000/50000 [==============================] - 16s 317us/step - loss: 0.0144 - acc: 0.9960 - val_loss: 2.1389 - val_acc: 0.7158\n",
            "Epoch 50/200\n",
            "50000/50000 [==============================] - 16s 318us/step - loss: 0.0129 - acc: 0.9964 - val_loss: 2.1841 - val_acc: 0.7155\n",
            "Epoch 51/200\n",
            "50000/50000 [==============================] - 16s 318us/step - loss: 0.0116 - acc: 0.9965 - val_loss: 2.1757 - val_acc: 0.7163\n",
            "Epoch 52/200\n",
            "50000/50000 [==============================] - 16s 316us/step - loss: 0.0111 - acc: 0.9968 - val_loss: 2.2300 - val_acc: 0.7132\n",
            "Epoch 53/200\n",
            "50000/50000 [==============================] - 16s 317us/step - loss: 0.0119 - acc: 0.9963 - val_loss: 2.3192 - val_acc: 0.7100\n",
            "Epoch 54/200\n",
            "50000/50000 [==============================] - 16s 317us/step - loss: 0.0103 - acc: 0.9972 - val_loss: 2.2494 - val_acc: 0.7167\n",
            "Epoch 55/200\n",
            "50000/50000 [==============================] - 16s 318us/step - loss: 0.0113 - acc: 0.9968 - val_loss: 2.2850 - val_acc: 0.7120\n",
            "Epoch 56/200\n",
            "50000/50000 [==============================] - 16s 317us/step - loss: 0.0105 - acc: 0.9968 - val_loss: 2.2959 - val_acc: 0.7117\n",
            "Epoch 57/200\n",
            "50000/50000 [==============================] - 16s 317us/step - loss: 0.0089 - acc: 0.9974 - val_loss: 2.3339 - val_acc: 0.7167\n",
            "Epoch 58/200\n",
            "50000/50000 [==============================] - 16s 319us/step - loss: 0.0102 - acc: 0.9971 - val_loss: 2.3486 - val_acc: 0.7176\n",
            "Epoch 59/200\n",
            "50000/50000 [==============================] - 16s 317us/step - loss: 0.0102 - acc: 0.9970 - val_loss: 2.4213 - val_acc: 0.7086\n",
            "Epoch 60/200\n",
            "50000/50000 [==============================] - 16s 317us/step - loss: 0.0080 - acc: 0.9976 - val_loss: 2.4293 - val_acc: 0.7165\n",
            "Epoch 61/200\n",
            "50000/50000 [==============================] - 16s 318us/step - loss: 0.0090 - acc: 0.9972 - val_loss: 2.4515 - val_acc: 0.7158\n",
            "Epoch 62/200\n",
            "50000/50000 [==============================] - 16s 317us/step - loss: 0.0086 - acc: 0.9976 - val_loss: 2.4719 - val_acc: 0.7059\n",
            "Epoch 63/200\n",
            "50000/50000 [==============================] - 16s 316us/step - loss: 0.0088 - acc: 0.9972 - val_loss: 2.5762 - val_acc: 0.6970\n",
            "Epoch 64/200\n",
            "50000/50000 [==============================] - 16s 317us/step - loss: 0.0086 - acc: 0.9975 - val_loss: 2.5137 - val_acc: 0.7080\n",
            "Epoch 65/200\n",
            "50000/50000 [==============================] - 16s 318us/step - loss: 0.0091 - acc: 0.9975 - val_loss: 2.5790 - val_acc: 0.7062\n",
            "Epoch 66/200\n",
            "50000/50000 [==============================] - 16s 318us/step - loss: 0.0100 - acc: 0.9970 - val_loss: 2.5196 - val_acc: 0.7135\n",
            "Epoch 67/200\n",
            "50000/50000 [==============================] - 16s 317us/step - loss: 0.0080 - acc: 0.9976 - val_loss: 2.4993 - val_acc: 0.7224\n",
            "Epoch 68/200\n",
            "50000/50000 [==============================] - 16s 318us/step - loss: 0.0090 - acc: 0.9974 - val_loss: 2.4721 - val_acc: 0.7160\n",
            "Epoch 69/200\n",
            "50000/50000 [==============================] - 16s 317us/step - loss: 0.0076 - acc: 0.9977 - val_loss: 2.6556 - val_acc: 0.7080\n",
            "Epoch 70/200\n",
            "50000/50000 [==============================] - 16s 317us/step - loss: 0.0076 - acc: 0.9976 - val_loss: 2.6280 - val_acc: 0.7153\n",
            "Epoch 71/200\n",
            "50000/50000 [==============================] - 16s 317us/step - loss: 0.0077 - acc: 0.9976 - val_loss: 2.5464 - val_acc: 0.7164\n",
            "Epoch 72/200\n",
            "50000/50000 [==============================] - 16s 317us/step - loss: 0.0073 - acc: 0.9977 - val_loss: 2.7695 - val_acc: 0.7046\n",
            "Epoch 73/200\n",
            "50000/50000 [==============================] - 16s 318us/step - loss: 0.0079 - acc: 0.9976 - val_loss: 2.6120 - val_acc: 0.7100\n",
            "Epoch 74/200\n",
            "50000/50000 [==============================] - 16s 316us/step - loss: 0.0076 - acc: 0.9979 - val_loss: 2.6236 - val_acc: 0.7094\n",
            "Epoch 75/200\n",
            "50000/50000 [==============================] - 16s 317us/step - loss: 0.0070 - acc: 0.9979 - val_loss: 2.6947 - val_acc: 0.7082\n",
            "Epoch 76/200\n",
            "50000/50000 [==============================] - 16s 317us/step - loss: 0.0065 - acc: 0.9980 - val_loss: 2.6074 - val_acc: 0.7186\n",
            "Epoch 77/200\n",
            "50000/50000 [==============================] - 16s 318us/step - loss: 0.0080 - acc: 0.9979 - val_loss: 2.6610 - val_acc: 0.7156\n",
            "Epoch 78/200\n",
            "50000/50000 [==============================] - 16s 317us/step - loss: 0.0077 - acc: 0.9976 - val_loss: 2.6164 - val_acc: 0.7186\n",
            "Epoch 79/200\n",
            "50000/50000 [==============================] - 16s 318us/step - loss: 0.0067 - acc: 0.9981 - val_loss: 2.6669 - val_acc: 0.7169\n",
            "Epoch 80/200\n",
            "50000/50000 [==============================] - 16s 318us/step - loss: 0.0063 - acc: 0.9983 - val_loss: 2.6235 - val_acc: 0.7142\n",
            "Epoch 81/200\n",
            "50000/50000 [==============================] - 16s 318us/step - loss: 0.0062 - acc: 0.9982 - val_loss: 2.7272 - val_acc: 0.7051\n",
            "Epoch 82/200\n",
            "50000/50000 [==============================] - 16s 317us/step - loss: 0.0079 - acc: 0.9976 - val_loss: 2.7909 - val_acc: 0.7070\n",
            "Epoch 83/200\n",
            "50000/50000 [==============================] - 16s 319us/step - loss: 0.0065 - acc: 0.9980 - val_loss: 2.7312 - val_acc: 0.7091\n",
            "Epoch 84/200\n",
            "50000/50000 [==============================] - 16s 317us/step - loss: 0.0064 - acc: 0.9980 - val_loss: 2.6719 - val_acc: 0.7138\n",
            "Epoch 85/200\n",
            "50000/50000 [==============================] - 16s 318us/step - loss: 0.0065 - acc: 0.9981 - val_loss: 2.6970 - val_acc: 0.7163\n",
            "Epoch 86/200\n",
            "50000/50000 [==============================] - 16s 317us/step - loss: 0.0052 - acc: 0.9986 - val_loss: 2.6924 - val_acc: 0.7172\n",
            "Epoch 87/200\n",
            "50000/50000 [==============================] - 16s 318us/step - loss: 0.0060 - acc: 0.9983 - val_loss: 2.6923 - val_acc: 0.7188\n",
            "Epoch 88/200\n",
            "50000/50000 [==============================] - 16s 318us/step - loss: 0.0070 - acc: 0.9979 - val_loss: 2.6811 - val_acc: 0.7167\n",
            "Epoch 89/200\n",
            "50000/50000 [==============================] - 16s 317us/step - loss: 0.0059 - acc: 0.9982 - val_loss: 2.7591 - val_acc: 0.7159\n",
            "Epoch 90/200\n",
            "50000/50000 [==============================] - 16s 318us/step - loss: 0.0066 - acc: 0.9980 - val_loss: 2.7769 - val_acc: 0.7175\n",
            "Epoch 91/200\n",
            "50000/50000 [==============================] - 16s 318us/step - loss: 0.0062 - acc: 0.9982 - val_loss: 2.8034 - val_acc: 0.7120\n",
            "Epoch 92/200\n",
            "50000/50000 [==============================] - 16s 318us/step - loss: 0.0060 - acc: 0.9983 - val_loss: 2.7711 - val_acc: 0.7116\n",
            "Epoch 93/200\n",
            "50000/50000 [==============================] - 16s 317us/step - loss: 0.0063 - acc: 0.9982 - val_loss: 2.7977 - val_acc: 0.7115\n",
            "Epoch 94/200\n",
            "50000/50000 [==============================] - 16s 317us/step - loss: 0.0073 - acc: 0.9977 - val_loss: 2.7313 - val_acc: 0.7160\n",
            "Epoch 95/200\n",
            "50000/50000 [==============================] - 16s 317us/step - loss: 0.0062 - acc: 0.9983 - val_loss: 2.7640 - val_acc: 0.7099\n",
            "Epoch 96/200\n",
            "50000/50000 [==============================] - 16s 318us/step - loss: 0.0057 - acc: 0.9983 - val_loss: 2.8131 - val_acc: 0.7188\n",
            "Epoch 97/200\n",
            "50000/50000 [==============================] - 16s 319us/step - loss: 0.0064 - acc: 0.9979 - val_loss: 2.8092 - val_acc: 0.7159\n",
            "Epoch 98/200\n",
            "50000/50000 [==============================] - 16s 319us/step - loss: 0.0071 - acc: 0.9979 - val_loss: 2.7911 - val_acc: 0.7141\n",
            "Epoch 99/200\n",
            "50000/50000 [==============================] - 16s 321us/step - loss: 0.0069 - acc: 0.9978 - val_loss: 2.7986 - val_acc: 0.7054\n",
            "Epoch 100/200\n",
            "50000/50000 [==============================] - 16s 317us/step - loss: 0.0068 - acc: 0.9977 - val_loss: 2.9016 - val_acc: 0.7024\n",
            "Epoch 101/200\n",
            "50000/50000 [==============================] - 16s 320us/step - loss: 0.0074 - acc: 0.9977 - val_loss: 2.8541 - val_acc: 0.7141\n",
            "Epoch 102/200\n",
            "50000/50000 [==============================] - 16s 321us/step - loss: 0.0058 - acc: 0.9981 - val_loss: 2.9206 - val_acc: 0.7041\n",
            "Epoch 103/200\n",
            "50000/50000 [==============================] - 16s 319us/step - loss: 0.0067 - acc: 0.9982 - val_loss: 2.8251 - val_acc: 0.7189\n",
            "Epoch 104/200\n",
            "50000/50000 [==============================] - 16s 319us/step - loss: 0.0070 - acc: 0.9980 - val_loss: 2.8200 - val_acc: 0.7159\n",
            "Epoch 105/200\n",
            "50000/50000 [==============================] - 16s 317us/step - loss: 0.0062 - acc: 0.9984 - val_loss: 2.8585 - val_acc: 0.7114\n",
            "Epoch 106/200\n",
            "50000/50000 [==============================] - 16s 319us/step - loss: 0.0061 - acc: 0.9983 - val_loss: 2.8833 - val_acc: 0.7115\n",
            "Epoch 107/200\n",
            "50000/50000 [==============================] - 16s 317us/step - loss: 0.0052 - acc: 0.9983 - val_loss: 2.8516 - val_acc: 0.7187\n",
            "Epoch 108/200\n",
            "50000/50000 [==============================] - 16s 317us/step - loss: 0.0060 - acc: 0.9981 - val_loss: 2.8750 - val_acc: 0.7123\n",
            "Epoch 109/200\n",
            "50000/50000 [==============================] - 16s 318us/step - loss: 0.0072 - acc: 0.9977 - val_loss: 2.9534 - val_acc: 0.7076\n",
            "Epoch 110/200\n",
            "50000/50000 [==============================] - 16s 318us/step - loss: 0.0075 - acc: 0.9980 - val_loss: 2.9133 - val_acc: 0.7134\n",
            "Epoch 111/200\n",
            "50000/50000 [==============================] - 16s 319us/step - loss: 0.0065 - acc: 0.9980 - val_loss: 2.9585 - val_acc: 0.7092\n",
            "Epoch 112/200\n",
            "50000/50000 [==============================] - 16s 317us/step - loss: 0.0072 - acc: 0.9977 - val_loss: 2.9013 - val_acc: 0.7158\n",
            "Epoch 113/200\n",
            "50000/50000 [==============================] - 16s 319us/step - loss: 0.0063 - acc: 0.9981 - val_loss: 3.0765 - val_acc: 0.7082\n",
            "Epoch 114/200\n",
            "50000/50000 [==============================] - 16s 320us/step - loss: 0.0064 - acc: 0.9982 - val_loss: 2.9038 - val_acc: 0.7133\n",
            "Epoch 115/200\n",
            "50000/50000 [==============================] - 16s 317us/step - loss: 0.0068 - acc: 0.9980 - val_loss: 3.0427 - val_acc: 0.7097\n",
            "Epoch 116/200\n",
            "50000/50000 [==============================] - 16s 319us/step - loss: 0.0063 - acc: 0.9981 - val_loss: 2.9338 - val_acc: 0.7167\n",
            "Epoch 117/200\n",
            "50000/50000 [==============================] - 16s 319us/step - loss: 0.0065 - acc: 0.9980 - val_loss: 2.9481 - val_acc: 0.7113\n",
            "Epoch 118/200\n",
            "50000/50000 [==============================] - 16s 318us/step - loss: 0.0062 - acc: 0.9983 - val_loss: 3.0221 - val_acc: 0.7028\n",
            "Epoch 119/200\n",
            "50000/50000 [==============================] - 16s 318us/step - loss: 0.0076 - acc: 0.9978 - val_loss: 2.9424 - val_acc: 0.7081\n",
            "Epoch 120/200\n",
            "50000/50000 [==============================] - 16s 317us/step - loss: 0.0052 - acc: 0.9985 - val_loss: 2.9620 - val_acc: 0.7108\n",
            "Epoch 121/200\n",
            "50000/50000 [==============================] - 16s 318us/step - loss: 0.0067 - acc: 0.9979 - val_loss: 3.1133 - val_acc: 0.7004\n",
            "Epoch 122/200\n",
            "50000/50000 [==============================] - 16s 319us/step - loss: 0.0066 - acc: 0.9980 - val_loss: 2.9662 - val_acc: 0.7116\n",
            "Epoch 123/200\n",
            "50000/50000 [==============================] - 16s 318us/step - loss: 0.0058 - acc: 0.9982 - val_loss: 3.0504 - val_acc: 0.7027\n",
            "Epoch 124/200\n",
            "50000/50000 [==============================] - 16s 318us/step - loss: 0.0071 - acc: 0.9980 - val_loss: 2.9586 - val_acc: 0.7091\n",
            "Epoch 125/200\n",
            "50000/50000 [==============================] - 16s 318us/step - loss: 0.0065 - acc: 0.9981 - val_loss: 2.9704 - val_acc: 0.7079\n",
            "Epoch 126/200\n",
            "50000/50000 [==============================] - 16s 319us/step - loss: 0.0071 - acc: 0.9978 - val_loss: 3.0022 - val_acc: 0.7137\n",
            "Epoch 127/200\n",
            "50000/50000 [==============================] - 16s 317us/step - loss: 0.0061 - acc: 0.9982 - val_loss: 3.0471 - val_acc: 0.6991\n",
            "Epoch 128/200\n",
            "50000/50000 [==============================] - 16s 317us/step - loss: 0.0051 - acc: 0.9982 - val_loss: 3.0356 - val_acc: 0.7139\n",
            "Epoch 129/200\n",
            "50000/50000 [==============================] - 16s 318us/step - loss: 0.0063 - acc: 0.9983 - val_loss: 2.9926 - val_acc: 0.7129\n",
            "Epoch 130/200\n",
            "50000/50000 [==============================] - 16s 317us/step - loss: 0.0062 - acc: 0.9982 - val_loss: 2.9794 - val_acc: 0.7090\n",
            "Epoch 131/200\n",
            "50000/50000 [==============================] - 16s 318us/step - loss: 0.0074 - acc: 0.9980 - val_loss: 3.0749 - val_acc: 0.7095\n",
            "Epoch 132/200\n",
            "50000/50000 [==============================] - 16s 318us/step - loss: 0.0073 - acc: 0.9980 - val_loss: 2.9613 - val_acc: 0.7108\n",
            "Epoch 133/200\n",
            "50000/50000 [==============================] - 16s 318us/step - loss: 0.0076 - acc: 0.9977 - val_loss: 3.1078 - val_acc: 0.7087\n",
            "Epoch 134/200\n",
            "50000/50000 [==============================] - 16s 320us/step - loss: 0.0075 - acc: 0.9980 - val_loss: 3.1406 - val_acc: 0.7005\n",
            "Epoch 135/200\n",
            "50000/50000 [==============================] - 16s 316us/step - loss: 0.0064 - acc: 0.9981 - val_loss: 3.0755 - val_acc: 0.7103\n",
            "Epoch 136/200\n",
            "50000/50000 [==============================] - 16s 318us/step - loss: 0.0068 - acc: 0.9983 - val_loss: 2.9817 - val_acc: 0.7105\n",
            "Epoch 137/200\n",
            "50000/50000 [==============================] - 16s 317us/step - loss: 0.0077 - acc: 0.9978 - val_loss: 3.1003 - val_acc: 0.7046\n",
            "Epoch 138/200\n",
            "50000/50000 [==============================] - 16s 314us/step - loss: 0.0066 - acc: 0.9982 - val_loss: 3.0240 - val_acc: 0.7104\n",
            "Epoch 139/200\n",
            "50000/50000 [==============================] - 16s 313us/step - loss: 0.0064 - acc: 0.9981 - val_loss: 2.9925 - val_acc: 0.7135\n",
            "Epoch 140/200\n",
            "50000/50000 [==============================] - 16s 315us/step - loss: 0.0064 - acc: 0.9982 - val_loss: 3.1179 - val_acc: 0.7062\n",
            "Epoch 141/200\n",
            "50000/50000 [==============================] - 16s 317us/step - loss: 0.0061 - acc: 0.9983 - val_loss: 3.0213 - val_acc: 0.7128\n",
            "Epoch 142/200\n",
            "50000/50000 [==============================] - 16s 315us/step - loss: 0.0084 - acc: 0.9974 - val_loss: 3.0082 - val_acc: 0.7155\n",
            "Epoch 143/200\n",
            "50000/50000 [==============================] - 16s 314us/step - loss: 0.0061 - acc: 0.9983 - val_loss: 3.0168 - val_acc: 0.7132\n",
            "Epoch 144/200\n",
            "50000/50000 [==============================] - 16s 315us/step - loss: 0.0082 - acc: 0.9974 - val_loss: 3.0488 - val_acc: 0.7104\n",
            "Epoch 145/200\n",
            "50000/50000 [==============================] - 16s 314us/step - loss: 0.0074 - acc: 0.9979 - val_loss: 3.0676 - val_acc: 0.7064\n",
            "Epoch 146/200\n",
            "50000/50000 [==============================] - 16s 313us/step - loss: 0.0058 - acc: 0.9981 - val_loss: 3.0271 - val_acc: 0.7130\n",
            "Epoch 147/200\n",
            "50000/50000 [==============================] - 16s 314us/step - loss: 0.0067 - acc: 0.9982 - val_loss: 2.9883 - val_acc: 0.7114\n",
            "Epoch 148/200\n",
            "50000/50000 [==============================] - 16s 314us/step - loss: 0.0073 - acc: 0.9979 - val_loss: 3.0366 - val_acc: 0.7068\n",
            "Epoch 149/200\n",
            "50000/50000 [==============================] - 16s 314us/step - loss: 0.0063 - acc: 0.9982 - val_loss: 3.0317 - val_acc: 0.7113\n",
            "Epoch 150/200\n",
            "50000/50000 [==============================] - 16s 315us/step - loss: 0.0071 - acc: 0.9980 - val_loss: 3.0068 - val_acc: 0.7144\n",
            "Epoch 151/200\n",
            "50000/50000 [==============================] - 16s 314us/step - loss: 0.0052 - acc: 0.9984 - val_loss: 3.0992 - val_acc: 0.7128\n",
            "Epoch 152/200\n",
            "50000/50000 [==============================] - 16s 313us/step - loss: 0.0083 - acc: 0.9978 - val_loss: 3.1185 - val_acc: 0.7128\n",
            "Epoch 153/200\n",
            "50000/50000 [==============================] - 16s 315us/step - loss: 0.0065 - acc: 0.9981 - val_loss: 3.1135 - val_acc: 0.7067\n",
            "Epoch 154/200\n",
            "50000/50000 [==============================] - 16s 314us/step - loss: 0.0065 - acc: 0.9981 - val_loss: 3.2603 - val_acc: 0.7015\n",
            "Epoch 155/200\n",
            "50000/50000 [==============================] - 16s 315us/step - loss: 0.0071 - acc: 0.9983 - val_loss: 3.0866 - val_acc: 0.7055\n",
            "Epoch 156/200\n",
            "50000/50000 [==============================] - 16s 318us/step - loss: 0.0077 - acc: 0.9977 - val_loss: 3.1581 - val_acc: 0.7046\n",
            "Epoch 157/200\n",
            "50000/50000 [==============================] - 16s 313us/step - loss: 0.0076 - acc: 0.9980 - val_loss: 3.2603 - val_acc: 0.7081\n",
            "Epoch 158/200\n",
            "50000/50000 [==============================] - 16s 313us/step - loss: 0.0063 - acc: 0.9981 - val_loss: 3.1577 - val_acc: 0.7057\n",
            "Epoch 159/200\n",
            "50000/50000 [==============================] - 16s 314us/step - loss: 0.0061 - acc: 0.9985 - val_loss: 3.0722 - val_acc: 0.7117\n",
            "Epoch 160/200\n",
            "50000/50000 [==============================] - 16s 314us/step - loss: 0.0068 - acc: 0.9978 - val_loss: 3.1140 - val_acc: 0.7096\n",
            "Epoch 161/200\n",
            "50000/50000 [==============================] - 16s 314us/step - loss: 0.0059 - acc: 0.9983 - val_loss: 3.1367 - val_acc: 0.7042\n",
            "Epoch 162/200\n",
            "50000/50000 [==============================] - 16s 315us/step - loss: 0.0063 - acc: 0.9980 - val_loss: 3.1326 - val_acc: 0.7082\n",
            "Epoch 163/200\n",
            "50000/50000 [==============================] - 16s 314us/step - loss: 0.0079 - acc: 0.9975 - val_loss: 3.0589 - val_acc: 0.7099\n",
            "Epoch 164/200\n",
            "50000/50000 [==============================] - 16s 315us/step - loss: 0.0062 - acc: 0.9984 - val_loss: 3.1452 - val_acc: 0.7112\n",
            "Epoch 165/200\n",
            "50000/50000 [==============================] - 16s 314us/step - loss: 0.0069 - acc: 0.9979 - val_loss: 3.0912 - val_acc: 0.7133\n",
            "Epoch 166/200\n",
            "50000/50000 [==============================] - 16s 314us/step - loss: 0.0076 - acc: 0.9981 - val_loss: 3.1595 - val_acc: 0.7141\n",
            "Epoch 167/200\n",
            "50000/50000 [==============================] - 16s 314us/step - loss: 0.0056 - acc: 0.9984 - val_loss: 3.1761 - val_acc: 0.7043\n",
            "Epoch 168/200\n",
            "50000/50000 [==============================] - 16s 314us/step - loss: 0.0070 - acc: 0.9980 - val_loss: 3.1837 - val_acc: 0.7118\n",
            "Epoch 169/200\n",
            "50000/50000 [==============================] - 16s 313us/step - loss: 0.0057 - acc: 0.9983 - val_loss: 3.1674 - val_acc: 0.7058\n",
            "Epoch 170/200\n",
            "50000/50000 [==============================] - 16s 314us/step - loss: 0.0075 - acc: 0.9980 - val_loss: 3.1269 - val_acc: 0.7120\n",
            "Epoch 171/200\n",
            "50000/50000 [==============================] - 16s 314us/step - loss: 0.0056 - acc: 0.9984 - val_loss: 3.1307 - val_acc: 0.7068\n",
            "Epoch 172/200\n",
            "50000/50000 [==============================] - 16s 315us/step - loss: 0.0075 - acc: 0.9980 - val_loss: 3.0901 - val_acc: 0.7143\n",
            "Epoch 173/200\n",
            "50000/50000 [==============================] - 16s 314us/step - loss: 0.0060 - acc: 0.9983 - val_loss: 3.1784 - val_acc: 0.7143\n",
            "Epoch 174/200\n",
            "50000/50000 [==============================] - 16s 314us/step - loss: 0.0066 - acc: 0.9983 - val_loss: 3.2162 - val_acc: 0.7091\n",
            "Epoch 175/200\n",
            "50000/50000 [==============================] - 16s 317us/step - loss: 0.0067 - acc: 0.9982 - val_loss: 3.1245 - val_acc: 0.7116\n",
            "Epoch 176/200\n",
            "50000/50000 [==============================] - 16s 316us/step - loss: 0.0070 - acc: 0.9983 - val_loss: 3.1849 - val_acc: 0.7089\n",
            "Epoch 177/200\n",
            "50000/50000 [==============================] - 16s 313us/step - loss: 0.0072 - acc: 0.9979 - val_loss: 3.1356 - val_acc: 0.7113\n",
            "Epoch 178/200\n",
            "50000/50000 [==============================] - 16s 314us/step - loss: 0.0077 - acc: 0.9979 - val_loss: 3.1678 - val_acc: 0.7098\n",
            "Epoch 179/200\n",
            "50000/50000 [==============================] - 16s 315us/step - loss: 0.0065 - acc: 0.9983 - val_loss: 3.1858 - val_acc: 0.7122\n",
            "Epoch 180/200\n",
            "50000/50000 [==============================] - 16s 314us/step - loss: 0.0072 - acc: 0.9982 - val_loss: 3.2457 - val_acc: 0.7080\n",
            "Epoch 181/200\n",
            "50000/50000 [==============================] - 16s 315us/step - loss: 0.0056 - acc: 0.9983 - val_loss: 3.1878 - val_acc: 0.7093\n",
            "Epoch 182/200\n",
            "50000/50000 [==============================] - 16s 315us/step - loss: 0.0061 - acc: 0.9983 - val_loss: 3.2362 - val_acc: 0.7018\n",
            "Epoch 183/200\n",
            "50000/50000 [==============================] - 16s 315us/step - loss: 0.0058 - acc: 0.9983 - val_loss: 3.2026 - val_acc: 0.7113\n",
            "Epoch 184/200\n",
            "50000/50000 [==============================] - 16s 317us/step - loss: 0.0075 - acc: 0.9981 - val_loss: 3.1855 - val_acc: 0.7057\n",
            "Epoch 185/200\n",
            "50000/50000 [==============================] - 16s 317us/step - loss: 0.0063 - acc: 0.9984 - val_loss: 3.2178 - val_acc: 0.7106\n",
            "Epoch 186/200\n",
            "50000/50000 [==============================] - 16s 314us/step - loss: 0.0064 - acc: 0.9982 - val_loss: 3.1946 - val_acc: 0.7129\n",
            "Epoch 187/200\n",
            "50000/50000 [==============================] - 16s 317us/step - loss: 0.0051 - acc: 0.9986 - val_loss: 3.1981 - val_acc: 0.7148\n",
            "Epoch 188/200\n",
            "50000/50000 [==============================] - 16s 315us/step - loss: 0.0071 - acc: 0.9980 - val_loss: 3.1791 - val_acc: 0.7139\n",
            "Epoch 189/200\n",
            "50000/50000 [==============================] - 16s 317us/step - loss: 0.0054 - acc: 0.9985 - val_loss: 3.2729 - val_acc: 0.7076\n",
            "Epoch 190/200\n",
            "50000/50000 [==============================] - 16s 320us/step - loss: 0.0061 - acc: 0.9982 - val_loss: 3.1767 - val_acc: 0.7054\n",
            "Epoch 191/200\n",
            "50000/50000 [==============================] - 16s 317us/step - loss: 0.0077 - acc: 0.9979 - val_loss: 3.3322 - val_acc: 0.7065\n",
            "Epoch 192/200\n",
            "50000/50000 [==============================] - 16s 317us/step - loss: 0.0064 - acc: 0.9982 - val_loss: 3.1899 - val_acc: 0.7108\n",
            "Epoch 193/200\n",
            "50000/50000 [==============================] - 16s 316us/step - loss: 0.0071 - acc: 0.9983 - val_loss: 3.2217 - val_acc: 0.7091\n",
            "Epoch 194/200\n",
            "50000/50000 [==============================] - 16s 316us/step - loss: 0.0081 - acc: 0.9977 - val_loss: 3.2994 - val_acc: 0.7100\n",
            "Epoch 195/200\n",
            "50000/50000 [==============================] - 16s 321us/step - loss: 0.0077 - acc: 0.9978 - val_loss: 3.2148 - val_acc: 0.7060\n",
            "Epoch 196/200\n",
            "50000/50000 [==============================] - 16s 318us/step - loss: 0.0063 - acc: 0.9983 - val_loss: 3.2112 - val_acc: 0.7136\n",
            "Epoch 197/200\n",
            "50000/50000 [==============================] - 16s 314us/step - loss: 0.0065 - acc: 0.9983 - val_loss: 3.3023 - val_acc: 0.7100\n",
            "Epoch 198/200\n",
            "50000/50000 [==============================] - 16s 314us/step - loss: 0.0092 - acc: 0.9975 - val_loss: 3.3462 - val_acc: 0.6925\n",
            "Epoch 199/200\n",
            "50000/50000 [==============================] - 16s 314us/step - loss: 0.0067 - acc: 0.9982 - val_loss: 3.1643 - val_acc: 0.7111\n",
            "Epoch 200/200\n",
            "50000/50000 [==============================] - 16s 316us/step - loss: 0.0079 - acc: 0.9978 - val_loss: 3.1869 - val_acc: 0.7141\n"
          ],
          "name": "stdout"
        },
        {
          "output_type": "execute_result",
          "data": {
            "text/plain": [
              "<keras.callbacks.History at 0x7f491e1136a0>"
            ]
          },
          "metadata": {
            "tags": []
          },
          "execution_count": 13
        }
      ]
    }
  ]
}